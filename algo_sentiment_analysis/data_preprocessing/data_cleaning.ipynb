{
 "cells": [
  {
   "attachments": {},
   "cell_type": "markdown",
   "metadata": {},
   "source": [
    "Import Library"
   ]
  },
  {
   "cell_type": "code",
   "execution_count": 158,
   "metadata": {},
   "outputs": [
    {
     "name": "stderr",
     "output_type": "stream",
     "text": [
      "[nltk_data] Downloading package punkt to\n",
      "[nltk_data]     C:\\Users\\samle\\AppData\\Roaming\\nltk_data...\n",
      "[nltk_data]   Package punkt is already up-to-date!\n",
      "[nltk_data] Downloading package stopwords to\n",
      "[nltk_data]     C:\\Users\\samle\\AppData\\Roaming\\nltk_data...\n",
      "[nltk_data]   Package stopwords is already up-to-date!\n"
     ]
    },
    {
     "data": {
      "text/plain": [
       "True"
      ]
     },
     "execution_count": 158,
     "metadata": {},
     "output_type": "execute_result"
    }
   ],
   "source": [
    "import nltk\n",
    "nltk.download('punkt')\n",
    "nltk.download('stopwords')"
   ]
  },
  {
   "cell_type": "code",
   "execution_count": 159,
   "metadata": {},
   "outputs": [],
   "source": [
    "import pandas as pd\n",
    "import re\n",
    "import unicodedata\n",
    "\n",
    "from nltk.tokenize import word_tokenize\n",
    "from nltk.corpus import stopwords"
   ]
  },
  {
   "attachments": {},
   "cell_type": "markdown",
   "metadata": {},
   "source": [
    "Read Data"
   ]
  },
  {
   "cell_type": "code",
   "execution_count": 160,
   "metadata": {},
   "outputs": [],
   "source": [
    "df_reviews = pd.read_json('../../data/final/reviews.json.gz', orient=\"records\", compression=\"gzip\")"
   ]
  },
  {
   "cell_type": "code",
   "execution_count": 161,
   "metadata": {},
   "outputs": [
    {
     "data": {
      "text/html": [
       "<div>\n",
       "<style scoped>\n",
       "    .dataframe tbody tr th:only-of-type {\n",
       "        vertical-align: middle;\n",
       "    }\n",
       "\n",
       "    .dataframe tbody tr th {\n",
       "        vertical-align: top;\n",
       "    }\n",
       "\n",
       "    .dataframe thead th {\n",
       "        text-align: right;\n",
       "    }\n",
       "</style>\n",
       "<table border=\"1\" class=\"dataframe\">\n",
       "  <thead>\n",
       "    <tr style=\"text-align: right;\">\n",
       "      <th></th>\n",
       "      <th>user_id</th>\n",
       "      <th>product_id</th>\n",
       "      <th>ratings</th>\n",
       "      <th>review_text</th>\n",
       "      <th>summary</th>\n",
       "      <th>created_at</th>\n",
       "    </tr>\n",
       "  </thead>\n",
       "  <tbody>\n",
       "    <tr>\n",
       "      <th>0</th>\n",
       "      <td>A0203183BAH3TR08FZGB</td>\n",
       "      <td>B0043T7FHK</td>\n",
       "      <td>5</td>\n",
       "      <td>I got this to run as a dual monitor.  This is ...</td>\n",
       "      <td>This is my second time purchasing this monitor...</td>\n",
       "      <td>2015-06-30</td>\n",
       "    </tr>\n",
       "    <tr>\n",
       "      <th>1</th>\n",
       "      <td>A0261431Y0V4MHWY4B7W</td>\n",
       "      <td>B00AFH2E8E</td>\n",
       "      <td>4</td>\n",
       "      <td>Not as good as I had hoped, music is very low,...</td>\n",
       "      <td>Bluetooth headset</td>\n",
       "      <td>2014-08-03</td>\n",
       "    </tr>\n",
       "    <tr>\n",
       "      <th>2</th>\n",
       "      <td>A034116598G557EYZ9BC</td>\n",
       "      <td>B0013FRNKG</td>\n",
       "      <td>5</td>\n",
       "      <td>Appreciate if product\\nNeed to buy one more if...</td>\n",
       "      <td>great value</td>\n",
       "      <td>2012-11-28</td>\n",
       "    </tr>\n",
       "    <tr>\n",
       "      <th>3</th>\n",
       "      <td>A0404374X0HL5T332XSN</td>\n",
       "      <td>B00MNOPS1C</td>\n",
       "      <td>3</td>\n",
       "      <td>You get what you pay for</td>\n",
       "      <td>Three Stars</td>\n",
       "      <td>2016-02-02</td>\n",
       "    </tr>\n",
       "    <tr>\n",
       "      <th>4</th>\n",
       "      <td>A0431622H67YR5IPJRN</td>\n",
       "      <td>B0058UUR6E</td>\n",
       "      <td>5</td>\n",
       "      <td>Arrived in 2 days. working great. Recommend to...</td>\n",
       "      <td>working great. Recommend to others</td>\n",
       "      <td>2015-03-11</td>\n",
       "    </tr>\n",
       "  </tbody>\n",
       "</table>\n",
       "</div>"
      ],
      "text/plain": [
       "                user_id  product_id  ratings  \\\n",
       "0  A0203183BAH3TR08FZGB  B0043T7FHK        5   \n",
       "1  A0261431Y0V4MHWY4B7W  B00AFH2E8E        4   \n",
       "2  A034116598G557EYZ9BC  B0013FRNKG        5   \n",
       "3  A0404374X0HL5T332XSN  B00MNOPS1C        3   \n",
       "4   A0431622H67YR5IPJRN  B0058UUR6E        5   \n",
       "\n",
       "                                         review_text  \\\n",
       "0  I got this to run as a dual monitor.  This is ...   \n",
       "1  Not as good as I had hoped, music is very low,...   \n",
       "2  Appreciate if product\\nNeed to buy one more if...   \n",
       "3                           You get what you pay for   \n",
       "4  Arrived in 2 days. working great. Recommend to...   \n",
       "\n",
       "                                             summary created_at  \n",
       "0  This is my second time purchasing this monitor... 2015-06-30  \n",
       "1                                  Bluetooth headset 2014-08-03  \n",
       "2                                        great value 2012-11-28  \n",
       "3                                        Three Stars 2016-02-02  \n",
       "4                 working great. Recommend to others 2015-03-11  "
      ]
     },
     "execution_count": 161,
     "metadata": {},
     "output_type": "execute_result"
    }
   ],
   "source": [
    "df_reviews.head()"
   ]
  },
  {
   "attachments": {},
   "cell_type": "markdown",
   "metadata": {},
   "source": [
    "Clean Data"
   ]
  },
  {
   "cell_type": "code",
   "execution_count": 162,
   "metadata": {},
   "outputs": [],
   "source": [
    "def lowercase_text(text: str):\n",
    "    return text.lower()\n",
    "\n",
    "def remove_html_tags(text: str):\n",
    "    return re.sub(re.compile('<.*?>|&([a-z0-9]+|#[0-9]{1,6}|#x[0-9a-f]{1,6});'), '', text)\n",
    "\n",
    "def remove_url(text: str):\n",
    "    return re.sub(r'https?://\\S+|www\\.\\S+', '', text)\n",
    "\n",
    "def remove_accented_chars(text: str):\n",
    "    return unicodedata.normalize('NFKD', text).encode('ascii', 'ignore').decode('utf-8', 'ignore')\n",
    "\n",
    "def remove_punctuation_and_number(text: str):\n",
    "    return re.sub(r'[^a-zA-Z]', ' ', text)\n",
    "\n",
    "def remove_extra_spaces(text: str):\n",
    "    return re.sub(r'^\\s*|\\s\\s*', ' ', text).strip()\n",
    "\n",
    "def clean_data(text: str):\n",
    "    text = lowercase_text(text)\n",
    "    text = remove_html_tags(text)\n",
    "    text = remove_url(text)\n",
    "    text = remove_accented_chars(text)\n",
    "    text = remove_punctuation_and_number(text)\n",
    "    text = remove_extra_spaces(text)\n",
    "    return text"
   ]
  },
  {
   "cell_type": "code",
   "execution_count": 163,
   "metadata": {},
   "outputs": [],
   "source": [
    "df_reviews['concatenated_review'] = df_reviews[['review_text', 'summary']].apply(\n",
    "    lambda x : \" \".join(str(y) for y in x if str(y) != 'nan'),\n",
    "    axis=1\n",
    ")\n",
    "\n",
    "df_preprocessing_data = df_reviews[['concatenated_review']].rename(columns = {\"concatenated_review\" : \"review_text\"})"
   ]
  },
  {
   "cell_type": "code",
   "execution_count": 164,
   "metadata": {},
   "outputs": [],
   "source": [
    "df_preprocessing_data['first_cleaned_review'] = df_preprocessing_data['review_text'].apply(clean_data)"
   ]
  },
  {
   "cell_type": "code",
   "execution_count": 165,
   "metadata": {},
   "outputs": [
    {
     "data": {
      "text/html": [
       "<div>\n",
       "<style scoped>\n",
       "    .dataframe tbody tr th:only-of-type {\n",
       "        vertical-align: middle;\n",
       "    }\n",
       "\n",
       "    .dataframe tbody tr th {\n",
       "        vertical-align: top;\n",
       "    }\n",
       "\n",
       "    .dataframe thead th {\n",
       "        text-align: right;\n",
       "    }\n",
       "</style>\n",
       "<table border=\"1\" class=\"dataframe\">\n",
       "  <thead>\n",
       "    <tr style=\"text-align: right;\">\n",
       "      <th></th>\n",
       "      <th>review_text</th>\n",
       "      <th>first_cleaned_review</th>\n",
       "    </tr>\n",
       "  </thead>\n",
       "  <tbody>\n",
       "    <tr>\n",
       "      <th>0</th>\n",
       "      <td>I got this to run as a dual monitor.  This is ...</td>\n",
       "      <td>i got this to run as a dual monitor this is my...</td>\n",
       "    </tr>\n",
       "    <tr>\n",
       "      <th>1</th>\n",
       "      <td>Not as good as I had hoped, music is very low,...</td>\n",
       "      <td>not as good as i had hoped music is very low p...</td>\n",
       "    </tr>\n",
       "    <tr>\n",
       "      <th>2</th>\n",
       "      <td>Appreciate if product\\nNeed to buy one more if...</td>\n",
       "      <td>appreciate if product need to buy one more if ...</td>\n",
       "    </tr>\n",
       "    <tr>\n",
       "      <th>3</th>\n",
       "      <td>You get what you pay for Three Stars</td>\n",
       "      <td>you get what you pay for three stars</td>\n",
       "    </tr>\n",
       "    <tr>\n",
       "      <th>4</th>\n",
       "      <td>Arrived in 2 days. working great. Recommend to...</td>\n",
       "      <td>arrived in days working great recommend to oth...</td>\n",
       "    </tr>\n",
       "  </tbody>\n",
       "</table>\n",
       "</div>"
      ],
      "text/plain": [
       "                                         review_text  \\\n",
       "0  I got this to run as a dual monitor.  This is ...   \n",
       "1  Not as good as I had hoped, music is very low,...   \n",
       "2  Appreciate if product\\nNeed to buy one more if...   \n",
       "3               You get what you pay for Three Stars   \n",
       "4  Arrived in 2 days. working great. Recommend to...   \n",
       "\n",
       "                                first_cleaned_review  \n",
       "0  i got this to run as a dual monitor this is my...  \n",
       "1  not as good as i had hoped music is very low p...  \n",
       "2  appreciate if product need to buy one more if ...  \n",
       "3               you get what you pay for three stars  \n",
       "4  arrived in days working great recommend to oth...  "
      ]
     },
     "execution_count": 165,
     "metadata": {},
     "output_type": "execute_result"
    }
   ],
   "source": [
    "df_preprocessing_data.head()"
   ]
  },
  {
   "attachments": {},
   "cell_type": "markdown",
   "metadata": {},
   "source": [
    "Tokenization"
   ]
  },
  {
   "cell_type": "code",
   "execution_count": 166,
   "metadata": {},
   "outputs": [],
   "source": [
    "df_preprocessing_data['tokenized_review'] = df_preprocessing_data['first_cleaned_review'].apply(word_tokenize)"
   ]
  },
  {
   "cell_type": "code",
   "execution_count": 167,
   "metadata": {},
   "outputs": [
    {
     "data": {
      "text/html": [
       "<div>\n",
       "<style scoped>\n",
       "    .dataframe tbody tr th:only-of-type {\n",
       "        vertical-align: middle;\n",
       "    }\n",
       "\n",
       "    .dataframe tbody tr th {\n",
       "        vertical-align: top;\n",
       "    }\n",
       "\n",
       "    .dataframe thead th {\n",
       "        text-align: right;\n",
       "    }\n",
       "</style>\n",
       "<table border=\"1\" class=\"dataframe\">\n",
       "  <thead>\n",
       "    <tr style=\"text-align: right;\">\n",
       "      <th></th>\n",
       "      <th>review_text</th>\n",
       "      <th>first_cleaned_review</th>\n",
       "      <th>tokenized_review</th>\n",
       "    </tr>\n",
       "  </thead>\n",
       "  <tbody>\n",
       "    <tr>\n",
       "      <th>0</th>\n",
       "      <td>I got this to run as a dual monitor.  This is ...</td>\n",
       "      <td>i got this to run as a dual monitor this is my...</td>\n",
       "      <td>[i, got, this, to, run, as, a, dual, monitor, ...</td>\n",
       "    </tr>\n",
       "    <tr>\n",
       "      <th>1</th>\n",
       "      <td>Not as good as I had hoped, music is very low,...</td>\n",
       "      <td>not as good as i had hoped music is very low p...</td>\n",
       "      <td>[not, as, good, as, i, had, hoped, music, is, ...</td>\n",
       "    </tr>\n",
       "    <tr>\n",
       "      <th>2</th>\n",
       "      <td>Appreciate if product\\nNeed to buy one more if...</td>\n",
       "      <td>appreciate if product need to buy one more if ...</td>\n",
       "      <td>[appreciate, if, product, need, to, buy, one, ...</td>\n",
       "    </tr>\n",
       "    <tr>\n",
       "      <th>3</th>\n",
       "      <td>You get what you pay for Three Stars</td>\n",
       "      <td>you get what you pay for three stars</td>\n",
       "      <td>[you, get, what, you, pay, for, three, stars]</td>\n",
       "    </tr>\n",
       "    <tr>\n",
       "      <th>4</th>\n",
       "      <td>Arrived in 2 days. working great. Recommend to...</td>\n",
       "      <td>arrived in days working great recommend to oth...</td>\n",
       "      <td>[arrived, in, days, working, great, recommend,...</td>\n",
       "    </tr>\n",
       "  </tbody>\n",
       "</table>\n",
       "</div>"
      ],
      "text/plain": [
       "                                         review_text  \\\n",
       "0  I got this to run as a dual monitor.  This is ...   \n",
       "1  Not as good as I had hoped, music is very low,...   \n",
       "2  Appreciate if product\\nNeed to buy one more if...   \n",
       "3               You get what you pay for Three Stars   \n",
       "4  Arrived in 2 days. working great. Recommend to...   \n",
       "\n",
       "                                first_cleaned_review  \\\n",
       "0  i got this to run as a dual monitor this is my...   \n",
       "1  not as good as i had hoped music is very low p...   \n",
       "2  appreciate if product need to buy one more if ...   \n",
       "3               you get what you pay for three stars   \n",
       "4  arrived in days working great recommend to oth...   \n",
       "\n",
       "                                    tokenized_review  \n",
       "0  [i, got, this, to, run, as, a, dual, monitor, ...  \n",
       "1  [not, as, good, as, i, had, hoped, music, is, ...  \n",
       "2  [appreciate, if, product, need, to, buy, one, ...  \n",
       "3      [you, get, what, you, pay, for, three, stars]  \n",
       "4  [arrived, in, days, working, great, recommend,...  "
      ]
     },
     "execution_count": 167,
     "metadata": {},
     "output_type": "execute_result"
    }
   ],
   "source": [
    "df_preprocessing_data.head()"
   ]
  },
  {
   "attachments": {},
   "cell_type": "markdown",
   "metadata": {},
   "source": [
    "Stop Word Removal"
   ]
  },
  {
   "cell_type": "code",
   "execution_count": 168,
   "metadata": {},
   "outputs": [],
   "source": [
    "stopword_list = stopwords.words('english')\n",
    "stopword_list.remove('no')\n",
    "stopword_list.remove('not')\n",
    "\n",
    "def remove_stopwords(words):\n",
    "    return [word for word in words if word not in stopword_list]\n",
    "\n",
    "def concatenate_words(words):\n",
    "    return ' '.join(words)"
   ]
  },
  {
   "cell_type": "code",
   "execution_count": 169,
   "metadata": {},
   "outputs": [],
   "source": [
    "df_preprocessing_data['tokenized_filtered_review'] = df_preprocessing_data['tokenized_review'].apply(remove_stopwords)\n",
    "df_preprocessing_data['second_cleaned_review'] = df_preprocessing_data['tokenized_filtered_review'].apply(concatenate_words)"
   ]
  },
  {
   "cell_type": "code",
   "execution_count": 170,
   "metadata": {},
   "outputs": [
    {
     "data": {
      "text/html": [
       "<div>\n",
       "<style scoped>\n",
       "    .dataframe tbody tr th:only-of-type {\n",
       "        vertical-align: middle;\n",
       "    }\n",
       "\n",
       "    .dataframe tbody tr th {\n",
       "        vertical-align: top;\n",
       "    }\n",
       "\n",
       "    .dataframe thead th {\n",
       "        text-align: right;\n",
       "    }\n",
       "</style>\n",
       "<table border=\"1\" class=\"dataframe\">\n",
       "  <thead>\n",
       "    <tr style=\"text-align: right;\">\n",
       "      <th></th>\n",
       "      <th>review_text</th>\n",
       "      <th>first_cleaned_review</th>\n",
       "      <th>tokenized_review</th>\n",
       "      <th>tokenized_filtered_review</th>\n",
       "      <th>second_cleaned_review</th>\n",
       "    </tr>\n",
       "  </thead>\n",
       "  <tbody>\n",
       "    <tr>\n",
       "      <th>0</th>\n",
       "      <td>I got this to run as a dual monitor.  This is ...</td>\n",
       "      <td>i got this to run as a dual monitor this is my...</td>\n",
       "      <td>[i, got, this, to, run, as, a, dual, monitor, ...</td>\n",
       "      <td>[got, run, dual, monitor, second, time, purcha...</td>\n",
       "      <td>got run dual monitor second time purchasing mo...</td>\n",
       "    </tr>\n",
       "    <tr>\n",
       "      <th>1</th>\n",
       "      <td>Not as good as I had hoped, music is very low,...</td>\n",
       "      <td>not as good as i had hoped music is very low p...</td>\n",
       "      <td>[not, as, good, as, i, had, hoped, music, is, ...</td>\n",
       "      <td>[not, good, hoped, music, low, phone, volume, ...</td>\n",
       "      <td>not good hoped music low phone volume pretty g...</td>\n",
       "    </tr>\n",
       "    <tr>\n",
       "      <th>2</th>\n",
       "      <td>Appreciate if product\\nNeed to buy one more if...</td>\n",
       "      <td>appreciate if product need to buy one more if ...</td>\n",
       "      <td>[appreciate, if, product, need, to, buy, one, ...</td>\n",
       "      <td>[appreciate, product, need, buy, one, promotio...</td>\n",
       "      <td>appreciate product need buy one promotion need...</td>\n",
       "    </tr>\n",
       "    <tr>\n",
       "      <th>3</th>\n",
       "      <td>You get what you pay for Three Stars</td>\n",
       "      <td>you get what you pay for three stars</td>\n",
       "      <td>[you, get, what, you, pay, for, three, stars]</td>\n",
       "      <td>[get, pay, three, stars]</td>\n",
       "      <td>get pay three stars</td>\n",
       "    </tr>\n",
       "    <tr>\n",
       "      <th>4</th>\n",
       "      <td>Arrived in 2 days. working great. Recommend to...</td>\n",
       "      <td>arrived in days working great recommend to oth...</td>\n",
       "      <td>[arrived, in, days, working, great, recommend,...</td>\n",
       "      <td>[arrived, days, working, great, recommend, oth...</td>\n",
       "      <td>arrived days working great recommend others wo...</td>\n",
       "    </tr>\n",
       "  </tbody>\n",
       "</table>\n",
       "</div>"
      ],
      "text/plain": [
       "                                         review_text  \\\n",
       "0  I got this to run as a dual monitor.  This is ...   \n",
       "1  Not as good as I had hoped, music is very low,...   \n",
       "2  Appreciate if product\\nNeed to buy one more if...   \n",
       "3               You get what you pay for Three Stars   \n",
       "4  Arrived in 2 days. working great. Recommend to...   \n",
       "\n",
       "                                first_cleaned_review  \\\n",
       "0  i got this to run as a dual monitor this is my...   \n",
       "1  not as good as i had hoped music is very low p...   \n",
       "2  appreciate if product need to buy one more if ...   \n",
       "3               you get what you pay for three stars   \n",
       "4  arrived in days working great recommend to oth...   \n",
       "\n",
       "                                    tokenized_review  \\\n",
       "0  [i, got, this, to, run, as, a, dual, monitor, ...   \n",
       "1  [not, as, good, as, i, had, hoped, music, is, ...   \n",
       "2  [appreciate, if, product, need, to, buy, one, ...   \n",
       "3      [you, get, what, you, pay, for, three, stars]   \n",
       "4  [arrived, in, days, working, great, recommend,...   \n",
       "\n",
       "                           tokenized_filtered_review  \\\n",
       "0  [got, run, dual, monitor, second, time, purcha...   \n",
       "1  [not, good, hoped, music, low, phone, volume, ...   \n",
       "2  [appreciate, product, need, buy, one, promotio...   \n",
       "3                           [get, pay, three, stars]   \n",
       "4  [arrived, days, working, great, recommend, oth...   \n",
       "\n",
       "                               second_cleaned_review  \n",
       "0  got run dual monitor second time purchasing mo...  \n",
       "1  not good hoped music low phone volume pretty g...  \n",
       "2  appreciate product need buy one promotion need...  \n",
       "3                                get pay three stars  \n",
       "4  arrived days working great recommend others wo...  "
      ]
     },
     "execution_count": 170,
     "metadata": {},
     "output_type": "execute_result"
    }
   ],
   "source": [
    "df_preprocessing_data.head()"
   ]
  },
  {
   "attachments": {},
   "cell_type": "markdown",
   "metadata": {},
   "source": [
    "Export as Json"
   ]
  },
  {
   "cell_type": "code",
   "execution_count": 171,
   "metadata": {},
   "outputs": [],
   "source": [
    "df_preprocessing_data[[\n",
    "    \"review_text\",\n",
    "    \"second_cleaned_review\"\n",
    "]].rename(\n",
    "    columns={'second_cleaned_review':'cleaned_review'}\n",
    ").to_json(\n",
    "    '../data/cleaned_reviews.json.gz', compression=\"gzip\", orient=\"records\", indent=2\n",
    ")"
   ]
  }
 ],
 "metadata": {
  "kernelspec": {
   "display_name": "base",
   "language": "python",
   "name": "python3"
  },
  "language_info": {
   "codemirror_mode": {
    "name": "ipython",
    "version": 3
   },
   "file_extension": ".py",
   "mimetype": "text/x-python",
   "name": "python",
   "nbconvert_exporter": "python",
   "pygments_lexer": "ipython3",
   "version": "3.9.13"
  },
  "orig_nbformat": 4
 },
 "nbformat": 4,
 "nbformat_minor": 2
}
