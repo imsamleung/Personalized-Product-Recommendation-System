{
 "cells": [
  {
   "attachments": {},
   "cell_type": "markdown",
   "metadata": {},
   "source": [
    "Import Library"
   ]
  },
  {
   "cell_type": "code",
   "execution_count": 1,
   "metadata": {},
   "outputs": [
    {
     "name": "stderr",
     "output_type": "stream",
     "text": [
      "[nltk_data] Downloading package punkt to\n",
      "[nltk_data]     C:\\Users\\samle\\AppData\\Roaming\\nltk_data...\n",
      "[nltk_data]   Package punkt is already up-to-date!\n",
      "[nltk_data] Downloading package wordnet to\n",
      "[nltk_data]     C:\\Users\\samle\\AppData\\Roaming\\nltk_data...\n",
      "[nltk_data]   Package wordnet is already up-to-date!\n",
      "[nltk_data] Downloading package averaged_perceptron_tagger to\n",
      "[nltk_data]     C:\\Users\\samle\\AppData\\Roaming\\nltk_data...\n",
      "[nltk_data]   Package averaged_perceptron_tagger is already up-to-\n",
      "[nltk_data]       date!\n"
     ]
    },
    {
     "data": {
      "text/plain": [
       "True"
      ]
     },
     "execution_count": 1,
     "metadata": {},
     "output_type": "execute_result"
    }
   ],
   "source": [
    "import nltk\n",
    "nltk.download('punkt')\n",
    "nltk.download('wordnet')\n",
    "nltk.download('averaged_perceptron_tagger')"
   ]
  },
  {
   "cell_type": "code",
   "execution_count": 2,
   "metadata": {},
   "outputs": [],
   "source": [
    "import pandas as pd\n",
    "\n",
    "from nltk.corpus import wordnet\n",
    "from nltk.tokenize import word_tokenize\n",
    "from nltk import pos_tag\n",
    "from nltk.stem import WordNetLemmatizer"
   ]
  },
  {
   "attachments": {},
   "cell_type": "markdown",
   "metadata": {},
   "source": [
    "Read Data"
   ]
  },
  {
   "cell_type": "code",
   "execution_count": 3,
   "metadata": {},
   "outputs": [],
   "source": [
    "df_cleaned_reviews = pd.read_json('../data/cleaned_reviews.json.gz', orient=\"records\", compression=\"gzip\")"
   ]
  },
  {
   "cell_type": "code",
   "execution_count": 4,
   "metadata": {},
   "outputs": [
    {
     "data": {
      "text/html": [
       "<div>\n",
       "<style scoped>\n",
       "    .dataframe tbody tr th:only-of-type {\n",
       "        vertical-align: middle;\n",
       "    }\n",
       "\n",
       "    .dataframe tbody tr th {\n",
       "        vertical-align: top;\n",
       "    }\n",
       "\n",
       "    .dataframe thead th {\n",
       "        text-align: right;\n",
       "    }\n",
       "</style>\n",
       "<table border=\"1\" class=\"dataframe\">\n",
       "  <thead>\n",
       "    <tr style=\"text-align: right;\">\n",
       "      <th></th>\n",
       "      <th>review_text</th>\n",
       "      <th>cleaned_review</th>\n",
       "    </tr>\n",
       "  </thead>\n",
       "  <tbody>\n",
       "    <tr>\n",
       "      <th>0</th>\n",
       "      <td>I got this to run as a dual monitor.  This is ...</td>\n",
       "      <td>got run dual monitor second time purchasing mo...</td>\n",
       "    </tr>\n",
       "    <tr>\n",
       "      <th>1</th>\n",
       "      <td>Not as good as I had hoped, music is very low,...</td>\n",
       "      <td>not good hoped music low phone volume pretty g...</td>\n",
       "    </tr>\n",
       "    <tr>\n",
       "      <th>2</th>\n",
       "      <td>Appreciate if product\\nNeed to buy one more if...</td>\n",
       "      <td>appreciate product need buy one promotion need...</td>\n",
       "    </tr>\n",
       "    <tr>\n",
       "      <th>3</th>\n",
       "      <td>You get what you pay for Three Stars</td>\n",
       "      <td>get pay three stars</td>\n",
       "    </tr>\n",
       "    <tr>\n",
       "      <th>4</th>\n",
       "      <td>Arrived in 2 days. working great. Recommend to...</td>\n",
       "      <td>arrived days working great recommend others wo...</td>\n",
       "    </tr>\n",
       "  </tbody>\n",
       "</table>\n",
       "</div>"
      ],
      "text/plain": [
       "                                         review_text  \\\n",
       "0  I got this to run as a dual monitor.  This is ...   \n",
       "1  Not as good as I had hoped, music is very low,...   \n",
       "2  Appreciate if product\\nNeed to buy one more if...   \n",
       "3               You get what you pay for Three Stars   \n",
       "4  Arrived in 2 days. working great. Recommend to...   \n",
       "\n",
       "                                      cleaned_review  \n",
       "0  got run dual monitor second time purchasing mo...  \n",
       "1  not good hoped music low phone volume pretty g...  \n",
       "2  appreciate product need buy one promotion need...  \n",
       "3                                get pay three stars  \n",
       "4  arrived days working great recommend others wo...  "
      ]
     },
     "execution_count": 4,
     "metadata": {},
     "output_type": "execute_result"
    }
   ],
   "source": [
    "df_cleaned_reviews.head()"
   ]
  },
  {
   "attachments": {},
   "cell_type": "markdown",
   "metadata": {},
   "source": [
    "Part of Speech Tagging"
   ]
  },
  {
   "cell_type": "code",
   "execution_count": 5,
   "metadata": {},
   "outputs": [],
   "source": [
    "pos_dict = {\n",
    "    'J': wordnet.ADJ, \n",
    "    'V': wordnet.VERB, \n",
    "    'N': wordnet.NOUN, \n",
    "    'R': wordnet.ADV\n",
    "}\n",
    "\n",
    "def tag_pos(text):\n",
    "    result = []\n",
    "    tags = pos_tag(word_tokenize(text))\n",
    "\n",
    "    for word, tag in tags:\n",
    "        result.append(tuple([word, pos_dict.get(tag[0])]))\n",
    "            \n",
    "    return result"
   ]
  },
  {
   "cell_type": "code",
   "execution_count": 6,
   "metadata": {},
   "outputs": [],
   "source": [
    "df_preprocessing_data = df_cleaned_reviews"
   ]
  },
  {
   "cell_type": "code",
   "execution_count": 7,
   "metadata": {},
   "outputs": [],
   "source": [
    "df_preprocessing_data['pos_tagged_review'] = df_preprocessing_data['cleaned_review'].apply(tag_pos)"
   ]
  },
  {
   "cell_type": "code",
   "execution_count": 8,
   "metadata": {},
   "outputs": [
    {
     "data": {
      "text/html": [
       "<div>\n",
       "<style scoped>\n",
       "    .dataframe tbody tr th:only-of-type {\n",
       "        vertical-align: middle;\n",
       "    }\n",
       "\n",
       "    .dataframe tbody tr th {\n",
       "        vertical-align: top;\n",
       "    }\n",
       "\n",
       "    .dataframe thead th {\n",
       "        text-align: right;\n",
       "    }\n",
       "</style>\n",
       "<table border=\"1\" class=\"dataframe\">\n",
       "  <thead>\n",
       "    <tr style=\"text-align: right;\">\n",
       "      <th></th>\n",
       "      <th>review_text</th>\n",
       "      <th>cleaned_review</th>\n",
       "      <th>pos_tagged_review</th>\n",
       "    </tr>\n",
       "  </thead>\n",
       "  <tbody>\n",
       "    <tr>\n",
       "      <th>0</th>\n",
       "      <td>I got this to run as a dual monitor.  This is ...</td>\n",
       "      <td>got run dual monitor second time purchasing mo...</td>\n",
       "      <td>[(got, v), (run, v), (dual, a), (monitor, n), ...</td>\n",
       "    </tr>\n",
       "    <tr>\n",
       "      <th>1</th>\n",
       "      <td>Not as good as I had hoped, music is very low,...</td>\n",
       "      <td>not good hoped music low phone volume pretty g...</td>\n",
       "      <td>[(not, r), (good, a), (hoped, v), (music, n), ...</td>\n",
       "    </tr>\n",
       "    <tr>\n",
       "      <th>2</th>\n",
       "      <td>Appreciate if product\\nNeed to buy one more if...</td>\n",
       "      <td>appreciate product need buy one promotion need...</td>\n",
       "      <td>[(appreciate, a), (product, n), (need, n), (bu...</td>\n",
       "    </tr>\n",
       "    <tr>\n",
       "      <th>3</th>\n",
       "      <td>You get what you pay for Three Stars</td>\n",
       "      <td>get pay three stars</td>\n",
       "      <td>[(get, v), (pay, n), (three, None), (stars, n)]</td>\n",
       "    </tr>\n",
       "    <tr>\n",
       "      <th>4</th>\n",
       "      <td>Arrived in 2 days. working great. Recommend to...</td>\n",
       "      <td>arrived days working great recommend others wo...</td>\n",
       "      <td>[(arrived, v), (days, n), (working, v), (great...</td>\n",
       "    </tr>\n",
       "  </tbody>\n",
       "</table>\n",
       "</div>"
      ],
      "text/plain": [
       "                                         review_text  \\\n",
       "0  I got this to run as a dual monitor.  This is ...   \n",
       "1  Not as good as I had hoped, music is very low,...   \n",
       "2  Appreciate if product\\nNeed to buy one more if...   \n",
       "3               You get what you pay for Three Stars   \n",
       "4  Arrived in 2 days. working great. Recommend to...   \n",
       "\n",
       "                                      cleaned_review  \\\n",
       "0  got run dual monitor second time purchasing mo...   \n",
       "1  not good hoped music low phone volume pretty g...   \n",
       "2  appreciate product need buy one promotion need...   \n",
       "3                                get pay three stars   \n",
       "4  arrived days working great recommend others wo...   \n",
       "\n",
       "                                   pos_tagged_review  \n",
       "0  [(got, v), (run, v), (dual, a), (monitor, n), ...  \n",
       "1  [(not, r), (good, a), (hoped, v), (music, n), ...  \n",
       "2  [(appreciate, a), (product, n), (need, n), (bu...  \n",
       "3    [(get, v), (pay, n), (three, None), (stars, n)]  \n",
       "4  [(arrived, v), (days, n), (working, v), (great...  "
      ]
     },
     "execution_count": 8,
     "metadata": {},
     "output_type": "execute_result"
    }
   ],
   "source": [
    "df_preprocessing_data.head()"
   ]
  },
  {
   "attachments": {},
   "cell_type": "markdown",
   "metadata": {},
   "source": [
    "Lemmatization"
   ]
  },
  {
   "cell_type": "code",
   "execution_count": 9,
   "metadata": {},
   "outputs": [],
   "source": [
    "lemmatizer = WordNetLemmatizer()\n",
    "\n",
    "def lemmatize_pos_words(pos_words):\n",
    "    lemmas = []\n",
    "    for word, tag in pos_words:\n",
    "        if tag is None:\n",
    "            lemmas.append(word)\n",
    "        else:\n",
    "            lemmas.append(lemmatizer.lemmatize(word, tag))\n",
    "            \n",
    "    return \" \".join(lemmas)"
   ]
  },
  {
   "cell_type": "code",
   "execution_count": 10,
   "metadata": {},
   "outputs": [],
   "source": [
    "df_preprocessing_data['lemmatized_review'] = df_preprocessing_data['pos_tagged_review'].apply(lemmatize_pos_words)"
   ]
  },
  {
   "cell_type": "code",
   "execution_count": 11,
   "metadata": {},
   "outputs": [
    {
     "data": {
      "text/html": [
       "<div>\n",
       "<style scoped>\n",
       "    .dataframe tbody tr th:only-of-type {\n",
       "        vertical-align: middle;\n",
       "    }\n",
       "\n",
       "    .dataframe tbody tr th {\n",
       "        vertical-align: top;\n",
       "    }\n",
       "\n",
       "    .dataframe thead th {\n",
       "        text-align: right;\n",
       "    }\n",
       "</style>\n",
       "<table border=\"1\" class=\"dataframe\">\n",
       "  <thead>\n",
       "    <tr style=\"text-align: right;\">\n",
       "      <th></th>\n",
       "      <th>review_text</th>\n",
       "      <th>cleaned_review</th>\n",
       "      <th>pos_tagged_review</th>\n",
       "      <th>lemmatized_review</th>\n",
       "    </tr>\n",
       "  </thead>\n",
       "  <tbody>\n",
       "    <tr>\n",
       "      <th>0</th>\n",
       "      <td>I got this to run as a dual monitor.  This is ...</td>\n",
       "      <td>got run dual monitor second time purchasing mo...</td>\n",
       "      <td>[(got, v), (run, v), (dual, a), (monitor, n), ...</td>\n",
       "      <td>get run dual monitor second time purchase moni...</td>\n",
       "    </tr>\n",
       "    <tr>\n",
       "      <th>1</th>\n",
       "      <td>Not as good as I had hoped, music is very low,...</td>\n",
       "      <td>not good hoped music low phone volume pretty g...</td>\n",
       "      <td>[(not, r), (good, a), (hoped, v), (music, n), ...</td>\n",
       "      <td>not good hop music low phone volume pretty goo...</td>\n",
       "    </tr>\n",
       "    <tr>\n",
       "      <th>2</th>\n",
       "      <td>Appreciate if product\\nNeed to buy one more if...</td>\n",
       "      <td>appreciate product need buy one promotion need...</td>\n",
       "      <td>[(appreciate, a), (product, n), (need, n), (bu...</td>\n",
       "      <td>appreciate product need buy one promotion need...</td>\n",
       "    </tr>\n",
       "    <tr>\n",
       "      <th>3</th>\n",
       "      <td>You get what you pay for Three Stars</td>\n",
       "      <td>get pay three stars</td>\n",
       "      <td>[(get, v), (pay, n), (three, None), (stars, n)]</td>\n",
       "      <td>get pay three star</td>\n",
       "    </tr>\n",
       "    <tr>\n",
       "      <th>4</th>\n",
       "      <td>Arrived in 2 days. working great. Recommend to...</td>\n",
       "      <td>arrived days working great recommend others wo...</td>\n",
       "      <td>[(arrived, v), (days, n), (working, v), (great...</td>\n",
       "      <td>arrive day work great recommend others work gr...</td>\n",
       "    </tr>\n",
       "  </tbody>\n",
       "</table>\n",
       "</div>"
      ],
      "text/plain": [
       "                                         review_text  \\\n",
       "0  I got this to run as a dual monitor.  This is ...   \n",
       "1  Not as good as I had hoped, music is very low,...   \n",
       "2  Appreciate if product\\nNeed to buy one more if...   \n",
       "3               You get what you pay for Three Stars   \n",
       "4  Arrived in 2 days. working great. Recommend to...   \n",
       "\n",
       "                                      cleaned_review  \\\n",
       "0  got run dual monitor second time purchasing mo...   \n",
       "1  not good hoped music low phone volume pretty g...   \n",
       "2  appreciate product need buy one promotion need...   \n",
       "3                                get pay three stars   \n",
       "4  arrived days working great recommend others wo...   \n",
       "\n",
       "                                   pos_tagged_review  \\\n",
       "0  [(got, v), (run, v), (dual, a), (monitor, n), ...   \n",
       "1  [(not, r), (good, a), (hoped, v), (music, n), ...   \n",
       "2  [(appreciate, a), (product, n), (need, n), (bu...   \n",
       "3    [(get, v), (pay, n), (three, None), (stars, n)]   \n",
       "4  [(arrived, v), (days, n), (working, v), (great...   \n",
       "\n",
       "                                   lemmatized_review  \n",
       "0  get run dual monitor second time purchase moni...  \n",
       "1  not good hop music low phone volume pretty goo...  \n",
       "2  appreciate product need buy one promotion need...  \n",
       "3                                 get pay three star  \n",
       "4  arrive day work great recommend others work gr...  "
      ]
     },
     "execution_count": 11,
     "metadata": {},
     "output_type": "execute_result"
    }
   ],
   "source": [
    "df_preprocessing_data.head()"
   ]
  },
  {
   "attachments": {},
   "cell_type": "markdown",
   "metadata": {},
   "source": [
    "Export as Json"
   ]
  },
  {
   "cell_type": "code",
   "execution_count": 12,
   "metadata": {},
   "outputs": [],
   "source": [
    "df_preprocessing_data[[\n",
    "    \"review_text\",\n",
    "    \"lemmatized_review\"\n",
    "]\n",
    "].rename(\n",
    "    columns={'lemmatized_review':'normalized_review'}\n",
    ").to_json(\n",
    "    '../data/normalized_reviews.json.gz', compression=\"gzip\", orient=\"records\", indent=2\n",
    ")"
   ]
  }
 ],
 "metadata": {
  "kernelspec": {
   "display_name": "base",
   "language": "python",
   "name": "python3"
  },
  "language_info": {
   "codemirror_mode": {
    "name": "ipython",
    "version": 3
   },
   "file_extension": ".py",
   "mimetype": "text/x-python",
   "name": "python",
   "nbconvert_exporter": "python",
   "pygments_lexer": "ipython3",
   "version": "3.9.13"
  },
  "orig_nbformat": 4
 },
 "nbformat": 4,
 "nbformat_minor": 2
}
