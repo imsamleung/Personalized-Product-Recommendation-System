{
 "cells": [
  {
   "cell_type": "code",
   "execution_count": 54,
   "metadata": {},
   "outputs": [],
   "source": [
    "import pandas as pd\n",
    "import numpy as np\n",
    "import pickle\n",
    "\n",
    "from sklearn.model_selection import train_test_split\n",
    "from sklearn.metrics.pairwise import pairwise_distances\n",
    "from sklearn.decomposition import TruncatedSVD"
   ]
  },
  {
   "cell_type": "code",
   "execution_count": 55,
   "metadata": {},
   "outputs": [],
   "source": [
    "df_reviews = pd.read_json('../../../data/interim/final/reviews.json.gz', orient=\"records\", compression=\"gzip\")"
   ]
  },
  {
   "cell_type": "code",
   "execution_count": 56,
   "metadata": {},
   "outputs": [],
   "source": [
    "train, test = train_test_split(df_reviews[['user_id', 'product_id', 'ratings']], test_size=0.2, random_state=42)"
   ]
  },
  {
   "attachments": {},
   "cell_type": "markdown",
   "metadata": {},
   "source": [
    "Create user-item matrix"
   ]
  },
  {
   "cell_type": "code",
   "execution_count": 57,
   "metadata": {},
   "outputs": [],
   "source": [
    "train_pivot = df_train.pivot(index='user_id',columns= 'product_id', values='ratings').fillna(0)\n",
    "test_pivot = df_test.pivot(index='user_id',columns= 'product_id', values='ratings').fillna(0)"
   ]
  },
  {
   "attachments": {},
   "cell_type": "markdown",
   "metadata": {},
   "source": [
    "Use SVD for reducing dimensionality of the user-item matrix"
   ]
  },
  {
   "cell_type": "code",
   "execution_count": 58,
   "metadata": {},
   "outputs": [],
   "source": [
    "svd = TruncatedSVD(n_components=20, random_state=42)\n",
    "svd.fit(train_pivot.T)\n",
    "train_pivot_transformed = svd.transform(train_pivot.T)\n",
    "test_pivot_transformed = svd.fit_transform(test_pivot.T)"
   ]
  },
  {
   "attachments": {},
   "cell_type": "markdown",
   "metadata": {},
   "source": [
    "Calculate item similarity"
   ]
  },
  {
   "cell_type": "code",
   "execution_count": 60,
   "metadata": {},
   "outputs": [],
   "source": [
    "item_similarity = pairwise_distances(train_pivot_transformed, metric='cosine')"
   ]
  },
  {
   "cell_type": "code",
   "execution_count": 61,
   "metadata": {},
   "outputs": [
    {
     "data": {
      "text/html": [
       "<div>\n",
       "<style scoped>\n",
       "    .dataframe tbody tr th:only-of-type {\n",
       "        vertical-align: middle;\n",
       "    }\n",
       "\n",
       "    .dataframe tbody tr th {\n",
       "        vertical-align: top;\n",
       "    }\n",
       "\n",
       "    .dataframe thead th {\n",
       "        text-align: right;\n",
       "    }\n",
       "</style>\n",
       "<table border=\"1\" class=\"dataframe\">\n",
       "  <thead>\n",
       "    <tr style=\"text-align: right;\">\n",
       "      <th></th>\n",
       "      <th>corr_specific</th>\n",
       "      <th>Movies</th>\n",
       "    </tr>\n",
       "  </thead>\n",
       "  <tbody>\n",
       "    <tr>\n",
       "      <th>564</th>\n",
       "      <td>1.845162</td>\n",
       "      <td>B00SPWPF1O</td>\n",
       "    </tr>\n",
       "    <tr>\n",
       "      <th>515</th>\n",
       "      <td>1.811879</td>\n",
       "      <td>B00NZTKOQI</td>\n",
       "    </tr>\n",
       "    <tr>\n",
       "      <th>473</th>\n",
       "      <td>1.806194</td>\n",
       "      <td>B00LBCQYOM</td>\n",
       "    </tr>\n",
       "    <tr>\n",
       "      <th>810</th>\n",
       "      <td>1.802875</td>\n",
       "      <td>B01G7296YU</td>\n",
       "    </tr>\n",
       "    <tr>\n",
       "      <th>785</th>\n",
       "      <td>1.800847</td>\n",
       "      <td>B01EGAKEQ4</td>\n",
       "    </tr>\n",
       "    <tr>\n",
       "      <th>302</th>\n",
       "      <td>1.762474</td>\n",
       "      <td>B00CD9JOK8</td>\n",
       "    </tr>\n",
       "    <tr>\n",
       "      <th>433</th>\n",
       "      <td>1.759123</td>\n",
       "      <td>B00J8QD5ZY</td>\n",
       "    </tr>\n",
       "    <tr>\n",
       "      <th>798</th>\n",
       "      <td>1.698473</td>\n",
       "      <td>B01FIVBDTM</td>\n",
       "    </tr>\n",
       "    <tr>\n",
       "      <th>609</th>\n",
       "      <td>1.650285</td>\n",
       "      <td>B00W46R3HQ</td>\n",
       "    </tr>\n",
       "    <tr>\n",
       "      <th>256</th>\n",
       "      <td>1.643674</td>\n",
       "      <td>B00AAL5P68</td>\n",
       "    </tr>\n",
       "  </tbody>\n",
       "</table>\n",
       "</div>"
      ],
      "text/plain": [
       "     corr_specific      Movies\n",
       "564       1.845162  B00SPWPF1O\n",
       "515       1.811879  B00NZTKOQI\n",
       "473       1.806194  B00LBCQYOM\n",
       "810       1.802875  B01G7296YU\n",
       "785       1.800847  B01EGAKEQ4\n",
       "302       1.762474  B00CD9JOK8\n",
       "433       1.759123  B00J8QD5ZY\n",
       "798       1.698473  B01FIVBDTM\n",
       "609       1.650285  B00W46R3HQ\n",
       "256       1.643674  B00AAL5P68"
      ]
     },
     "execution_count": 61,
     "metadata": {},
     "output_type": "execute_result"
    }
   ],
   "source": [
    "col_idx = train_pivot.columns.get_loc(\"B00001W0DG\")\n",
    "corr_specific = corr_mat[col_idx]\n",
    "pd.DataFrame({'corr_specific':corr_specific, 'Movies': train_pivot.columns}).sort_values('corr_specific',ascending=False).head(10)"
   ]
  }
 ],
 "metadata": {
  "kernelspec": {
   "display_name": "base",
   "language": "python",
   "name": "python3"
  },
  "language_info": {
   "codemirror_mode": {
    "name": "ipython",
    "version": 3
   },
   "file_extension": ".py",
   "mimetype": "text/x-python",
   "name": "python",
   "nbconvert_exporter": "python",
   "pygments_lexer": "ipython3",
   "version": "3.9.13"
  },
  "orig_nbformat": 4
 },
 "nbformat": 4,
 "nbformat_minor": 2
}
