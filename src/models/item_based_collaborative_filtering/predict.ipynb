{
 "cells": [
  {
   "cell_type": "code",
   "execution_count": 15,
   "metadata": {},
   "outputs": [],
   "source": [
    "import pandas as pd\n",
    "import pickle"
   ]
  },
  {
   "cell_type": "code",
   "execution_count": 16,
   "metadata": {},
   "outputs": [],
   "source": [
    "df_products = pd.read_json('../../../data/interim/final/products.json.gz', orient=\"records\", compression=\"gzip\")\n",
    "df_reviews = pd.read_json('../../../data/interim/final/reviews.json.gz', orient=\"records\", compression=\"gzip\")"
   ]
  },
  {
   "cell_type": "code",
   "execution_count": 17,
   "metadata": {},
   "outputs": [],
   "source": [
    "model = pickle.load(open('../../../models/item_based_collaborative_filtering/knn.pkl', 'rb'))"
   ]
  },
  {
   "cell_type": "code",
   "execution_count": 18,
   "metadata": {},
   "outputs": [],
   "source": [
    "# Get all items that have at least 1 rating and sorted by similarity\n",
    "def find_similar_items(product_id, df_products):\n",
    "    neighbors = model.get_neighbors(model.trainset.to_inner_iid(product_id), k=model.trainset.n_items)\n",
    "    df_1 = pd.DataFrame({'product_id' : [model.trainset.to_raw_iid(inner_id) for inner_id in neighbors]})\n",
    "    return df_1.merge(df_products, how='inner', on='product_id')\n",
    "\n",
    "# Get unrated items for a user\n",
    "def get_user_unrated_items(user_id, df_products, df_reviews):\n",
    "    df_user_reviews = df_reviews[df_reviews['user_id'] == user_id]\n",
    "    return df_products[~df_products['product_id'].isin(df_user_reviews['product_id'])]\n",
    "\n",
    "def predict_rating(user_id, product_id):\n",
    "    return model.predict(user_id, product_id)\n",
    "\n",
    "def recommend(user_id, product_id, n = 10):\n",
    "    df_similar_items = find_similar_items(product_id, df_products)\n",
    "    df_user_unrated_items = get_user_unrated_items(user_id, df_similar_items, df_reviews)\n",
    "    \n",
    "    if n < len(df_user_unrated_items):\n",
    "        df_user_unrated_items = df_user_unrated_items[:n]\n",
    "    \n",
    "    df_user_unrated_items['pre'] = df_user_unrated_items['product_id'].apply(lambda id: predict_rating(user_id, id).est)\n",
    "    df_user_unrated_items = df_user_unrated_items.sort_values(by=['pre'], ascending=False)\n",
    "    return df_user_unrated_items"
   ]
  },
  {
   "cell_type": "code",
   "execution_count": 19,
   "metadata": {},
   "outputs": [],
   "source": [
    "user_id = 'A0203183BAH3TR08FZGB'\n",
    "product_id = 'B0043T7FHK'"
   ]
  },
  {
   "cell_type": "code",
   "execution_count": 20,
   "metadata": {},
   "outputs": [
    {
     "data": {
      "text/html": [
       "<div>\n",
       "<style scoped>\n",
       "    .dataframe tbody tr th:only-of-type {\n",
       "        vertical-align: middle;\n",
       "    }\n",
       "\n",
       "    .dataframe tbody tr th {\n",
       "        vertical-align: top;\n",
       "    }\n",
       "\n",
       "    .dataframe thead th {\n",
       "        text-align: right;\n",
       "    }\n",
       "</style>\n",
       "<table border=\"1\" class=\"dataframe\">\n",
       "  <thead>\n",
       "    <tr style=\"text-align: right;\">\n",
       "      <th></th>\n",
       "      <th>product_id</th>\n",
       "      <th>name</th>\n",
       "    </tr>\n",
       "  </thead>\n",
       "  <tbody>\n",
       "    <tr>\n",
       "      <th>226</th>\n",
       "      <td>B0043T7FHK</td>\n",
       "      <td>ASUS VE248H 24&amp;quot; Full HD 1920x1080 2ms HDM...</td>\n",
       "    </tr>\n",
       "  </tbody>\n",
       "</table>\n",
       "</div>"
      ],
      "text/plain": [
       "     product_id                                               name\n",
       "226  B0043T7FHK  ASUS VE248H 24&quot; Full HD 1920x1080 2ms HDM..."
      ]
     },
     "execution_count": 20,
     "metadata": {},
     "output_type": "execute_result"
    }
   ],
   "source": [
    "df_products[df_products['product_id'] == product_id][['product_id', 'name']].head()"
   ]
  },
  {
   "cell_type": "code",
   "execution_count": 21,
   "metadata": {},
   "outputs": [
    {
     "data": {
      "text/html": [
       "<div>\n",
       "<style scoped>\n",
       "    .dataframe tbody tr th:only-of-type {\n",
       "        vertical-align: middle;\n",
       "    }\n",
       "\n",
       "    .dataframe tbody tr th {\n",
       "        vertical-align: top;\n",
       "    }\n",
       "\n",
       "    .dataframe thead th {\n",
       "        text-align: right;\n",
       "    }\n",
       "</style>\n",
       "<table border=\"1\" class=\"dataframe\">\n",
       "  <thead>\n",
       "    <tr style=\"text-align: right;\">\n",
       "      <th></th>\n",
       "      <th>product_id</th>\n",
       "      <th>name</th>\n",
       "      <th>pre</th>\n",
       "    </tr>\n",
       "  </thead>\n",
       "  <tbody>\n",
       "    <tr>\n",
       "      <th>0</th>\n",
       "      <td>B015WCV70W</td>\n",
       "      <td>HP Pavilion 21.5-Inch IPS LED HDMI VGA Monitor...</td>\n",
       "      <td>5.0</td>\n",
       "    </tr>\n",
       "    <tr>\n",
       "      <th>2</th>\n",
       "      <td>B009A5204K</td>\n",
       "      <td>LG Tone HBS-730 Wireless Stereo Headset - Black</td>\n",
       "      <td>5.0</td>\n",
       "    </tr>\n",
       "    <tr>\n",
       "      <th>3</th>\n",
       "      <td>B00906GBBC</td>\n",
       "      <td>ASUS PB238Q 23&amp;quot; Full HD 1920x1080 IPS Dis...</td>\n",
       "      <td>5.0</td>\n",
       "    </tr>\n",
       "    <tr>\n",
       "      <th>4</th>\n",
       "      <td>B00OL0L1VM</td>\n",
       "      <td>Sceptre E Series E275W-1920 V1 27&amp;quot; Screen...</td>\n",
       "      <td>5.0</td>\n",
       "    </tr>\n",
       "    <tr>\n",
       "      <th>5</th>\n",
       "      <td>B003LPTAYI</td>\n",
       "      <td>Sennheiser HD 202 II Professional Headphones (...</td>\n",
       "      <td>5.0</td>\n",
       "    </tr>\n",
       "    <tr>\n",
       "      <th>6</th>\n",
       "      <td>B0149QBOF0</td>\n",
       "      <td>Dell Gaming S2716DGR 27.0&amp;quot; Screen LED-Lit...</td>\n",
       "      <td>5.0</td>\n",
       "    </tr>\n",
       "    <tr>\n",
       "      <th>7</th>\n",
       "      <td>B0058UUR6E</td>\n",
       "      <td>ASUS VS248H-P 24&amp;quot; Full HD 1920x1080 2ms H...</td>\n",
       "      <td>5.0</td>\n",
       "    </tr>\n",
       "    <tr>\n",
       "      <th>9</th>\n",
       "      <td>B00EZSUWFG</td>\n",
       "      <td>ViewSonic VX2252MH 22 Inch 2ms 75Hz 1080p Gami...</td>\n",
       "      <td>5.0</td>\n",
       "    </tr>\n",
       "    <tr>\n",
       "      <th>1</th>\n",
       "      <td>B0043T7FKC</td>\n",
       "      <td>ASUS VK278Q 27&amp;quot; Full HD 1920x1080 2ms HDM...</td>\n",
       "      <td>5.0</td>\n",
       "    </tr>\n",
       "    <tr>\n",
       "      <th>8</th>\n",
       "      <td>B00B5Q6Y8U</td>\n",
       "      <td>ASUS VS207D-P 19.5&amp;quot; HD+ 1600x900 VGA Back...</td>\n",
       "      <td>5.0</td>\n",
       "    </tr>\n",
       "  </tbody>\n",
       "</table>\n",
       "</div>"
      ],
      "text/plain": [
       "   product_id                                               name  pre\n",
       "0  B015WCV70W  HP Pavilion 21.5-Inch IPS LED HDMI VGA Monitor...  5.0\n",
       "2  B009A5204K    LG Tone HBS-730 Wireless Stereo Headset - Black  5.0\n",
       "3  B00906GBBC  ASUS PB238Q 23&quot; Full HD 1920x1080 IPS Dis...  5.0\n",
       "4  B00OL0L1VM  Sceptre E Series E275W-1920 V1 27&quot; Screen...  5.0\n",
       "5  B003LPTAYI  Sennheiser HD 202 II Professional Headphones (...  5.0\n",
       "6  B0149QBOF0  Dell Gaming S2716DGR 27.0&quot; Screen LED-Lit...  5.0\n",
       "7  B0058UUR6E  ASUS VS248H-P 24&quot; Full HD 1920x1080 2ms H...  5.0\n",
       "9  B00EZSUWFG  ViewSonic VX2252MH 22 Inch 2ms 75Hz 1080p Gami...  5.0\n",
       "1  B0043T7FKC  ASUS VK278Q 27&quot; Full HD 1920x1080 2ms HDM...  5.0\n",
       "8  B00B5Q6Y8U  ASUS VS207D-P 19.5&quot; HD+ 1600x900 VGA Back...  5.0"
      ]
     },
     "execution_count": 21,
     "metadata": {},
     "output_type": "execute_result"
    }
   ],
   "source": [
    "recommend(user_id, product_id)[['product_id', 'name', 'pre']]"
   ]
  }
 ],
 "metadata": {
  "kernelspec": {
   "display_name": "base",
   "language": "python",
   "name": "python3"
  },
  "language_info": {
   "codemirror_mode": {
    "name": "ipython",
    "version": 3
   },
   "file_extension": ".py",
   "mimetype": "text/x-python",
   "name": "python",
   "nbconvert_exporter": "python",
   "pygments_lexer": "ipython3",
   "version": "3.9.13"
  },
  "orig_nbformat": 4
 },
 "nbformat": 4,
 "nbformat_minor": 2
}
