{
 "cells": [
  {
   "cell_type": "code",
   "execution_count": 60,
   "metadata": {},
   "outputs": [],
   "source": [
    "import pandas as pd\n",
    "import pickle"
   ]
  },
  {
   "cell_type": "code",
   "execution_count": 61,
   "metadata": {},
   "outputs": [],
   "source": [
    "df_products = pd.read_json('../../../data/interim/final/products.json.gz', orient=\"records\", compression=\"gzip\")\n",
    "df_reviews = pd.read_json('../../../data/interim/final/reviews.json.gz', orient=\"records\", compression=\"gzip\")"
   ]
  },
  {
   "cell_type": "code",
   "execution_count": 62,
   "metadata": {},
   "outputs": [],
   "source": [
    "item_similarity_matrix = pickle.load(open(f'../../../models/content_based_filtering/item_similarity_matrix.pkl', 'rb'))"
   ]
  },
  {
   "cell_type": "code",
   "execution_count": 63,
   "metadata": {},
   "outputs": [],
   "source": [
    "def find_similar_items(product_id, df_products):\n",
    "    idx = df_products[df_products['product_id'] == product_id].index[0]\n",
    "    sorted_scores = pd.Series(item_similarity_matrix[idx]).sort_values(ascending = False)\n",
    "    return df_products.iloc[list(sorted_scores.iloc[1:].index)]\n",
    "\n",
    "# Get unrated items for a user\n",
    "def get_user_unrated_items(user_id, df_products, df_reviews):\n",
    "    df_user_reviews = df_reviews[df_reviews['user_id'] == user_id]\n",
    "    return df_products[~df_products['product_id'].isin(df_user_reviews['product_id'])]\n",
    "\n",
    "def recommend(user_id, product_id, n = 10):\n",
    "    df_similar_items = find_similar_items(product_id, df_products)\n",
    "    df_user_unrated_items = get_user_unrated_items(user_id, df_similar_items, df_reviews)\n",
    "    \n",
    "    if n < len(df_user_unrated_items): \n",
    "        df_user_unrated_items = df_user_unrated_items[:n]\n",
    "    \n",
    "    return df_user_unrated_items"
   ]
  },
  {
   "cell_type": "code",
   "execution_count": 64,
   "metadata": {},
   "outputs": [],
   "source": [
    "user_id = 'A0203183BAH3TR08FZGB'\n",
    "product_id = 'B0043T7FHK'"
   ]
  },
  {
   "cell_type": "code",
   "execution_count": 65,
   "metadata": {},
   "outputs": [
    {
     "data": {
      "text/html": [
       "<div>\n",
       "<style scoped>\n",
       "    .dataframe tbody tr th:only-of-type {\n",
       "        vertical-align: middle;\n",
       "    }\n",
       "\n",
       "    .dataframe tbody tr th {\n",
       "        vertical-align: top;\n",
       "    }\n",
       "\n",
       "    .dataframe thead th {\n",
       "        text-align: right;\n",
       "    }\n",
       "</style>\n",
       "<table border=\"1\" class=\"dataframe\">\n",
       "  <thead>\n",
       "    <tr style=\"text-align: right;\">\n",
       "      <th></th>\n",
       "      <th>product_id</th>\n",
       "      <th>name</th>\n",
       "      <th>description</th>\n",
       "    </tr>\n",
       "  </thead>\n",
       "  <tbody>\n",
       "    <tr>\n",
       "      <th>226</th>\n",
       "      <td>B0043T7FHK</td>\n",
       "      <td>ASUS VE248H 24&amp;quot; Full HD 1920x1080 2ms HDM...</td>\n",
       "      <td>The exclusive Splendid Video Intelligence Tech...</td>\n",
       "    </tr>\n",
       "  </tbody>\n",
       "</table>\n",
       "</div>"
      ],
      "text/plain": [
       "     product_id                                               name  \\\n",
       "226  B0043T7FHK  ASUS VE248H 24&quot; Full HD 1920x1080 2ms HDM...   \n",
       "\n",
       "                                           description  \n",
       "226  The exclusive Splendid Video Intelligence Tech...  "
      ]
     },
     "execution_count": 65,
     "metadata": {},
     "output_type": "execute_result"
    }
   ],
   "source": [
    "df_products[df_products['product_id'] == product_id][['product_id', 'name', 'description']].head()"
   ]
  },
  {
   "cell_type": "code",
   "execution_count": 66,
   "metadata": {},
   "outputs": [
    {
     "data": {
      "text/html": [
       "<div>\n",
       "<style scoped>\n",
       "    .dataframe tbody tr th:only-of-type {\n",
       "        vertical-align: middle;\n",
       "    }\n",
       "\n",
       "    .dataframe tbody tr th {\n",
       "        vertical-align: top;\n",
       "    }\n",
       "\n",
       "    .dataframe thead th {\n",
       "        text-align: right;\n",
       "    }\n",
       "</style>\n",
       "<table border=\"1\" class=\"dataframe\">\n",
       "  <thead>\n",
       "    <tr style=\"text-align: right;\">\n",
       "      <th></th>\n",
       "      <th>product_id</th>\n",
       "      <th>name</th>\n",
       "      <th>description</th>\n",
       "    </tr>\n",
       "  </thead>\n",
       "  <tbody>\n",
       "    <tr>\n",
       "      <th>229</th>\n",
       "      <td>B0045JFTXU</td>\n",
       "      <td>ASUS VE208T 20&amp;quot; HD+ 1600x900 DVI VGA Back...</td>\n",
       "      <td>Dynamically enhances the displays contrast by ...</td>\n",
       "    </tr>\n",
       "    <tr>\n",
       "      <th>393</th>\n",
       "      <td>B00A6AMYG2</td>\n",
       "      <td>Asus VK228H-CSM 21.5&amp;quot; Widescreen LED Moni...</td>\n",
       "      <td>&lt;b&gt;True-to-life Pictures Powered by LED&lt;br&gt; 80...</td>\n",
       "    </tr>\n",
       "    <tr>\n",
       "      <th>408</th>\n",
       "      <td>B00ANKMNXO</td>\n",
       "      <td>ASUS VX248H 24&amp;quot; Full HD 1920x1080 1ms HDM...</td>\n",
       "      <td>Superior Image Quality Meets Ultra-Slim Elegan...</td>\n",
       "    </tr>\n",
       "    <tr>\n",
       "      <th>240</th>\n",
       "      <td>B004G7U5LC</td>\n",
       "      <td>ASUS VW199T-P 19&amp;quot; WXGA+ 1440x900 DVI VGA ...</td>\n",
       "      <td>Shipping Depth: 19.5 Shipping Height: 5.6 Ship...</td>\n",
       "    </tr>\n",
       "    <tr>\n",
       "      <th>95</th>\n",
       "      <td>B000VZG0QM</td>\n",
       "      <td>Asus VB171T - 17&amp;quot; (4:3) LCD Monitors - Black</td>\n",
       "      <td>ASUS VB171T - with SPLENDID Video Intelligence...</td>\n",
       "    </tr>\n",
       "    <tr>\n",
       "      <th>267</th>\n",
       "      <td>B0058UUR6E</td>\n",
       "      <td>ASUS VS248H-P 24&amp;quot; Full HD 1920x1080 2ms H...</td>\n",
       "      <td>Superior Image Quality Meets Classic Elegant D...</td>\n",
       "    </tr>\n",
       "    <tr>\n",
       "      <th>227</th>\n",
       "      <td>B0043T7FKC</td>\n",
       "      <td>ASUS VK278Q 27&amp;quot; Full HD 1920x1080 2ms HDM...</td>\n",
       "      <td>Full HD with HDMI:VK278Q leads you to enter a ...</td>\n",
       "    </tr>\n",
       "    <tr>\n",
       "      <th>1451</th>\n",
       "      <td>B019HN6P36</td>\n",
       "      <td>ASUS VP247H-P 23.6 in LED Monitor 1920x1080 1m...</td>\n",
       "      <td>With a 1 ms response time, the VP247H-P 23.6\" ...</td>\n",
       "    </tr>\n",
       "    <tr>\n",
       "      <th>277</th>\n",
       "      <td>B005G2P16A</td>\n",
       "      <td>ASUS VS208N-P 20&amp;quot; HD+ 1600x900 DVI VGA Ba...</td>\n",
       "      <td>20IN LCD 1600X900 16:9 LED built in power adap...</td>\n",
       "    </tr>\n",
       "    <tr>\n",
       "      <th>1341</th>\n",
       "      <td>B0163JMDLA</td>\n",
       "      <td>ASUS PRO C424AQ 23.8&amp;rdquo; Full HD 1920x1080 ...</td>\n",
       "      <td>Designed for business versatility, the all-new...</td>\n",
       "    </tr>\n",
       "  </tbody>\n",
       "</table>\n",
       "</div>"
      ],
      "text/plain": [
       "      product_id                                               name  \\\n",
       "229   B0045JFTXU  ASUS VE208T 20&quot; HD+ 1600x900 DVI VGA Back...   \n",
       "393   B00A6AMYG2  Asus VK228H-CSM 21.5&quot; Widescreen LED Moni...   \n",
       "408   B00ANKMNXO  ASUS VX248H 24&quot; Full HD 1920x1080 1ms HDM...   \n",
       "240   B004G7U5LC  ASUS VW199T-P 19&quot; WXGA+ 1440x900 DVI VGA ...   \n",
       "95    B000VZG0QM  Asus VB171T - 17&quot; (4:3) LCD Monitors - Black   \n",
       "267   B0058UUR6E  ASUS VS248H-P 24&quot; Full HD 1920x1080 2ms H...   \n",
       "227   B0043T7FKC  ASUS VK278Q 27&quot; Full HD 1920x1080 2ms HDM...   \n",
       "1451  B019HN6P36  ASUS VP247H-P 23.6 in LED Monitor 1920x1080 1m...   \n",
       "277   B005G2P16A  ASUS VS208N-P 20&quot; HD+ 1600x900 DVI VGA Ba...   \n",
       "1341  B0163JMDLA  ASUS PRO C424AQ 23.8&rdquo; Full HD 1920x1080 ...   \n",
       "\n",
       "                                            description  \n",
       "229   Dynamically enhances the displays contrast by ...  \n",
       "393   <b>True-to-life Pictures Powered by LED<br> 80...  \n",
       "408   Superior Image Quality Meets Ultra-Slim Elegan...  \n",
       "240   Shipping Depth: 19.5 Shipping Height: 5.6 Ship...  \n",
       "95    ASUS VB171T - with SPLENDID Video Intelligence...  \n",
       "267   Superior Image Quality Meets Classic Elegant D...  \n",
       "227   Full HD with HDMI:VK278Q leads you to enter a ...  \n",
       "1451  With a 1 ms response time, the VP247H-P 23.6\" ...  \n",
       "277   20IN LCD 1600X900 16:9 LED built in power adap...  \n",
       "1341  Designed for business versatility, the all-new...  "
      ]
     },
     "execution_count": 66,
     "metadata": {},
     "output_type": "execute_result"
    }
   ],
   "source": [
    "recommend(user_id, product_id, 10)[['product_id', 'name', 'description']]"
   ]
  }
 ],
 "metadata": {
  "kernelspec": {
   "display_name": "base",
   "language": "python",
   "name": "python3"
  },
  "language_info": {
   "codemirror_mode": {
    "name": "ipython",
    "version": 3
   },
   "file_extension": ".py",
   "mimetype": "text/x-python",
   "name": "python",
   "nbconvert_exporter": "python",
   "pygments_lexer": "ipython3",
   "version": "3.9.13"
  },
  "orig_nbformat": 4
 },
 "nbformat": 4,
 "nbformat_minor": 2
}
