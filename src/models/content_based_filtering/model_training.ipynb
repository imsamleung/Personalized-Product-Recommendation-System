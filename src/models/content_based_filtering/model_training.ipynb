{
 "cells": [
  {
   "cell_type": "code",
   "execution_count": 7,
   "metadata": {},
   "outputs": [],
   "source": [
    "import pandas as pd\n",
    "import numpy as np\n",
    "import pickle\n",
    "\n",
    "from sklearn.decomposition import NMF\n",
    "from sklearn.feature_extraction.text import TfidfVectorizer\n",
    "from sklearn.preprocessing import MultiLabelBinarizer"
   ]
  },
  {
   "cell_type": "code",
   "execution_count": null,
   "metadata": {},
   "outputs": [],
   "source": [
    "df_products = pd.read_json(f'../../../data/processed/products.json.gz', orient=\"records\", compression=\"gzip\")"
   ]
  },
  {
   "cell_type": "code",
   "execution_count": 6,
   "metadata": {},
   "outputs": [
    {
     "data": {
      "text/html": [
       "<div>\n",
       "<style scoped>\n",
       "    .dataframe tbody tr th:only-of-type {\n",
       "        vertical-align: middle;\n",
       "    }\n",
       "\n",
       "    .dataframe tbody tr th {\n",
       "        vertical-align: top;\n",
       "    }\n",
       "\n",
       "    .dataframe thead th {\n",
       "        text-align: right;\n",
       "    }\n",
       "</style>\n",
       "<table border=\"1\" class=\"dataframe\">\n",
       "  <thead>\n",
       "    <tr style=\"text-align: right;\">\n",
       "      <th></th>\n",
       "      <th>keywords</th>\n",
       "      <th>categories</th>\n",
       "    </tr>\n",
       "  </thead>\n",
       "  <tbody>\n",
       "    <tr>\n",
       "      <th>0</th>\n",
       "      <td>sony mdr monitor series headphone swivel earcu...</td>\n",
       "      <td>[headphones]</td>\n",
       "    </tr>\n",
       "    <tr>\n",
       "      <th>1</th>\n",
       "      <td>fujifilm digital camera optical zoom bundle fu...</td>\n",
       "      <td>[cameras]</td>\n",
       "    </tr>\n",
       "    <tr>\n",
       "      <th>2</th>\n",
       "      <td>sony mvc mavica digital camera optical zoom ca...</td>\n",
       "      <td>[cameras]</td>\n",
       "    </tr>\n",
       "    <tr>\n",
       "      <th>3</th>\n",
       "      <td>plantronics duoset convertible headset discont...</td>\n",
       "      <td>[headphones]</td>\n",
       "    </tr>\n",
       "    <tr>\n",
       "      <th>4</th>\n",
       "      <td>fujifilm finepix digital camera optical zoom f...</td>\n",
       "      <td>[cameras]</td>\n",
       "    </tr>\n",
       "  </tbody>\n",
       "</table>\n",
       "</div>"
      ],
      "text/plain": [
       "                                            keywords    categories\n",
       "0  sony mdr monitor series headphone swivel earcu...  [headphones]\n",
       "1  fujifilm digital camera optical zoom bundle fu...     [cameras]\n",
       "2  sony mvc mavica digital camera optical zoom ca...     [cameras]\n",
       "3  plantronics duoset convertible headset discont...  [headphones]\n",
       "4  fujifilm finepix digital camera optical zoom f...     [cameras]"
      ]
     },
     "execution_count": 6,
     "metadata": {},
     "output_type": "execute_result"
    }
   ],
   "source": [
    "df_products.head()"
   ]
  },
  {
   "cell_type": "code",
   "execution_count": null,
   "metadata": {},
   "outputs": [],
   "source": [
    "# Define the features\n",
    "tfidf = TfidfVectorizer(stop_words='english')\n",
    "x_desc = tfidf.fit_transform(df_products['keywords'])\n",
    "\n",
    "mlb = MultiLabelBinarizer()\n",
    "x_cat = mlb.fit_transform(df_products['categories'])\n",
    "\n",
    "X = np.hstack([x_desc, x_cat])"
   ]
  },
  {
   "cell_type": "code",
   "execution_count": null,
   "metadata": {},
   "outputs": [],
   "source": [
    "np.save('feature_matrix.npy', X)\n",
    "pickle.dump(tfidf, open('./model/logit_model.pkl', 'wb'))\n",
    "pickle.dump(mlb, open('./model/word_vectorizer.pkl','wb'))"
   ]
  },
  {
   "cell_type": "code",
   "execution_count": null,
   "metadata": {},
   "outputs": [],
   "source": [
    "# Perform matrix factorization\n",
    "model = NMF(n_components=10, init='random', random_state=42)\n",
    "W = model.fit_transform(X)\n",
    "H = model.components_\n",
    "\n",
    "# Recommend items based on item preferences\n",
    "item_preferences = H.T[0]\n",
    "item_scores = W.dot(item_preferences)\n",
    "recommended_items = item_scores.argsort()[::-1][:10]"
   ]
  }
 ],
 "metadata": {
  "kernelspec": {
   "display_name": "base",
   "language": "python",
   "name": "python3"
  },
  "language_info": {
   "codemirror_mode": {
    "name": "ipython",
    "version": 3
   },
   "file_extension": ".py",
   "mimetype": "text/x-python",
   "name": "python",
   "nbconvert_exporter": "python",
   "pygments_lexer": "ipython3",
   "version": "3.9.13"
  },
  "orig_nbformat": 4
 },
 "nbformat": 4,
 "nbformat_minor": 2
}
