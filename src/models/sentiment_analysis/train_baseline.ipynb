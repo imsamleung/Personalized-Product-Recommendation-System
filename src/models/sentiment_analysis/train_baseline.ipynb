{
 "cells": [
  {
   "cell_type": "code",
   "execution_count": 56,
   "metadata": {},
   "outputs": [],
   "source": [
    "import pandas as pd\n",
    "import pickle\n",
    "\n",
    "from sklearn.model_selection import train_test_split, StratifiedKFold, GridSearchCV\n",
    "from sklearn.metrics import classification_report, f1_score\n",
    "\n",
    "from sklearn.pipeline import Pipeline\n",
    "from sklearn.feature_extraction.text import CountVectorizer, TfidfVectorizer\n",
    "from sklearn.naive_bayes import MultinomialNB\n",
    "from sklearn.linear_model import LogisticRegression\n",
    "from sklearn.tree import DecisionTreeClassifier\n",
    "from sklearn.svm import LinearSVC\n",
    "from sklearn.ensemble import RandomForestClassifier\n",
    "\n",
    "import warnings\n",
    "warnings.filterwarnings('ignore')"
   ]
  },
  {
   "cell_type": "code",
   "execution_count": 57,
   "metadata": {},
   "outputs": [],
   "source": [
    "df_reviews = pd.read_json('../../../data/processed/reviews.json.gz', orient=\"records\", compression=\"gzip\")"
   ]
  },
  {
   "cell_type": "code",
   "execution_count": 58,
   "metadata": {},
   "outputs": [],
   "source": [
    "x = df_reviews[['cleaned_review']]\n",
    "y = df_reviews[['sentiment']]\n",
    "\n",
    "x_train, x_test, y_train, y_test = train_test_split(x, y, test_size=0.20, random_state=42)"
   ]
  },
  {
   "cell_type": "code",
   "execution_count": 59,
   "metadata": {},
   "outputs": [
    {
     "name": "stdout",
     "output_type": "stream",
     "text": [
      "Distribution of +/- review sentiment: \n",
      "sentiment\n",
      "1            0.883957\n",
      "0            0.116043\n",
      "dtype: float64\n"
     ]
    }
   ],
   "source": [
    "print(\"Distribution of +/- review sentiment: \\n{}\".format(y_train.value_counts(normalize=True)))"
   ]
  },
  {
   "cell_type": "code",
   "execution_count": 60,
   "metadata": {},
   "outputs": [],
   "source": [
    "x_train_final = x_train['cleaned_review'].values\n",
    "x_test_final = x_test['cleaned_review'].values\n",
    "y_train_final = y_train['sentiment'].values\n",
    "y_test_final = y_test['sentiment'].values"
   ]
  },
  {
   "cell_type": "code",
   "execution_count": 61,
   "metadata": {},
   "outputs": [],
   "source": [
    "vectorizers = {\n",
    "    'tfidf_vectorizer': TfidfVectorizer(),\n",
    "    'count_vectorizer': CountVectorizer()\n",
    "}\n",
    "\n",
    "classifiers = {\n",
    "    'logistic_regression': LogisticRegression(),\n",
    "    'linear_svc': LinearSVC(),\n",
    "    'multinomial_nb': MultinomialNB(),\n",
    "    'decision_tree': DecisionTreeClassifier(),\n",
    "    'random_forest': RandomForestClassifier()\n",
    "}"
   ]
  },
  {
   "cell_type": "code",
   "execution_count": 62,
   "metadata": {},
   "outputs": [],
   "source": [
    "def create_pipelines(vectorizers = vectorizers, classifiers = classifiers):\n",
    "    pipelines = {}\n",
    "\n",
    "    for c_key in classifiers:\n",
    "        for v_key in vectorizers:\n",
    "            pipelines[f'{c_key}_with_{v_key}'] = Pipeline([\n",
    "                ('vect', vectorizers[v_key]), \n",
    "                ('clf', classifiers[c_key])\n",
    "            ])\n",
    "\n",
    "    return pipelines\n",
    "\n",
    "def comparison_table(weighted_avg_f1_score):\n",
    "    df_model = pd.DataFrame(index=weighted_avg_f1_score.keys(), columns=['weighted_avg_f1_score'])\n",
    "    df_model['weighted_avg_f1_score'] = weighted_avg_f1_score.values()\n",
    "    return df_model"
   ]
  },
  {
   "cell_type": "code",
   "execution_count": 63,
   "metadata": {},
   "outputs": [],
   "source": [
    "pipelines = create_pipelines()"
   ]
  },
  {
   "cell_type": "code",
   "execution_count": 64,
   "metadata": {},
   "outputs": [
    {
     "name": "stdout",
     "output_type": "stream",
     "text": [
      "Train Model [logistic_regression_with_tfidf_vectorizer]:\n",
      "\n",
      "Features extracted:\n",
      "Features: ['aaa' 'aaa battery' 'ability' ... 'zoom take' 'zoom work' 'zotac']\n",
      "Length: 11000\n",
      "\n",
      "Evaluation using cross validation (validation set):\n",
      "weighted average f1 score: 0.9290844509978136\n",
      "\n",
      "Evaluation using hold-out validation (test set):\n",
      "weighted average f1 score: 0.9298239676010923\n",
      "\n",
      "Classification report:\n",
      "              precision    recall  f1-score   support\n",
      "\n",
      "           0       0.82      0.56      0.66      1365\n",
      "           1       0.94      0.98      0.96     10547\n",
      "\n",
      "    accuracy                           0.94     11912\n",
      "   macro avg       0.88      0.77      0.81     11912\n",
      "weighted avg       0.93      0.94      0.93     11912\n",
      "\n",
      "------------------------------------------------\n",
      "\n"
     ]
    }
   ],
   "source": [
    "f1_weighted_score_val_dict = {}\n",
    "f1_weighted_score_test_dict = {}\n",
    "\n",
    "cv=StratifiedKFold(n_splits=5)\n",
    "\n",
    "for key in pipelines:\n",
    "    search = GridSearchCV(\n",
    "                estimator=pipelines[key], \n",
    "                param_grid={}, \n",
    "                scoring='f1_weighted',\n",
    "                cv=cv, \n",
    "                n_jobs=-1\n",
    "            )\n",
    "    \n",
    "    print(f'Train Model [{key}]:')\n",
    "    search.fit(x_train_final, y_train_final)\n",
    "\n",
    "    print(f'\\nFeatures extracted:')\n",
    "    feature_names = search.best_estimator_.named_steps['vect'].get_feature_names_out()\n",
    "    print(f'Features: {feature_names}')\n",
    "    print(f'Length: {len(feature_names)}')\n",
    "\n",
    "    f1_weighted_score_val = search.best_score_\n",
    "    f1_weighted_score_val_dict[key] = f1_weighted_score_val\n",
    "    print(f'\\nEvaluation using cross validation (validation set):')\n",
    "    print(f'weighted average f1 score: {f1_weighted_score_val}')\n",
    "    \n",
    "    y_pred = search.predict(x_test_final)\n",
    "    f1_weighted_score_test = f1_score(y_test_final, y_pred, average='weighted')\n",
    "    f1_weighted_score_test_dict[key] = f1_weighted_score_test\n",
    "    \n",
    "    print(f'\\nEvaluation using hold-out validation (test set):')\n",
    "    print(f'weighted average f1 score: {f1_weighted_score_test}')\n",
    "    \n",
    "    print('\\nClassification report:')\n",
    "    print(classification_report(y_test_final, y_pred, labels=[0, 1]))\n",
    "    \n",
    "    pickle.dump(search.best_estimator_, open(f'../../../models/sentiment_analysis/baseline/{key}.pkl', 'wb'))\n",
    "    print(f'------------------------------------------------\\n')"
   ]
  },
  {
   "cell_type": "code",
   "execution_count": 65,
   "metadata": {},
   "outputs": [
    {
     "name": "stdout",
     "output_type": "stream",
     "text": [
      "Evaluation Metric for Different Models Using Validation Set:\n",
      "                                           weighted_avg_f1_score\n",
      "logistic_regression_with_tfidf_vectorizer               0.929084\n"
     ]
    }
   ],
   "source": [
    "print('Evaluation Metric for Different Models Using Validation Set:')\n",
    "print(comparison_table(f1_weighted_score_val_dict))"
   ]
  },
  {
   "cell_type": "code",
   "execution_count": 66,
   "metadata": {},
   "outputs": [
    {
     "name": "stdout",
     "output_type": "stream",
     "text": [
      "Evaluation Metric for Different Models Using Testing Set:\n",
      "                                           weighted_avg_f1_score\n",
      "logistic_regression_with_tfidf_vectorizer               0.929824\n"
     ]
    }
   ],
   "source": [
    "print('Evaluation Metric for Different Models Using Testing Set:')\n",
    "print(comparison_table(f1_weighted_score_test_dict))"
   ]
  }
 ],
 "metadata": {
  "kernelspec": {
   "display_name": "base",
   "language": "python",
   "name": "python3"
  },
  "language_info": {
   "codemirror_mode": {
    "name": "ipython",
    "version": 3
   },
   "file_extension": ".py",
   "mimetype": "text/x-python",
   "name": "python",
   "nbconvert_exporter": "python",
   "pygments_lexer": "ipython3",
   "version": "3.9.13"
  },
  "orig_nbformat": 4
 },
 "nbformat": 4,
 "nbformat_minor": 2
}
