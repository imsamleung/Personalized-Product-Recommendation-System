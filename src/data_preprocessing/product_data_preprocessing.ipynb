{
 "cells": [
  {
   "attachments": {},
   "cell_type": "markdown",
   "metadata": {},
   "source": [
    "##### Library"
   ]
  },
  {
   "cell_type": "code",
   "execution_count": 1,
   "metadata": {},
   "outputs": [
    {
     "name": "stderr",
     "output_type": "stream",
     "text": [
      "[nltk_data] Downloading package punkt to\n",
      "[nltk_data]     C:\\Users\\samle\\AppData\\Roaming\\nltk_data...\n",
      "[nltk_data]   Package punkt is already up-to-date!\n",
      "[nltk_data] Downloading package stopwords to\n",
      "[nltk_data]     C:\\Users\\samle\\AppData\\Roaming\\nltk_data...\n",
      "[nltk_data]   Package stopwords is already up-to-date!\n",
      "[nltk_data] Downloading package wordnet to\n",
      "[nltk_data]     C:\\Users\\samle\\AppData\\Roaming\\nltk_data...\n",
      "[nltk_data]   Package wordnet is already up-to-date!\n",
      "[nltk_data] Downloading package averaged_perceptron_tagger to\n",
      "[nltk_data]     C:\\Users\\samle\\AppData\\Roaming\\nltk_data...\n",
      "[nltk_data]   Package averaged_perceptron_tagger is already up-to-\n",
      "[nltk_data]       date!\n"
     ]
    },
    {
     "data": {
      "text/plain": [
       "True"
      ]
     },
     "execution_count": 1,
     "metadata": {},
     "output_type": "execute_result"
    }
   ],
   "source": [
    "import nltk\n",
    "nltk.download('punkt')\n",
    "nltk.download('stopwords')\n",
    "nltk.download('wordnet')\n",
    "nltk.download('averaged_perceptron_tagger')"
   ]
  },
  {
   "cell_type": "code",
   "execution_count": 2,
   "metadata": {},
   "outputs": [],
   "source": [
    "import pandas as pd\n",
    "import re\n",
    "\n",
    "from nltk.tokenize import word_tokenize\n",
    "from nltk.corpus import stopwords\n",
    "\n",
    "from nltk.corpus import wordnet\n",
    "from nltk.tokenize import word_tokenize\n",
    "from nltk import pos_tag\n",
    "from nltk.stem import WordNetLemmatizer"
   ]
  },
  {
   "attachments": {},
   "cell_type": "markdown",
   "metadata": {},
   "source": [
    "##### Read Data"
   ]
  },
  {
   "cell_type": "code",
   "execution_count": 3,
   "metadata": {},
   "outputs": [],
   "source": [
    "source_data_root_path = '../../data/interim/final'"
   ]
  },
  {
   "cell_type": "code",
   "execution_count": 4,
   "metadata": {},
   "outputs": [],
   "source": [
    "df_products = pd.read_json(f'{source_data_root_path}/products.json.gz', orient=\"records\", compression=\"gzip\")\n",
    "df_products_categories = pd.read_json(f'{source_data_root_path}/products_categories.json.gz', orient=\"records\", compression=\"gzip\")\n",
    "df_categories = pd.read_json(f'{source_data_root_path}/categories.json.gz', orient=\"records\", compression=\"gzip\")"
   ]
  },
  {
   "attachments": {},
   "cell_type": "markdown",
   "metadata": {},
   "source": [
    "##### Extract Categories for Products"
   ]
  },
  {
   "cell_type": "code",
   "execution_count": 5,
   "metadata": {},
   "outputs": [
    {
     "data": {
      "text/html": [
       "<div>\n",
       "<style scoped>\n",
       "    .dataframe tbody tr th:only-of-type {\n",
       "        vertical-align: middle;\n",
       "    }\n",
       "\n",
       "    .dataframe tbody tr th {\n",
       "        vertical-align: top;\n",
       "    }\n",
       "\n",
       "    .dataframe thead th {\n",
       "        text-align: right;\n",
       "    }\n",
       "</style>\n",
       "<table border=\"1\" class=\"dataframe\">\n",
       "  <thead>\n",
       "    <tr style=\"text-align: right;\">\n",
       "      <th></th>\n",
       "      <th>product_id</th>\n",
       "      <th>category_id</th>\n",
       "    </tr>\n",
       "  </thead>\n",
       "  <tbody>\n",
       "    <tr>\n",
       "      <th>0</th>\n",
       "      <td>B00004TLW2</td>\n",
       "      <td>2</td>\n",
       "    </tr>\n",
       "    <tr>\n",
       "      <th>1</th>\n",
       "      <td>B00004VUM1</td>\n",
       "      <td>2</td>\n",
       "    </tr>\n",
       "    <tr>\n",
       "      <th>2</th>\n",
       "      <td>B00004XSHN</td>\n",
       "      <td>2</td>\n",
       "    </tr>\n",
       "    <tr>\n",
       "      <th>3</th>\n",
       "      <td>B000051TOG</td>\n",
       "      <td>2</td>\n",
       "    </tr>\n",
       "    <tr>\n",
       "      <th>4</th>\n",
       "      <td>B0000520I5</td>\n",
       "      <td>2</td>\n",
       "    </tr>\n",
       "  </tbody>\n",
       "</table>\n",
       "</div>"
      ],
      "text/plain": [
       "   product_id  category_id\n",
       "0  B00004TLW2            2\n",
       "1  B00004VUM1            2\n",
       "2  B00004XSHN            2\n",
       "3  B000051TOG            2\n",
       "4  B0000520I5            2"
      ]
     },
     "execution_count": 5,
     "metadata": {},
     "output_type": "execute_result"
    }
   ],
   "source": [
    "df_products_categories.head()"
   ]
  },
  {
   "cell_type": "code",
   "execution_count": 6,
   "metadata": {},
   "outputs": [],
   "source": [
    "df_products_categories_2 = df_products_categories.merge(df_categories, how=\"inner\", on=\"category_id\", validate=\"many_to_one\")\n",
    "df_products_categories_2['name'] = df_products_categories_2['name'].str.lower()"
   ]
  },
  {
   "cell_type": "code",
   "execution_count": 7,
   "metadata": {},
   "outputs": [
    {
     "data": {
      "text/html": [
       "<div>\n",
       "<style scoped>\n",
       "    .dataframe tbody tr th:only-of-type {\n",
       "        vertical-align: middle;\n",
       "    }\n",
       "\n",
       "    .dataframe tbody tr th {\n",
       "        vertical-align: top;\n",
       "    }\n",
       "\n",
       "    .dataframe thead th {\n",
       "        text-align: right;\n",
       "    }\n",
       "</style>\n",
       "<table border=\"1\" class=\"dataframe\">\n",
       "  <thead>\n",
       "    <tr style=\"text-align: right;\">\n",
       "      <th></th>\n",
       "      <th>product_id</th>\n",
       "      <th>category_id</th>\n",
       "      <th>name</th>\n",
       "      <th>parent_id</th>\n",
       "    </tr>\n",
       "  </thead>\n",
       "  <tbody>\n",
       "    <tr>\n",
       "      <th>0</th>\n",
       "      <td>B00004TLW2</td>\n",
       "      <td>2</td>\n",
       "      <td>cameras</td>\n",
       "      <td>1.0</td>\n",
       "    </tr>\n",
       "    <tr>\n",
       "      <th>1</th>\n",
       "      <td>B00004VUM1</td>\n",
       "      <td>2</td>\n",
       "      <td>cameras</td>\n",
       "      <td>1.0</td>\n",
       "    </tr>\n",
       "    <tr>\n",
       "      <th>2</th>\n",
       "      <td>B00004XSHN</td>\n",
       "      <td>2</td>\n",
       "      <td>cameras</td>\n",
       "      <td>1.0</td>\n",
       "    </tr>\n",
       "    <tr>\n",
       "      <th>3</th>\n",
       "      <td>B000051TOG</td>\n",
       "      <td>2</td>\n",
       "      <td>cameras</td>\n",
       "      <td>1.0</td>\n",
       "    </tr>\n",
       "    <tr>\n",
       "      <th>4</th>\n",
       "      <td>B0000520I5</td>\n",
       "      <td>2</td>\n",
       "      <td>cameras</td>\n",
       "      <td>1.0</td>\n",
       "    </tr>\n",
       "  </tbody>\n",
       "</table>\n",
       "</div>"
      ],
      "text/plain": [
       "   product_id  category_id     name  parent_id\n",
       "0  B00004TLW2            2  cameras        1.0\n",
       "1  B00004VUM1            2  cameras        1.0\n",
       "2  B00004XSHN            2  cameras        1.0\n",
       "3  B000051TOG            2  cameras        1.0\n",
       "4  B0000520I5            2  cameras        1.0"
      ]
     },
     "execution_count": 7,
     "metadata": {},
     "output_type": "execute_result"
    }
   ],
   "source": [
    "df_products_categories_2.head()"
   ]
  },
  {
   "cell_type": "code",
   "execution_count": 8,
   "metadata": {},
   "outputs": [],
   "source": [
    "df_products_categories_final = df_products_categories_2.groupby('product_id')['name'].apply(list).reset_index(name='categories')"
   ]
  },
  {
   "cell_type": "code",
   "execution_count": 9,
   "metadata": {},
   "outputs": [
    {
     "data": {
      "text/html": [
       "<div>\n",
       "<style scoped>\n",
       "    .dataframe tbody tr th:only-of-type {\n",
       "        vertical-align: middle;\n",
       "    }\n",
       "\n",
       "    .dataframe tbody tr th {\n",
       "        vertical-align: top;\n",
       "    }\n",
       "\n",
       "    .dataframe thead th {\n",
       "        text-align: right;\n",
       "    }\n",
       "</style>\n",
       "<table border=\"1\" class=\"dataframe\">\n",
       "  <thead>\n",
       "    <tr style=\"text-align: right;\">\n",
       "      <th></th>\n",
       "      <th>product_id</th>\n",
       "      <th>categories</th>\n",
       "    </tr>\n",
       "  </thead>\n",
       "  <tbody>\n",
       "    <tr>\n",
       "      <th>0</th>\n",
       "      <td>B00001W0DG</td>\n",
       "      <td>[headphones]</td>\n",
       "    </tr>\n",
       "    <tr>\n",
       "      <th>1</th>\n",
       "      <td>B00004TLW2</td>\n",
       "      <td>[cameras]</td>\n",
       "    </tr>\n",
       "    <tr>\n",
       "      <th>2</th>\n",
       "      <td>B00004VUM1</td>\n",
       "      <td>[cameras]</td>\n",
       "    </tr>\n",
       "    <tr>\n",
       "      <th>3</th>\n",
       "      <td>B00004WFYN</td>\n",
       "      <td>[headphones]</td>\n",
       "    </tr>\n",
       "    <tr>\n",
       "      <th>4</th>\n",
       "      <td>B00004XSHN</td>\n",
       "      <td>[cameras]</td>\n",
       "    </tr>\n",
       "  </tbody>\n",
       "</table>\n",
       "</div>"
      ],
      "text/plain": [
       "   product_id    categories\n",
       "0  B00001W0DG  [headphones]\n",
       "1  B00004TLW2     [cameras]\n",
       "2  B00004VUM1     [cameras]\n",
       "3  B00004WFYN  [headphones]\n",
       "4  B00004XSHN     [cameras]"
      ]
     },
     "execution_count": 9,
     "metadata": {},
     "output_type": "execute_result"
    }
   ],
   "source": [
    "df_products_categories_final.head()"
   ]
  },
  {
   "cell_type": "code",
   "execution_count": 10,
   "metadata": {},
   "outputs": [],
   "source": [
    "df_products_final = df_products.drop(\n",
    "    columns=['price', 'image_url']\n",
    ").merge(\n",
    "    df_products_categories_final, how=\"inner\", on=\"product_id\", validate=\"one_to_many\"\n",
    ")"
   ]
  },
  {
   "cell_type": "code",
   "execution_count": 11,
   "metadata": {},
   "outputs": [
    {
     "data": {
      "text/html": [
       "<div>\n",
       "<style scoped>\n",
       "    .dataframe tbody tr th:only-of-type {\n",
       "        vertical-align: middle;\n",
       "    }\n",
       "\n",
       "    .dataframe tbody tr th {\n",
       "        vertical-align: top;\n",
       "    }\n",
       "\n",
       "    .dataframe thead th {\n",
       "        text-align: right;\n",
       "    }\n",
       "</style>\n",
       "<table border=\"1\" class=\"dataframe\">\n",
       "  <thead>\n",
       "    <tr style=\"text-align: right;\">\n",
       "      <th></th>\n",
       "      <th>product_id</th>\n",
       "      <th>name</th>\n",
       "      <th>description</th>\n",
       "      <th>categories</th>\n",
       "    </tr>\n",
       "  </thead>\n",
       "  <tbody>\n",
       "    <tr>\n",
       "      <th>0</th>\n",
       "      <td>B00001W0DG</td>\n",
       "      <td>Sony MDR-V500DJ Monitor Series Headphones with...</td>\n",
       "      <td>Revel in high-quality audio with the MDR-V500D...</td>\n",
       "      <td>[headphones]</td>\n",
       "    </tr>\n",
       "    <tr>\n",
       "      <th>1</th>\n",
       "      <td>B00004TLW2</td>\n",
       "      <td>Fujifilm MX2900 2.3MP Digital Camera w/ 3x Opt...</td>\n",
       "      <td>The FujiFilm MX-2900 digital camera includes s...</td>\n",
       "      <td>[cameras]</td>\n",
       "    </tr>\n",
       "    <tr>\n",
       "      <th>2</th>\n",
       "      <td>B00004VUM1</td>\n",
       "      <td>Sony MVC-FD95 Mavica 2MP Digital Camera with 1...</td>\n",
       "      <td>w/ Canon SELPHY CP760 Compact Photo Printer 32...</td>\n",
       "      <td>[cameras]</td>\n",
       "    </tr>\n",
       "    <tr>\n",
       "      <th>3</th>\n",
       "      <td>B00004WFYN</td>\n",
       "      <td>Plantronics H141 Duoset Convertible Headset (D...</td>\n",
       "      <td>- Convertible headset&lt;br /&gt;- Quick disconnect ...</td>\n",
       "      <td>[headphones]</td>\n",
       "    </tr>\n",
       "    <tr>\n",
       "      <th>4</th>\n",
       "      <td>B00004XSHN</td>\n",
       "      <td>Fujifilm FinePix 4900 4.3MP Digital Camera w/ ...</td>\n",
       "      <td>Fuji's FinePix 4900 is one of a new style of c...</td>\n",
       "      <td>[cameras]</td>\n",
       "    </tr>\n",
       "  </tbody>\n",
       "</table>\n",
       "</div>"
      ],
      "text/plain": [
       "   product_id                                               name  \\\n",
       "0  B00001W0DG  Sony MDR-V500DJ Monitor Series Headphones with...   \n",
       "1  B00004TLW2  Fujifilm MX2900 2.3MP Digital Camera w/ 3x Opt...   \n",
       "2  B00004VUM1  Sony MVC-FD95 Mavica 2MP Digital Camera with 1...   \n",
       "3  B00004WFYN  Plantronics H141 Duoset Convertible Headset (D...   \n",
       "4  B00004XSHN  Fujifilm FinePix 4900 4.3MP Digital Camera w/ ...   \n",
       "\n",
       "                                         description    categories  \n",
       "0  Revel in high-quality audio with the MDR-V500D...  [headphones]  \n",
       "1  The FujiFilm MX-2900 digital camera includes s...     [cameras]  \n",
       "2  w/ Canon SELPHY CP760 Compact Photo Printer 32...     [cameras]  \n",
       "3  - Convertible headset<br />- Quick disconnect ...  [headphones]  \n",
       "4  Fuji's FinePix 4900 is one of a new style of c...     [cameras]  "
      ]
     },
     "execution_count": 11,
     "metadata": {},
     "output_type": "execute_result"
    }
   ],
   "source": [
    "df_products_final.head()"
   ]
  },
  {
   "attachments": {},
   "cell_type": "markdown",
   "metadata": {},
   "source": [
    "##### Clean Data"
   ]
  },
  {
   "cell_type": "code",
   "execution_count": 12,
   "metadata": {},
   "outputs": [],
   "source": [
    "def lowercase_text(text: str):\n",
    "    return text.lower()\n",
    "\n",
    "def remove_html_tags(text: str):\n",
    "    return re.sub(re.compile('<.*?>|&([a-z0-9]+|#[0-9]{1,6}|#x[0-9a-f]{1,6});'), '', text)\n",
    "\n",
    "def remove_url(text: str):\n",
    "    return re.sub(r'https?://\\S+|www\\.\\S+', '', text)\n",
    "\n",
    "def remove_noise(text: str):\n",
    "    REPLACE_BY_SPACE_RE = re.compile('[/(){}\\[\\]\\|@,;]')\n",
    "    BAD_SYMBOLS_RE = re.compile('[^0-9a-z #+_]')\n",
    "    text = REPLACE_BY_SPACE_RE.sub(' ', text)\n",
    "    text = BAD_SYMBOLS_RE.sub('', text)\n",
    "    return text\n",
    "\n",
    "def remove_stopwords(text: str):\n",
    "    STOPWORDS = set(stopwords.words('english'))\n",
    "    return ' '.join([token for token in word_tokenize(text) if token not in STOPWORDS])\n",
    "\n",
    "def remove_n_chars(text: str, n = 1):\n",
    "    return ' '.join([w for w in text.split() if len(w) > n])\n",
    "\n",
    "def clean_data(text: str):\n",
    "    text = lowercase_text(text)\n",
    "    text = remove_html_tags(text)\n",
    "    text = remove_url(text)\n",
    "    text = remove_noise(text)\n",
    "    text = remove_stopwords(text)\n",
    "    text = remove_n_chars(text)\n",
    "    return text"
   ]
  },
  {
   "cell_type": "code",
   "execution_count": 13,
   "metadata": {},
   "outputs": [],
   "source": [
    "df_preprocessing = df_products_final[['name', 'description', 'categories']]\n",
    "\n",
    "df_preprocessing['cleaned_name'] = df_preprocessing['name'].apply(clean_data)\n",
    "df_preprocessing['cleaned_description'] = df_preprocessing['description'].apply(clean_data)\n",
    "\n",
    "df_preprocessing['keywords'] = df_preprocessing['cleaned_name'] + ' ' + df_preprocessing['cleaned_description']\n",
    "df_preprocessing = df_preprocessing[['keywords', 'categories']]"
   ]
  },
  {
   "cell_type": "code",
   "execution_count": 14,
   "metadata": {},
   "outputs": [
    {
     "data": {
      "text/html": [
       "<div>\n",
       "<style scoped>\n",
       "    .dataframe tbody tr th:only-of-type {\n",
       "        vertical-align: middle;\n",
       "    }\n",
       "\n",
       "    .dataframe tbody tr th {\n",
       "        vertical-align: top;\n",
       "    }\n",
       "\n",
       "    .dataframe thead th {\n",
       "        text-align: right;\n",
       "    }\n",
       "</style>\n",
       "<table border=\"1\" class=\"dataframe\">\n",
       "  <thead>\n",
       "    <tr style=\"text-align: right;\">\n",
       "      <th></th>\n",
       "      <th>keywords</th>\n",
       "      <th>categories</th>\n",
       "    </tr>\n",
       "  </thead>\n",
       "  <tbody>\n",
       "    <tr>\n",
       "      <th>0</th>\n",
       "      <td>sony mdrv500dj monitor series headphones swive...</td>\n",
       "      <td>[headphones]</td>\n",
       "    </tr>\n",
       "    <tr>\n",
       "      <th>1</th>\n",
       "      <td>fujifilm mx2900 23mp digital camera 3x optical...</td>\n",
       "      <td>[cameras]</td>\n",
       "    </tr>\n",
       "    <tr>\n",
       "      <th>2</th>\n",
       "      <td>sony mvcfd95 mavica 2mp digital camera 10x opt...</td>\n",
       "      <td>[cameras]</td>\n",
       "    </tr>\n",
       "    <tr>\n",
       "      <th>3</th>\n",
       "      <td>plantronics h141 duoset convertible headset di...</td>\n",
       "      <td>[headphones]</td>\n",
       "    </tr>\n",
       "    <tr>\n",
       "      <th>4</th>\n",
       "      <td>fujifilm finepix 4900 43mp digital camera 6x o...</td>\n",
       "      <td>[cameras]</td>\n",
       "    </tr>\n",
       "  </tbody>\n",
       "</table>\n",
       "</div>"
      ],
      "text/plain": [
       "                                            keywords    categories\n",
       "0  sony mdrv500dj monitor series headphones swive...  [headphones]\n",
       "1  fujifilm mx2900 23mp digital camera 3x optical...     [cameras]\n",
       "2  sony mvcfd95 mavica 2mp digital camera 10x opt...     [cameras]\n",
       "3  plantronics h141 duoset convertible headset di...  [headphones]\n",
       "4  fujifilm finepix 4900 43mp digital camera 6x o...     [cameras]"
      ]
     },
     "execution_count": 14,
     "metadata": {},
     "output_type": "execute_result"
    }
   ],
   "source": [
    "df_preprocessing.head()"
   ]
  },
  {
   "attachments": {},
   "cell_type": "markdown",
   "metadata": {},
   "source": [
    "POS Tagging"
   ]
  },
  {
   "cell_type": "code",
   "execution_count": 15,
   "metadata": {},
   "outputs": [],
   "source": [
    "pos_dict = {\n",
    "    'J': wordnet.ADJ, \n",
    "    'V': wordnet.VERB, \n",
    "    'N': wordnet.NOUN, \n",
    "    'R': wordnet.ADV\n",
    "}\n",
    "\n",
    "def tag_pos(text):\n",
    "    result = []\n",
    "    tags = pos_tag(word_tokenize(text))\n",
    "\n",
    "    for word, tag in tags:\n",
    "        result.append(tuple([word, pos_dict.get(tag[0])]))\n",
    "            \n",
    "    return result"
   ]
  },
  {
   "cell_type": "code",
   "execution_count": 16,
   "metadata": {},
   "outputs": [],
   "source": [
    "df_preprocessing['pos_tagged_keywords'] = df_preprocessing['keywords'].apply(tag_pos)"
   ]
  },
  {
   "cell_type": "code",
   "execution_count": 17,
   "metadata": {},
   "outputs": [
    {
     "data": {
      "text/html": [
       "<div>\n",
       "<style scoped>\n",
       "    .dataframe tbody tr th:only-of-type {\n",
       "        vertical-align: middle;\n",
       "    }\n",
       "\n",
       "    .dataframe tbody tr th {\n",
       "        vertical-align: top;\n",
       "    }\n",
       "\n",
       "    .dataframe thead th {\n",
       "        text-align: right;\n",
       "    }\n",
       "</style>\n",
       "<table border=\"1\" class=\"dataframe\">\n",
       "  <thead>\n",
       "    <tr style=\"text-align: right;\">\n",
       "      <th></th>\n",
       "      <th>keywords</th>\n",
       "      <th>categories</th>\n",
       "      <th>pos_tagged_keywords</th>\n",
       "    </tr>\n",
       "  </thead>\n",
       "  <tbody>\n",
       "    <tr>\n",
       "      <th>0</th>\n",
       "      <td>sony mdrv500dj monitor series headphones swive...</td>\n",
       "      <td>[headphones]</td>\n",
       "      <td>[(sony, n), (mdrv500dj, n), (monitor, n), (ser...</td>\n",
       "    </tr>\n",
       "    <tr>\n",
       "      <th>1</th>\n",
       "      <td>fujifilm mx2900 23mp digital camera 3x optical...</td>\n",
       "      <td>[cameras]</td>\n",
       "      <td>[(fujifilm, n), (mx2900, v), (23mp, None), (di...</td>\n",
       "    </tr>\n",
       "    <tr>\n",
       "      <th>2</th>\n",
       "      <td>sony mvcfd95 mavica 2mp digital camera 10x opt...</td>\n",
       "      <td>[cameras]</td>\n",
       "      <td>[(sony, n), (mvcfd95, n), (mavica, v), (2mp, N...</td>\n",
       "    </tr>\n",
       "    <tr>\n",
       "      <th>3</th>\n",
       "      <td>plantronics h141 duoset convertible headset di...</td>\n",
       "      <td>[headphones]</td>\n",
       "      <td>[(plantronics, n), (h141, v), (duoset, v), (co...</td>\n",
       "    </tr>\n",
       "    <tr>\n",
       "      <th>4</th>\n",
       "      <td>fujifilm finepix 4900 43mp digital camera 6x o...</td>\n",
       "      <td>[cameras]</td>\n",
       "      <td>[(fujifilm, n), (finepix, n), (4900, None), (4...</td>\n",
       "    </tr>\n",
       "  </tbody>\n",
       "</table>\n",
       "</div>"
      ],
      "text/plain": [
       "                                            keywords    categories  \\\n",
       "0  sony mdrv500dj monitor series headphones swive...  [headphones]   \n",
       "1  fujifilm mx2900 23mp digital camera 3x optical...     [cameras]   \n",
       "2  sony mvcfd95 mavica 2mp digital camera 10x opt...     [cameras]   \n",
       "3  plantronics h141 duoset convertible headset di...  [headphones]   \n",
       "4  fujifilm finepix 4900 43mp digital camera 6x o...     [cameras]   \n",
       "\n",
       "                                 pos_tagged_keywords  \n",
       "0  [(sony, n), (mdrv500dj, n), (monitor, n), (ser...  \n",
       "1  [(fujifilm, n), (mx2900, v), (23mp, None), (di...  \n",
       "2  [(sony, n), (mvcfd95, n), (mavica, v), (2mp, N...  \n",
       "3  [(plantronics, n), (h141, v), (duoset, v), (co...  \n",
       "4  [(fujifilm, n), (finepix, n), (4900, None), (4...  "
      ]
     },
     "execution_count": 17,
     "metadata": {},
     "output_type": "execute_result"
    }
   ],
   "source": [
    "df_preprocessing.head()"
   ]
  },
  {
   "cell_type": "code",
   "execution_count": 18,
   "metadata": {},
   "outputs": [],
   "source": [
    "lemmatizer = WordNetLemmatizer()\n",
    "\n",
    "def lemmatize_pos_words(pos_words):\n",
    "    lemmas = []\n",
    "    for word, tag in pos_words:\n",
    "        if tag is None:\n",
    "            lemmas.append(word)\n",
    "        else:\n",
    "            lemmas.append(lemmatizer.lemmatize(word, tag))\n",
    "            \n",
    "    return \" \".join(lemmas)"
   ]
  },
  {
   "cell_type": "code",
   "execution_count": 19,
   "metadata": {},
   "outputs": [],
   "source": [
    "df_preprocessing['lemmatized_keywords'] = df_preprocessing['pos_tagged_keywords'].apply(lemmatize_pos_words)"
   ]
  },
  {
   "cell_type": "code",
   "execution_count": 20,
   "metadata": {},
   "outputs": [
    {
     "data": {
      "text/html": [
       "<div>\n",
       "<style scoped>\n",
       "    .dataframe tbody tr th:only-of-type {\n",
       "        vertical-align: middle;\n",
       "    }\n",
       "\n",
       "    .dataframe tbody tr th {\n",
       "        vertical-align: top;\n",
       "    }\n",
       "\n",
       "    .dataframe thead th {\n",
       "        text-align: right;\n",
       "    }\n",
       "</style>\n",
       "<table border=\"1\" class=\"dataframe\">\n",
       "  <thead>\n",
       "    <tr style=\"text-align: right;\">\n",
       "      <th></th>\n",
       "      <th>keywords</th>\n",
       "      <th>categories</th>\n",
       "      <th>pos_tagged_keywords</th>\n",
       "      <th>lemmatized_keywords</th>\n",
       "    </tr>\n",
       "  </thead>\n",
       "  <tbody>\n",
       "    <tr>\n",
       "      <th>0</th>\n",
       "      <td>sony mdrv500dj monitor series headphones swive...</td>\n",
       "      <td>[headphones]</td>\n",
       "      <td>[(sony, n), (mdrv500dj, n), (monitor, n), (ser...</td>\n",
       "      <td>sony mdrv500dj monitor series headphone swivel...</td>\n",
       "    </tr>\n",
       "    <tr>\n",
       "      <th>1</th>\n",
       "      <td>fujifilm mx2900 23mp digital camera 3x optical...</td>\n",
       "      <td>[cameras]</td>\n",
       "      <td>[(fujifilm, n), (mx2900, v), (23mp, None), (di...</td>\n",
       "      <td>fujifilm mx2900 23mp digital camera 3x optical...</td>\n",
       "    </tr>\n",
       "    <tr>\n",
       "      <th>2</th>\n",
       "      <td>sony mvcfd95 mavica 2mp digital camera 10x opt...</td>\n",
       "      <td>[cameras]</td>\n",
       "      <td>[(sony, n), (mvcfd95, n), (mavica, v), (2mp, N...</td>\n",
       "      <td>sony mvcfd95 mavica 2mp digital camera 10x opt...</td>\n",
       "    </tr>\n",
       "    <tr>\n",
       "      <th>3</th>\n",
       "      <td>plantronics h141 duoset convertible headset di...</td>\n",
       "      <td>[headphones]</td>\n",
       "      <td>[(plantronics, n), (h141, v), (duoset, v), (co...</td>\n",
       "      <td>plantronics h141 duoset convertible headset di...</td>\n",
       "    </tr>\n",
       "    <tr>\n",
       "      <th>4</th>\n",
       "      <td>fujifilm finepix 4900 43mp digital camera 6x o...</td>\n",
       "      <td>[cameras]</td>\n",
       "      <td>[(fujifilm, n), (finepix, n), (4900, None), (4...</td>\n",
       "      <td>fujifilm finepix 4900 43mp digital camera 6x o...</td>\n",
       "    </tr>\n",
       "  </tbody>\n",
       "</table>\n",
       "</div>"
      ],
      "text/plain": [
       "                                            keywords    categories  \\\n",
       "0  sony mdrv500dj monitor series headphones swive...  [headphones]   \n",
       "1  fujifilm mx2900 23mp digital camera 3x optical...     [cameras]   \n",
       "2  sony mvcfd95 mavica 2mp digital camera 10x opt...     [cameras]   \n",
       "3  plantronics h141 duoset convertible headset di...  [headphones]   \n",
       "4  fujifilm finepix 4900 43mp digital camera 6x o...     [cameras]   \n",
       "\n",
       "                                 pos_tagged_keywords  \\\n",
       "0  [(sony, n), (mdrv500dj, n), (monitor, n), (ser...   \n",
       "1  [(fujifilm, n), (mx2900, v), (23mp, None), (di...   \n",
       "2  [(sony, n), (mvcfd95, n), (mavica, v), (2mp, N...   \n",
       "3  [(plantronics, n), (h141, v), (duoset, v), (co...   \n",
       "4  [(fujifilm, n), (finepix, n), (4900, None), (4...   \n",
       "\n",
       "                                 lemmatized_keywords  \n",
       "0  sony mdrv500dj monitor series headphone swivel...  \n",
       "1  fujifilm mx2900 23mp digital camera 3x optical...  \n",
       "2  sony mvcfd95 mavica 2mp digital camera 10x opt...  \n",
       "3  plantronics h141 duoset convertible headset di...  \n",
       "4  fujifilm finepix 4900 43mp digital camera 6x o...  "
      ]
     },
     "execution_count": 20,
     "metadata": {},
     "output_type": "execute_result"
    }
   ],
   "source": [
    "df_preprocessing.head()"
   ]
  },
  {
   "cell_type": "code",
   "execution_count": 21,
   "metadata": {},
   "outputs": [],
   "source": [
    "df_preprocessing[[\n",
    "    \"lemmatized_keywords\",\n",
    "    \"categories\",\n",
    "]\n",
    "].rename(\n",
    "    columns={'lemmatized_keywords':'keywords'}\n",
    ").to_json(\n",
    "    '../../data/processed/products.json.gz', compression=\"gzip\", orient=\"records\", indent=2\n",
    ")"
   ]
  }
 ],
 "metadata": {
  "kernelspec": {
   "display_name": "base",
   "language": "python",
   "name": "python3"
  },
  "language_info": {
   "codemirror_mode": {
    "name": "ipython",
    "version": 3
   },
   "file_extension": ".py",
   "mimetype": "text/x-python",
   "name": "python",
   "nbconvert_exporter": "python",
   "pygments_lexer": "ipython3",
   "version": "3.9.13"
  },
  "orig_nbformat": 4
 },
 "nbformat": 4,
 "nbformat_minor": 2
}
