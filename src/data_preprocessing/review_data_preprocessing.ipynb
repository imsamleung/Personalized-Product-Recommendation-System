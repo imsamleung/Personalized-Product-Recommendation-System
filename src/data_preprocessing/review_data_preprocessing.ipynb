{
 "cells": [
  {
   "attachments": {},
   "cell_type": "markdown",
   "metadata": {},
   "source": [
    "##### Library"
   ]
  },
  {
   "cell_type": "code",
   "execution_count": 1,
   "metadata": {},
   "outputs": [
    {
     "name": "stderr",
     "output_type": "stream",
     "text": [
      "[nltk_data] Downloading package punkt to\n",
      "[nltk_data]     C:\\Users\\samle\\AppData\\Roaming\\nltk_data...\n",
      "[nltk_data]   Package punkt is already up-to-date!\n",
      "[nltk_data] Downloading package stopwords to\n",
      "[nltk_data]     C:\\Users\\samle\\AppData\\Roaming\\nltk_data...\n",
      "[nltk_data]   Package stopwords is already up-to-date!\n",
      "[nltk_data] Downloading package wordnet to\n",
      "[nltk_data]     C:\\Users\\samle\\AppData\\Roaming\\nltk_data...\n",
      "[nltk_data]   Package wordnet is already up-to-date!\n",
      "[nltk_data] Downloading package averaged_perceptron_tagger to\n",
      "[nltk_data]     C:\\Users\\samle\\AppData\\Roaming\\nltk_data...\n",
      "[nltk_data]   Package averaged_perceptron_tagger is already up-to-\n",
      "[nltk_data]       date!\n"
     ]
    },
    {
     "data": {
      "text/plain": [
       "True"
      ]
     },
     "execution_count": 1,
     "metadata": {},
     "output_type": "execute_result"
    }
   ],
   "source": [
    "import nltk\n",
    "nltk.download('punkt')\n",
    "nltk.download('stopwords')\n",
    "nltk.download('wordnet')\n",
    "nltk.download('averaged_perceptron_tagger')"
   ]
  },
  {
   "cell_type": "code",
   "execution_count": 2,
   "metadata": {},
   "outputs": [],
   "source": [
    "import pandas as pd\n",
    "import re\n",
    "\n",
    "from nltk.tokenize import word_tokenize\n",
    "from nltk.corpus import stopwords\n",
    "\n",
    "from nltk.corpus import wordnet\n",
    "from nltk.tokenize import word_tokenize\n",
    "from nltk import pos_tag\n",
    "from nltk.stem import WordNetLemmatizer"
   ]
  },
  {
   "attachments": {},
   "cell_type": "markdown",
   "metadata": {},
   "source": [
    "##### Read Data"
   ]
  },
  {
   "cell_type": "code",
   "execution_count": 3,
   "metadata": {},
   "outputs": [],
   "source": [
    "df_reviews = pd.read_json(f'../../data/interim/final/labelled_reviews_by_ratings.json.gz', orient=\"records\", compression=\"gzip\")"
   ]
  },
  {
   "cell_type": "code",
   "execution_count": 4,
   "metadata": {},
   "outputs": [
    {
     "data": {
      "text/html": [
       "<div>\n",
       "<style scoped>\n",
       "    .dataframe tbody tr th:only-of-type {\n",
       "        vertical-align: middle;\n",
       "    }\n",
       "\n",
       "    .dataframe tbody tr th {\n",
       "        vertical-align: top;\n",
       "    }\n",
       "\n",
       "    .dataframe thead th {\n",
       "        text-align: right;\n",
       "    }\n",
       "</style>\n",
       "<table border=\"1\" class=\"dataframe\">\n",
       "  <thead>\n",
       "    <tr style=\"text-align: right;\">\n",
       "      <th></th>\n",
       "      <th>user_id</th>\n",
       "      <th>product_id</th>\n",
       "      <th>ratings</th>\n",
       "      <th>review_text</th>\n",
       "      <th>summary</th>\n",
       "      <th>created_at</th>\n",
       "      <th>sentiment</th>\n",
       "    </tr>\n",
       "  </thead>\n",
       "  <tbody>\n",
       "    <tr>\n",
       "      <th>0</th>\n",
       "      <td>A0203183BAH3TR08FZGB</td>\n",
       "      <td>B0043T7FHK</td>\n",
       "      <td>5</td>\n",
       "      <td>I got this to run as a dual monitor.  This is ...</td>\n",
       "      <td>This is my second time purchasing this monitor...</td>\n",
       "      <td>2015-06-30</td>\n",
       "      <td>1</td>\n",
       "    </tr>\n",
       "    <tr>\n",
       "      <th>1</th>\n",
       "      <td>A0261431Y0V4MHWY4B7W</td>\n",
       "      <td>B00AFH2E8E</td>\n",
       "      <td>4</td>\n",
       "      <td>Not as good as I had hoped, music is very low,...</td>\n",
       "      <td>Bluetooth headset</td>\n",
       "      <td>2014-08-03</td>\n",
       "      <td>1</td>\n",
       "    </tr>\n",
       "    <tr>\n",
       "      <th>2</th>\n",
       "      <td>A034116598G557EYZ9BC</td>\n",
       "      <td>B0013FRNKG</td>\n",
       "      <td>5</td>\n",
       "      <td>Appreciate if product\\nNeed to buy one more if...</td>\n",
       "      <td>great value</td>\n",
       "      <td>2012-11-28</td>\n",
       "      <td>1</td>\n",
       "    </tr>\n",
       "    <tr>\n",
       "      <th>3</th>\n",
       "      <td>A0404374X0HL5T332XSN</td>\n",
       "      <td>B00MNOPS1C</td>\n",
       "      <td>3</td>\n",
       "      <td>You get what you pay for</td>\n",
       "      <td>Three Stars</td>\n",
       "      <td>2016-02-02</td>\n",
       "      <td>1</td>\n",
       "    </tr>\n",
       "    <tr>\n",
       "      <th>4</th>\n",
       "      <td>A0431622H67YR5IPJRN</td>\n",
       "      <td>B0058UUR6E</td>\n",
       "      <td>5</td>\n",
       "      <td>Arrived in 2 days. working great. Recommend to...</td>\n",
       "      <td>working great. Recommend to others</td>\n",
       "      <td>2015-03-11</td>\n",
       "      <td>1</td>\n",
       "    </tr>\n",
       "  </tbody>\n",
       "</table>\n",
       "</div>"
      ],
      "text/plain": [
       "                user_id  product_id  ratings  \\\n",
       "0  A0203183BAH3TR08FZGB  B0043T7FHK        5   \n",
       "1  A0261431Y0V4MHWY4B7W  B00AFH2E8E        4   \n",
       "2  A034116598G557EYZ9BC  B0013FRNKG        5   \n",
       "3  A0404374X0HL5T332XSN  B00MNOPS1C        3   \n",
       "4   A0431622H67YR5IPJRN  B0058UUR6E        5   \n",
       "\n",
       "                                         review_text  \\\n",
       "0  I got this to run as a dual monitor.  This is ...   \n",
       "1  Not as good as I had hoped, music is very low,...   \n",
       "2  Appreciate if product\\nNeed to buy one more if...   \n",
       "3                           You get what you pay for   \n",
       "4  Arrived in 2 days. working great. Recommend to...   \n",
       "\n",
       "                                             summary created_at  sentiment  \n",
       "0  This is my second time purchasing this monitor... 2015-06-30          1  \n",
       "1                                  Bluetooth headset 2014-08-03          1  \n",
       "2                                        great value 2012-11-28          1  \n",
       "3                                        Three Stars 2016-02-02          1  \n",
       "4                 working great. Recommend to others 2015-03-11          1  "
      ]
     },
     "execution_count": 4,
     "metadata": {},
     "output_type": "execute_result"
    }
   ],
   "source": [
    "df_reviews.head()"
   ]
  },
  {
   "attachments": {},
   "cell_type": "markdown",
   "metadata": {},
   "source": [
    "##### Clean Data"
   ]
  },
  {
   "cell_type": "code",
   "execution_count": 5,
   "metadata": {},
   "outputs": [],
   "source": [
    "def lowercase_text(text: str):\n",
    "    return text.lower()\n",
    "\n",
    "def remove_html_tags(text: str):\n",
    "    return re.sub(re.compile('<.*?>|&([a-z0-9]+|#[0-9]{1,6}|#x[0-9a-f]{1,6});'), '', text)\n",
    "\n",
    "def remove_url(text: str):\n",
    "    return re.sub(r'https?://\\S+|www\\.\\S+', '', text)\n",
    "\n",
    "def remove_punctuation_and_number(text: str):\n",
    "    return re.sub(r'[^a-zA-Z]', ' ', text)\n",
    "\n",
    "def remove_extra_spaces(text: str):\n",
    "    return re.sub(r'^\\s*|\\s\\s*', ' ', text).strip()\n",
    "\n",
    "def remove_stopwords(text: str):\n",
    "    stop_words = set(stopwords.words('english'))\n",
    "    tokens = word_tokenize(text)\n",
    "    tokens = [token for token in tokens if token not in stop_words]\n",
    "    return ' '.join(tokens)\n",
    "\n",
    "def remove_n_chars(text: str, n = 2):\n",
    "    return ' '.join( [w for w in text.split(' ') if len(w)>n] )\n",
    "\n",
    "def clean_data(text: str):\n",
    "    text = lowercase_text(text)\n",
    "    text = remove_html_tags(text)\n",
    "    text = remove_url(text)\n",
    "    text = remove_punctuation_and_number(text)\n",
    "    text = remove_extra_spaces(text)\n",
    "    text = remove_stopwords(text)\n",
    "    text = remove_n_chars(text)\n",
    "    return text"
   ]
  },
  {
   "cell_type": "code",
   "execution_count": 6,
   "metadata": {},
   "outputs": [],
   "source": [
    "df_preprocessing = df_reviews[['review_text', 'summary', 'sentiment']].copy()"
   ]
  },
  {
   "cell_type": "code",
   "execution_count": 7,
   "metadata": {},
   "outputs": [],
   "source": [
    "df_preprocessing['concatenated_review'] = df_preprocessing[['review_text', 'summary']].apply(\n",
    "    lambda x : \" \".join(str(y) for y in x if str(y) != 'nan'),\n",
    "    axis=1\n",
    ")\n",
    "\n",
    "df_preprocessing = df_preprocessing[['concatenated_review', 'sentiment']]"
   ]
  },
  {
   "cell_type": "code",
   "execution_count": 8,
   "metadata": {},
   "outputs": [
    {
     "data": {
      "text/html": [
       "<div>\n",
       "<style scoped>\n",
       "    .dataframe tbody tr th:only-of-type {\n",
       "        vertical-align: middle;\n",
       "    }\n",
       "\n",
       "    .dataframe tbody tr th {\n",
       "        vertical-align: top;\n",
       "    }\n",
       "\n",
       "    .dataframe thead th {\n",
       "        text-align: right;\n",
       "    }\n",
       "</style>\n",
       "<table border=\"1\" class=\"dataframe\">\n",
       "  <thead>\n",
       "    <tr style=\"text-align: right;\">\n",
       "      <th></th>\n",
       "      <th>concatenated_review</th>\n",
       "      <th>sentiment</th>\n",
       "    </tr>\n",
       "  </thead>\n",
       "  <tbody>\n",
       "    <tr>\n",
       "      <th>0</th>\n",
       "      <td>I got this to run as a dual monitor.  This is ...</td>\n",
       "      <td>1</td>\n",
       "    </tr>\n",
       "    <tr>\n",
       "      <th>1</th>\n",
       "      <td>Not as good as I had hoped, music is very low,...</td>\n",
       "      <td>1</td>\n",
       "    </tr>\n",
       "    <tr>\n",
       "      <th>2</th>\n",
       "      <td>Appreciate if product\\nNeed to buy one more if...</td>\n",
       "      <td>1</td>\n",
       "    </tr>\n",
       "    <tr>\n",
       "      <th>3</th>\n",
       "      <td>You get what you pay for Three Stars</td>\n",
       "      <td>1</td>\n",
       "    </tr>\n",
       "    <tr>\n",
       "      <th>4</th>\n",
       "      <td>Arrived in 2 days. working great. Recommend to...</td>\n",
       "      <td>1</td>\n",
       "    </tr>\n",
       "  </tbody>\n",
       "</table>\n",
       "</div>"
      ],
      "text/plain": [
       "                                 concatenated_review  sentiment\n",
       "0  I got this to run as a dual monitor.  This is ...          1\n",
       "1  Not as good as I had hoped, music is very low,...          1\n",
       "2  Appreciate if product\\nNeed to buy one more if...          1\n",
       "3               You get what you pay for Three Stars          1\n",
       "4  Arrived in 2 days. working great. Recommend to...          1"
      ]
     },
     "execution_count": 8,
     "metadata": {},
     "output_type": "execute_result"
    }
   ],
   "source": [
    "df_preprocessing.head()"
   ]
  },
  {
   "cell_type": "code",
   "execution_count": 9,
   "metadata": {},
   "outputs": [],
   "source": [
    "df_preprocessing['cleaned_review'] = df_preprocessing['concatenated_review'].apply(clean_data)"
   ]
  },
  {
   "cell_type": "code",
   "execution_count": 10,
   "metadata": {},
   "outputs": [
    {
     "data": {
      "text/html": [
       "<div>\n",
       "<style scoped>\n",
       "    .dataframe tbody tr th:only-of-type {\n",
       "        vertical-align: middle;\n",
       "    }\n",
       "\n",
       "    .dataframe tbody tr th {\n",
       "        vertical-align: top;\n",
       "    }\n",
       "\n",
       "    .dataframe thead th {\n",
       "        text-align: right;\n",
       "    }\n",
       "</style>\n",
       "<table border=\"1\" class=\"dataframe\">\n",
       "  <thead>\n",
       "    <tr style=\"text-align: right;\">\n",
       "      <th></th>\n",
       "      <th>concatenated_review</th>\n",
       "      <th>sentiment</th>\n",
       "      <th>cleaned_review</th>\n",
       "    </tr>\n",
       "  </thead>\n",
       "  <tbody>\n",
       "    <tr>\n",
       "      <th>0</th>\n",
       "      <td>I got this to run as a dual monitor.  This is ...</td>\n",
       "      <td>1</td>\n",
       "      <td>got run dual monitor second time purchasing mo...</td>\n",
       "    </tr>\n",
       "    <tr>\n",
       "      <th>1</th>\n",
       "      <td>Not as good as I had hoped, music is very low,...</td>\n",
       "      <td>1</td>\n",
       "      <td>good hoped music low phone volume pretty good ...</td>\n",
       "    </tr>\n",
       "    <tr>\n",
       "      <th>2</th>\n",
       "      <td>Appreciate if product\\nNeed to buy one more if...</td>\n",
       "      <td>1</td>\n",
       "      <td>appreciate product need buy one promotion need...</td>\n",
       "    </tr>\n",
       "    <tr>\n",
       "      <th>3</th>\n",
       "      <td>You get what you pay for Three Stars</td>\n",
       "      <td>1</td>\n",
       "      <td>get pay three stars</td>\n",
       "    </tr>\n",
       "    <tr>\n",
       "      <th>4</th>\n",
       "      <td>Arrived in 2 days. working great. Recommend to...</td>\n",
       "      <td>1</td>\n",
       "      <td>arrived days working great recommend others wo...</td>\n",
       "    </tr>\n",
       "  </tbody>\n",
       "</table>\n",
       "</div>"
      ],
      "text/plain": [
       "                                 concatenated_review  sentiment  \\\n",
       "0  I got this to run as a dual monitor.  This is ...          1   \n",
       "1  Not as good as I had hoped, music is very low,...          1   \n",
       "2  Appreciate if product\\nNeed to buy one more if...          1   \n",
       "3               You get what you pay for Three Stars          1   \n",
       "4  Arrived in 2 days. working great. Recommend to...          1   \n",
       "\n",
       "                                      cleaned_review  \n",
       "0  got run dual monitor second time purchasing mo...  \n",
       "1  good hoped music low phone volume pretty good ...  \n",
       "2  appreciate product need buy one promotion need...  \n",
       "3                                get pay three stars  \n",
       "4  arrived days working great recommend others wo...  "
      ]
     },
     "execution_count": 10,
     "metadata": {},
     "output_type": "execute_result"
    }
   ],
   "source": [
    "df_preprocessing.head()"
   ]
  },
  {
   "attachments": {},
   "cell_type": "markdown",
   "metadata": {},
   "source": [
    "##### Normalize Data"
   ]
  },
  {
   "attachments": {},
   "cell_type": "markdown",
   "metadata": {},
   "source": [
    "Part of Speech Tagging"
   ]
  },
  {
   "cell_type": "code",
   "execution_count": 11,
   "metadata": {},
   "outputs": [],
   "source": [
    "pos_dict = {\n",
    "    'J': wordnet.ADJ, \n",
    "    'V': wordnet.VERB, \n",
    "    'N': wordnet.NOUN, \n",
    "    'R': wordnet.ADV\n",
    "}\n",
    "\n",
    "def tag_pos(text):\n",
    "    result = []\n",
    "    tags = pos_tag(word_tokenize(text))\n",
    "\n",
    "    for word, tag in tags:\n",
    "        result.append(tuple([word, pos_dict.get(tag[0])]))\n",
    "            \n",
    "    return result"
   ]
  },
  {
   "cell_type": "code",
   "execution_count": 12,
   "metadata": {},
   "outputs": [],
   "source": [
    "df_preprocessing['pos_tagged_review'] = df_preprocessing['cleaned_review'].apply(tag_pos)"
   ]
  },
  {
   "cell_type": "code",
   "execution_count": 13,
   "metadata": {},
   "outputs": [
    {
     "data": {
      "text/html": [
       "<div>\n",
       "<style scoped>\n",
       "    .dataframe tbody tr th:only-of-type {\n",
       "        vertical-align: middle;\n",
       "    }\n",
       "\n",
       "    .dataframe tbody tr th {\n",
       "        vertical-align: top;\n",
       "    }\n",
       "\n",
       "    .dataframe thead th {\n",
       "        text-align: right;\n",
       "    }\n",
       "</style>\n",
       "<table border=\"1\" class=\"dataframe\">\n",
       "  <thead>\n",
       "    <tr style=\"text-align: right;\">\n",
       "      <th></th>\n",
       "      <th>concatenated_review</th>\n",
       "      <th>sentiment</th>\n",
       "      <th>cleaned_review</th>\n",
       "      <th>pos_tagged_review</th>\n",
       "    </tr>\n",
       "  </thead>\n",
       "  <tbody>\n",
       "    <tr>\n",
       "      <th>0</th>\n",
       "      <td>I got this to run as a dual monitor.  This is ...</td>\n",
       "      <td>1</td>\n",
       "      <td>got run dual monitor second time purchasing mo...</td>\n",
       "      <td>[(got, v), (run, v), (dual, a), (monitor, n), ...</td>\n",
       "    </tr>\n",
       "    <tr>\n",
       "      <th>1</th>\n",
       "      <td>Not as good as I had hoped, music is very low,...</td>\n",
       "      <td>1</td>\n",
       "      <td>good hoped music low phone volume pretty good ...</td>\n",
       "      <td>[(good, a), (hoped, v), (music, n), (low, a), ...</td>\n",
       "    </tr>\n",
       "    <tr>\n",
       "      <th>2</th>\n",
       "      <td>Appreciate if product\\nNeed to buy one more if...</td>\n",
       "      <td>1</td>\n",
       "      <td>appreciate product need buy one promotion need...</td>\n",
       "      <td>[(appreciate, a), (product, n), (need, n), (bu...</td>\n",
       "    </tr>\n",
       "    <tr>\n",
       "      <th>3</th>\n",
       "      <td>You get what you pay for Three Stars</td>\n",
       "      <td>1</td>\n",
       "      <td>get pay three stars</td>\n",
       "      <td>[(get, v), (pay, n), (three, None), (stars, n)]</td>\n",
       "    </tr>\n",
       "    <tr>\n",
       "      <th>4</th>\n",
       "      <td>Arrived in 2 days. working great. Recommend to...</td>\n",
       "      <td>1</td>\n",
       "      <td>arrived days working great recommend others wo...</td>\n",
       "      <td>[(arrived, v), (days, n), (working, v), (great...</td>\n",
       "    </tr>\n",
       "  </tbody>\n",
       "</table>\n",
       "</div>"
      ],
      "text/plain": [
       "                                 concatenated_review  sentiment  \\\n",
       "0  I got this to run as a dual monitor.  This is ...          1   \n",
       "1  Not as good as I had hoped, music is very low,...          1   \n",
       "2  Appreciate if product\\nNeed to buy one more if...          1   \n",
       "3               You get what you pay for Three Stars          1   \n",
       "4  Arrived in 2 days. working great. Recommend to...          1   \n",
       "\n",
       "                                      cleaned_review  \\\n",
       "0  got run dual monitor second time purchasing mo...   \n",
       "1  good hoped music low phone volume pretty good ...   \n",
       "2  appreciate product need buy one promotion need...   \n",
       "3                                get pay three stars   \n",
       "4  arrived days working great recommend others wo...   \n",
       "\n",
       "                                   pos_tagged_review  \n",
       "0  [(got, v), (run, v), (dual, a), (monitor, n), ...  \n",
       "1  [(good, a), (hoped, v), (music, n), (low, a), ...  \n",
       "2  [(appreciate, a), (product, n), (need, n), (bu...  \n",
       "3    [(get, v), (pay, n), (three, None), (stars, n)]  \n",
       "4  [(arrived, v), (days, n), (working, v), (great...  "
      ]
     },
     "execution_count": 13,
     "metadata": {},
     "output_type": "execute_result"
    }
   ],
   "source": [
    "df_preprocessing.head()"
   ]
  },
  {
   "attachments": {},
   "cell_type": "markdown",
   "metadata": {},
   "source": [
    "Lemmatization"
   ]
  },
  {
   "cell_type": "code",
   "execution_count": 14,
   "metadata": {},
   "outputs": [],
   "source": [
    "lemmatizer = WordNetLemmatizer()\n",
    "\n",
    "def lemmatize_pos_words(pos_words):\n",
    "    lemmas = []\n",
    "    for word, tag in pos_words:\n",
    "        if tag is None:\n",
    "            lemmas.append(word)\n",
    "        else:\n",
    "            lemmas.append(lemmatizer.lemmatize(word, tag))\n",
    "            \n",
    "    return \" \".join(lemmas)"
   ]
  },
  {
   "cell_type": "code",
   "execution_count": 15,
   "metadata": {},
   "outputs": [],
   "source": [
    "df_preprocessing['lemmatized_review'] = df_preprocessing['pos_tagged_review'].apply(lemmatize_pos_words)"
   ]
  },
  {
   "cell_type": "code",
   "execution_count": 16,
   "metadata": {},
   "outputs": [
    {
     "data": {
      "text/html": [
       "<div>\n",
       "<style scoped>\n",
       "    .dataframe tbody tr th:only-of-type {\n",
       "        vertical-align: middle;\n",
       "    }\n",
       "\n",
       "    .dataframe tbody tr th {\n",
       "        vertical-align: top;\n",
       "    }\n",
       "\n",
       "    .dataframe thead th {\n",
       "        text-align: right;\n",
       "    }\n",
       "</style>\n",
       "<table border=\"1\" class=\"dataframe\">\n",
       "  <thead>\n",
       "    <tr style=\"text-align: right;\">\n",
       "      <th></th>\n",
       "      <th>concatenated_review</th>\n",
       "      <th>sentiment</th>\n",
       "      <th>cleaned_review</th>\n",
       "      <th>pos_tagged_review</th>\n",
       "      <th>lemmatized_review</th>\n",
       "    </tr>\n",
       "  </thead>\n",
       "  <tbody>\n",
       "    <tr>\n",
       "      <th>0</th>\n",
       "      <td>I got this to run as a dual monitor.  This is ...</td>\n",
       "      <td>1</td>\n",
       "      <td>got run dual monitor second time purchasing mo...</td>\n",
       "      <td>[(got, v), (run, v), (dual, a), (monitor, n), ...</td>\n",
       "      <td>get run dual monitor second time purchase moni...</td>\n",
       "    </tr>\n",
       "    <tr>\n",
       "      <th>1</th>\n",
       "      <td>Not as good as I had hoped, music is very low,...</td>\n",
       "      <td>1</td>\n",
       "      <td>good hoped music low phone volume pretty good ...</td>\n",
       "      <td>[(good, a), (hoped, v), (music, n), (low, a), ...</td>\n",
       "      <td>good hop music low phone volume pretty good bl...</td>\n",
       "    </tr>\n",
       "    <tr>\n",
       "      <th>2</th>\n",
       "      <td>Appreciate if product\\nNeed to buy one more if...</td>\n",
       "      <td>1</td>\n",
       "      <td>appreciate product need buy one promotion need...</td>\n",
       "      <td>[(appreciate, a), (product, n), (need, n), (bu...</td>\n",
       "      <td>appreciate product need buy one promotion need...</td>\n",
       "    </tr>\n",
       "    <tr>\n",
       "      <th>3</th>\n",
       "      <td>You get what you pay for Three Stars</td>\n",
       "      <td>1</td>\n",
       "      <td>get pay three stars</td>\n",
       "      <td>[(get, v), (pay, n), (three, None), (stars, n)]</td>\n",
       "      <td>get pay three star</td>\n",
       "    </tr>\n",
       "    <tr>\n",
       "      <th>4</th>\n",
       "      <td>Arrived in 2 days. working great. Recommend to...</td>\n",
       "      <td>1</td>\n",
       "      <td>arrived days working great recommend others wo...</td>\n",
       "      <td>[(arrived, v), (days, n), (working, v), (great...</td>\n",
       "      <td>arrive day work great recommend others work gr...</td>\n",
       "    </tr>\n",
       "  </tbody>\n",
       "</table>\n",
       "</div>"
      ],
      "text/plain": [
       "                                 concatenated_review  sentiment  \\\n",
       "0  I got this to run as a dual monitor.  This is ...          1   \n",
       "1  Not as good as I had hoped, music is very low,...          1   \n",
       "2  Appreciate if product\\nNeed to buy one more if...          1   \n",
       "3               You get what you pay for Three Stars          1   \n",
       "4  Arrived in 2 days. working great. Recommend to...          1   \n",
       "\n",
       "                                      cleaned_review  \\\n",
       "0  got run dual monitor second time purchasing mo...   \n",
       "1  good hoped music low phone volume pretty good ...   \n",
       "2  appreciate product need buy one promotion need...   \n",
       "3                                get pay three stars   \n",
       "4  arrived days working great recommend others wo...   \n",
       "\n",
       "                                   pos_tagged_review  \\\n",
       "0  [(got, v), (run, v), (dual, a), (monitor, n), ...   \n",
       "1  [(good, a), (hoped, v), (music, n), (low, a), ...   \n",
       "2  [(appreciate, a), (product, n), (need, n), (bu...   \n",
       "3    [(get, v), (pay, n), (three, None), (stars, n)]   \n",
       "4  [(arrived, v), (days, n), (working, v), (great...   \n",
       "\n",
       "                                   lemmatized_review  \n",
       "0  get run dual monitor second time purchase moni...  \n",
       "1  good hop music low phone volume pretty good bl...  \n",
       "2  appreciate product need buy one promotion need...  \n",
       "3                                 get pay three star  \n",
       "4  arrive day work great recommend others work gr...  "
      ]
     },
     "execution_count": 16,
     "metadata": {},
     "output_type": "execute_result"
    }
   ],
   "source": [
    "df_preprocessing = df_preprocessing[df_preprocessing['lemmatized_review'].str.len() > 0]\n",
    "df_preprocessing.head()"
   ]
  },
  {
   "attachments": {},
   "cell_type": "markdown",
   "metadata": {},
   "source": [
    "##### Export as Json"
   ]
  },
  {
   "cell_type": "code",
   "execution_count": 17,
   "metadata": {},
   "outputs": [],
   "source": [
    "df_preprocessing[[\n",
    "    \"lemmatized_review\",\n",
    "    \"sentiment\"\n",
    "]].rename(\n",
    "    columns={'lemmatized_review':'cleaned_review'}\n",
    ").to_json(\n",
    "    '../../data/processed/reviews.json.gz', compression=\"gzip\", orient=\"records\", indent=2\n",
    ")"
   ]
  }
 ],
 "metadata": {
  "kernelspec": {
   "display_name": "base",
   "language": "python",
   "name": "python3"
  },
  "language_info": {
   "codemirror_mode": {
    "name": "ipython",
    "version": 3
   },
   "file_extension": ".py",
   "mimetype": "text/x-python",
   "name": "python",
   "nbconvert_exporter": "python",
   "pygments_lexer": "ipython3",
   "version": "3.9.13"
  },
  "orig_nbformat": 4
 },
 "nbformat": 4,
 "nbformat_minor": 2
}
