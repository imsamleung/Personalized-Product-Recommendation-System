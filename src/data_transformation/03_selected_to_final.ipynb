{
 "cells": [
  {
   "attachments": {},
   "cell_type": "markdown",
   "metadata": {},
   "source": [
    "##### Library"
   ]
  },
  {
   "cell_type": "code",
   "execution_count": 55,
   "metadata": {},
   "outputs": [
    {
     "data": {
      "text/plain": [
       "polars.config.Config"
      ]
     },
     "execution_count": 55,
     "metadata": {},
     "output_type": "execute_result"
    }
   ],
   "source": [
    "import pandas as pd\n",
    "import polars as pl\n",
    "\n",
    "pl.Config.set_fmt_str_lengths(100)"
   ]
  },
  {
   "attachments": {},
   "cell_type": "markdown",
   "metadata": {},
   "source": [
    "##### Function"
   ]
  },
  {
   "cell_type": "code",
   "execution_count": 56,
   "metadata": {},
   "outputs": [],
   "source": [
    "def read_json(path):\n",
    "    return pl.from_pandas(pd.read_json(path, orient=\"records\", compression=\"gzip\"))"
   ]
  },
  {
   "attachments": {},
   "cell_type": "markdown",
   "metadata": {},
   "source": [
    "##### Configuration"
   ]
  },
  {
   "cell_type": "code",
   "execution_count": 57,
   "metadata": {},
   "outputs": [],
   "source": [
    "path_data_selected = '../../data/interim/selected'\n",
    "path_data_final = '../../data/interim/final'\n",
    "\n",
    "file_name_products = 'products.json.gz'\n",
    "file_name_reviews = 'reviews.json.gz'\n",
    "file_name_users = 'users.json.gz'\n",
    "file_name_products_categories = 'products_categories.json.gz'\n",
    "file_name_categories = 'categories.json.gz'\n",
    "\n",
    "categories = ['cameras', 'desktops', 'headphones', 'laptops', 'monitors', 'smartwatches', 'tablets']"
   ]
  },
  {
   "attachments": {},
   "cell_type": "markdown",
   "metadata": {},
   "source": [
    "##### Products"
   ]
  },
  {
   "cell_type": "code",
   "execution_count": 58,
   "metadata": {},
   "outputs": [],
   "source": [
    "df_products = pl.DataFrame(schema=[\n",
    "    (\"product_id\", pl.Utf8), \n",
    "    (\"category\", pl.Utf8), \n",
    "    (\"name\", pl.Utf8), \n",
    "    (\"description\", pl.Utf8), \n",
    "    (\"price\", pl.Float64), \n",
    "    (\"image_url\", pl.List(pl.Utf8))\n",
    "])"
   ]
  },
  {
   "cell_type": "code",
   "execution_count": 59,
   "metadata": {},
   "outputs": [],
   "source": [
    "for i in range(len(categories)):\n",
    "    df_products.extend(read_json(f'{path_data_selected}/{categories[i]}/{file_name_products}'))\n",
    "\n",
    "df_products = df_products.sort(by=['product_id'])"
   ]
  },
  {
   "cell_type": "code",
   "execution_count": 60,
   "metadata": {},
   "outputs": [
    {
     "data": {
      "text/html": [
       "<div><style>\n",
       ".dataframe > thead > tr > th,\n",
       ".dataframe > tbody > tr > td {\n",
       "  text-align: right;\n",
       "}\n",
       "</style>\n",
       "<small>shape: (7, 7)</small><table border=\"1\" class=\"dataframe\"><thead><tr><th>describe</th><th>product_id</th><th>category</th><th>name</th><th>description</th><th>price</th><th>image_url</th></tr><tr><td>str</td><td>str</td><td>str</td><td>str</td><td>str</td><td>f64</td><td>str</td></tr></thead><tbody><tr><td>&quot;count&quot;</td><td>&quot;1798&quot;</td><td>&quot;1798&quot;</td><td>&quot;1798&quot;</td><td>&quot;1798&quot;</td><td>1798.0</td><td>&quot;1798&quot;</td></tr><tr><td>&quot;null_count&quot;</td><td>&quot;0&quot;</td><td>&quot;0&quot;</td><td>&quot;0&quot;</td><td>&quot;0&quot;</td><td>0.0</td><td>&quot;0&quot;</td></tr><tr><td>&quot;mean&quot;</td><td>null</td><td>null</td><td>null</td><td>null</td><td>122.188877</td><td>null</td></tr><tr><td>&quot;std&quot;</td><td>null</td><td>null</td><td>null</td><td>null</td><td>182.196417</td><td>null</td></tr><tr><td>&quot;min&quot;</td><td>&quot;B00001W0DG&quot;</td><td>&quot;Electronics,Camera &amp; Photo,Digital Cameras&quot;</td><td>&quot; Apple 13&amp;quot; MacBook Notebook Computer MB404LL/A (Black)&quot;</td><td>&quot;&quot;Experience brilliant PC performance that lets you communicate with friends and family, enjoy enter...</td><td>0.0</td><td>null</td></tr><tr><td>&quot;max&quot;</td><td>&quot;B01HIHHRHQ&quot;</td><td>&quot;Electronics,Wearable Technology,Smartwatches,Seamleasly integrated with Alexa, Amazon&#x27;s cloud-based...</td><td>&quot;xtraem H2000 Pro Series Studio Style Headphone&quot;</td><td>&quot;white colors&quot;</td><td>999.99</td><td>null</td></tr><tr><td>&quot;median&quot;</td><td>null</td><td>null</td><td>null</td><td>null</td><td>45.25</td><td>null</td></tr></tbody></table></div>"
      ],
      "text/plain": [
       "shape: (7, 7)\n",
       "┌────────────┬────────────┬───────────────┬───────────────┬───────────────┬────────────┬───────────┐\n",
       "│ describe   ┆ product_id ┆ category      ┆ name          ┆ description   ┆ price      ┆ image_url │\n",
       "│ ---        ┆ ---        ┆ ---           ┆ ---           ┆ ---           ┆ ---        ┆ ---       │\n",
       "│ str        ┆ str        ┆ str           ┆ str           ┆ str           ┆ f64        ┆ str       │\n",
       "╞════════════╪════════════╪═══════════════╪═══════════════╪═══════════════╪════════════╪═══════════╡\n",
       "│ count      ┆ 1798       ┆ 1798          ┆ 1798          ┆ 1798          ┆ 1798.0     ┆ 1798      │\n",
       "│ null_count ┆ 0          ┆ 0             ┆ 0             ┆ 0             ┆ 0.0        ┆ 0         │\n",
       "│ mean       ┆ null       ┆ null          ┆ null          ┆ null          ┆ 122.188877 ┆ null      │\n",
       "│ std        ┆ null       ┆ null          ┆ null          ┆ null          ┆ 182.196417 ┆ null      │\n",
       "│ min        ┆ B00001W0DG ┆ Electronics,C ┆ Apple         ┆ \"Experience   ┆ 0.0        ┆ null      │\n",
       "│            ┆            ┆ amera &       ┆ 13&quot;      ┆ brilliant PC  ┆            ┆           │\n",
       "│            ┆            ┆ Photo,Digital ┆ MacBook       ┆ performance   ┆            ┆           │\n",
       "│            ┆            ┆ Cameras       ┆ Notebook      ┆ that lets you ┆            ┆           │\n",
       "│            ┆            ┆               ┆ Computer      ┆ communicate   ┆            ┆           │\n",
       "│            ┆            ┆               ┆ MB404LL/A     ┆ with friends  ┆            ┆           │\n",
       "│            ┆            ┆               ┆ (Black)       ┆ and family,   ┆            ┆           │\n",
       "│            ┆            ┆               ┆               ┆ enjoy         ┆            ┆           │\n",
       "│            ┆            ┆               ┆               ┆ entert...     ┆            ┆           │\n",
       "│ max        ┆ B01HIHHRHQ ┆ Electronics,W ┆ xtraem H2000  ┆ white colors  ┆ 999.99     ┆ null      │\n",
       "│            ┆            ┆ earable Techn ┆ Pro Series    ┆               ┆            ┆           │\n",
       "│            ┆            ┆ ology,Smartwa ┆ Studio Style  ┆               ┆            ┆           │\n",
       "│            ┆            ┆ tches,Seamlea ┆ Headphone     ┆               ┆            ┆           │\n",
       "│            ┆            ┆ sly           ┆               ┆               ┆            ┆           │\n",
       "│            ┆            ┆ integrated    ┆               ┆               ┆            ┆           │\n",
       "│            ┆            ┆ with Alexa,   ┆               ┆               ┆            ┆           │\n",
       "│            ┆            ┆ Amazon's      ┆               ┆               ┆            ┆           │\n",
       "│            ┆            ┆ cloud-based   ┆               ┆               ┆            ┆           │\n",
       "│            ┆            ┆ ...           ┆               ┆               ┆            ┆           │\n",
       "│ median     ┆ null       ┆ null          ┆ null          ┆ null          ┆ 45.25      ┆ null      │\n",
       "└────────────┴────────────┴───────────────┴───────────────┴───────────────┴────────────┴───────────┘"
      ]
     },
     "execution_count": 60,
     "metadata": {},
     "output_type": "execute_result"
    }
   ],
   "source": [
    "df_products.describe()"
   ]
  },
  {
   "cell_type": "code",
   "execution_count": 61,
   "metadata": {},
   "outputs": [
    {
     "data": {
      "text/html": [
       "<div><style>\n",
       ".dataframe > thead > tr > th,\n",
       ".dataframe > tbody > tr > td {\n",
       "  text-align: right;\n",
       "}\n",
       "</style>\n",
       "<small>shape: (5, 6)</small><table border=\"1\" class=\"dataframe\"><thead><tr><th>product_id</th><th>category</th><th>name</th><th>description</th><th>price</th><th>image_url</th></tr><tr><td>str</td><td>str</td><td>str</td><td>str</td><td>f64</td><td>list[str]</td></tr></thead><tbody><tr><td>&quot;B00001W0DG&quot;</td><td>&quot;Electronics,Headphones,On-Ear Headphones&quot;</td><td>&quot;Sony MDR-V500DJ Monitor Series Headphones with Swivel Earcups (Discontinued by Manufacturer)&quot;</td><td>&quot;Revel in high-quality audio with the MDR-V500DJ Studio Monitor Series DJ headphones. Featuring reve...</td><td>6.61</td><td>[&quot;https://images-na.ssl-images-amazon.com/images/I/21UDx%2BHFMJL.jpg&quot;]</td></tr><tr><td>&quot;B00004TLW2&quot;</td><td>&quot;Electronics,Camera &amp; Photo,Digital Cameras,Point &amp; Shoot Digital Cameras&quot;</td><td>&quot;Fujifilm MX2900 2.3MP Digital Camera w/ 3x Optical Zoom Bundle&quot;</td><td>&quot;The FujiFilm MX-2900 digital camera includes some of the best features in digital imaging. With 2.3...</td><td>112.27</td><td>[&quot;https://images-na.ssl-images-amazon.com/images/I/41VAMXNBNPL.jpg&quot;, &quot;https://images-na.ssl-images-amazon.com/images/I/41QMVYA6RFL.jpg&quot;, ... &quot;https://images-na.ssl-images-amazon.com/images/I/318C9AXX78L.jpg&quot;]</td></tr><tr><td>&quot;B00004VUM1&quot;</td><td>&quot;Electronics,Camera &amp;amp; Photo,Digital Cameras&quot;</td><td>&quot;Sony MVC-FD95 Mavica 2MP Digital Camera with 10x Optical Zoom&quot;</td><td>&quot;w/ Canon SELPHY CP760 Compact Photo Printer 32 MB MultiMediaCard SD Memory Card SDHC Memory Card Mu...</td><td>99.0</td><td>[&quot;https://images-na.ssl-images-amazon.com/images/I/51ZQT04EX5L.jpg&quot;]</td></tr><tr><td>&quot;B00004WFYN&quot;</td><td>&quot;Electronics,Headphones,Over-Ear Headphones&quot;</td><td>&quot;Plantronics H141 Duoset Convertible Headset (Discontinued by Manufacturer)&quot;</td><td>&quot;- Convertible headset&lt;br /&gt;- Quick disconnect (PL-M22 or PL-P10 adapter required)&lt;br /&gt;- Convertibl...</td><td>59.0</td><td>[&quot;https://images-na.ssl-images-amazon.com/images/I/31KN5QDRGGL.jpg&quot;, &quot;https://images-na.ssl-images-amazon.com/images/I/31B0TQQPP4L.jpg&quot;, ... &quot;https://images-na.ssl-images-amazon.com/images/I/41PJM3SF33L.jpg&quot;]</td></tr><tr><td>&quot;B00004XSHN&quot;</td><td>&quot;Electronics,Camera &amp;amp; Photo,Digital Cameras,Point &amp;amp; Shoot Digital Cameras&quot;</td><td>&quot;Fujifilm FinePix 4900 4.3MP Digital Camera w/ 6x Optical Zoom&quot;</td><td>&quot;Fuji&#x27;s FinePix 4900 is one of a new style of consumer digital cameras appearing on the market. Borr...</td><td>60.0</td><td>[&quot;https://images-na.ssl-images-amazon.com/images/I/51ME06E3MRL.jpg&quot;, &quot;https://images-na.ssl-images-amazon.com/images/I/51ESWN8RSML.jpg&quot;]</td></tr></tbody></table></div>"
      ],
      "text/plain": [
       "shape: (5, 6)\n",
       "┌────────────┬───────────────────┬──────────────────┬──────────────────┬────────┬──────────────────┐\n",
       "│ product_id ┆ category          ┆ name             ┆ description      ┆ price  ┆ image_url        │\n",
       "│ ---        ┆ ---               ┆ ---              ┆ ---              ┆ ---    ┆ ---              │\n",
       "│ str        ┆ str               ┆ str              ┆ str              ┆ f64    ┆ list[str]        │\n",
       "╞════════════╪═══════════════════╪══════════════════╪══════════════════╪════════╪══════════════════╡\n",
       "│ B00001W0DG ┆ Electronics,Headp ┆ Sony MDR-V500DJ  ┆ Revel in         ┆ 6.61   ┆ [\"https://images │\n",
       "│            ┆ hones,On-Ear      ┆ Monitor Series   ┆ high-quality     ┆        ┆ -na.ssl-images-a │\n",
       "│            ┆ Headphones        ┆ Headphones with  ┆ audio with the   ┆        ┆ mazon.com/images │\n",
       "│            ┆                   ┆ Swivel Earcups   ┆ MDR-V500DJ       ┆        ┆ /I/21UDx%2BHFMJL │\n",
       "│            ┆                   ┆ (Discontinued by ┆ Studio Monitor   ┆        ┆ .jpg\"]           │\n",
       "│            ┆                   ┆ Manufacturer)    ┆ Series DJ        ┆        ┆                  │\n",
       "│            ┆                   ┆                  ┆ headphones.      ┆        ┆                  │\n",
       "│            ┆                   ┆                  ┆ Featuring        ┆        ┆                  │\n",
       "│            ┆                   ┆                  ┆ rever...         ┆        ┆                  │\n",
       "│ B00004TLW2 ┆ Electronics,Camer ┆ Fujifilm MX2900  ┆ The FujiFilm     ┆ 112.27 ┆ [\"https://images │\n",
       "│            ┆ a & Photo,Digital ┆ 2.3MP Digital    ┆ MX-2900 digital  ┆        ┆ -na.ssl-images-a │\n",
       "│            ┆ Cameras,Point &   ┆ Camera w/ 3x     ┆ camera includes  ┆        ┆ mazon.com/images │\n",
       "│            ┆ Shoot Digital     ┆ Optical Zoom     ┆ some of the best ┆        ┆ /I/41VAMXNBNPL.j │\n",
       "│            ┆ Cameras           ┆ Bundle           ┆ features in      ┆        ┆ pg\", \"https://im │\n",
       "│            ┆                   ┆                  ┆ digital imaging. ┆        ┆ ages-na.ssl-imag │\n",
       "│            ┆                   ┆                  ┆ With 2.3 ...     ┆        ┆ es-a...          │\n",
       "│ B00004VUM1 ┆ Electronics,Camer ┆ Sony MVC-FD95    ┆ w/ Canon SELPHY  ┆ 99.0   ┆ [\"https://images │\n",
       "│            ┆ a &amp;           ┆ Mavica 2MP       ┆ CP760 Compact    ┆        ┆ -na.ssl-images-a │\n",
       "│            ┆ Photo,Digital     ┆ Digital Camera   ┆ Photo Printer 32 ┆        ┆ mazon.com/images │\n",
       "│            ┆ Cameras           ┆ with 10x Optical ┆ MB               ┆        ┆ /I/51ZQT04EX5L.j │\n",
       "│            ┆                   ┆ Zoom             ┆ MultiMediaCard   ┆        ┆ pg\"]             │\n",
       "│            ┆                   ┆                  ┆ SD Memory Card   ┆        ┆                  │\n",
       "│            ┆                   ┆                  ┆ SDHC Memory Card ┆        ┆                  │\n",
       "│            ┆                   ┆                  ┆ Mul...           ┆        ┆                  │\n",
       "│ B00004WFYN ┆ Electronics,Headp ┆ Plantronics H141 ┆ - Convertible    ┆ 59.0   ┆ [\"https://images │\n",
       "│            ┆ hones,Over-Ear    ┆ Duoset           ┆ headset<br />-   ┆        ┆ -na.ssl-images-a │\n",
       "│            ┆ Headphones        ┆ Convertible      ┆ Quick disconnect ┆        ┆ mazon.com/images │\n",
       "│            ┆                   ┆ Headset          ┆ (PL-M22 or       ┆        ┆ /I/31KN5QDRGGL.j │\n",
       "│            ┆                   ┆ (Discontinued by ┆ PL-P10 adapter   ┆        ┆ pg\", \"https://im │\n",
       "│            ┆                   ┆ Manufacturer)    ┆ required)<br />- ┆        ┆ ages-na.ssl-imag │\n",
       "│            ┆                   ┆                  ┆ Convertible...   ┆        ┆ es-a...          │\n",
       "│ B00004XSHN ┆ Electronics,Camer ┆ Fujifilm FinePix ┆ Fuji's FinePix   ┆ 60.0   ┆ [\"https://images │\n",
       "│            ┆ a &amp;           ┆ 4900 4.3MP       ┆ 4900 is one of a ┆        ┆ -na.ssl-images-a │\n",
       "│            ┆ Photo,Digital     ┆ Digital Camera   ┆ new style of     ┆        ┆ mazon.com/images │\n",
       "│            ┆ Cameras,Point     ┆ w/ 6x Optical    ┆ consumer digital ┆        ┆ /I/51ME06E3MRL.j │\n",
       "│            ┆ &amp; Shoot       ┆ Zoom             ┆ cameras          ┆        ┆ pg\", \"https://im │\n",
       "│            ┆ Digital Cameras   ┆                  ┆ appearing on the ┆        ┆ ages-na.ssl-imag │\n",
       "│            ┆                   ┆                  ┆ market. Borro... ┆        ┆ es-a...          │\n",
       "└────────────┴───────────────────┴──────────────────┴──────────────────┴────────┴──────────────────┘"
      ]
     },
     "execution_count": 61,
     "metadata": {},
     "output_type": "execute_result"
    }
   ],
   "source": [
    "df_products.head()"
   ]
  },
  {
   "cell_type": "code",
   "execution_count": 62,
   "metadata": {},
   "outputs": [],
   "source": [
    "df_products.drop(columns=['category']).to_pandas().to_json(f\"{path_data_final}/{file_name_products}\", compression=\"gzip\", orient=\"records\", indent=2)"
   ]
  },
  {
   "attachments": {},
   "cell_type": "markdown",
   "metadata": {},
   "source": [
    "##### Reviews"
   ]
  },
  {
   "cell_type": "code",
   "execution_count": 63,
   "metadata": {},
   "outputs": [],
   "source": [
    "df_reviews = pl.DataFrame(schema=[\n",
    "    (\"user_id\", pl.Utf8), \n",
    "    (\"product_id\", pl.Utf8), \n",
    "    (\"ratings\", pl.Int64), \n",
    "    (\"review_text\", pl.Utf8), \n",
    "    (\"summary\", pl.Utf8), \n",
    "    (\"created_at\", pl.Datetime(\"ns\"))\n",
    "])"
   ]
  },
  {
   "cell_type": "code",
   "execution_count": 64,
   "metadata": {},
   "outputs": [],
   "source": [
    "for i in range(len(categories)):\n",
    "    df_reviews.extend(read_json(f'{path_data_selected}/{categories[i]}/{file_name_reviews}'))\n",
    "\n",
    "df_reviews = df_reviews.sort(by=['user_id', 'product_id', 'created_at'])"
   ]
  },
  {
   "cell_type": "code",
   "execution_count": 65,
   "metadata": {},
   "outputs": [
    {
     "data": {
      "text/html": [
       "<div><style>\n",
       ".dataframe > thead > tr > th,\n",
       ".dataframe > tbody > tr > td {\n",
       "  text-align: right;\n",
       "}\n",
       "</style>\n",
       "<small>shape: (7, 7)</small><table border=\"1\" class=\"dataframe\"><thead><tr><th>describe</th><th>user_id</th><th>product_id</th><th>ratings</th><th>review_text</th><th>summary</th><th>created_at</th></tr><tr><td>str</td><td>str</td><td>str</td><td>f64</td><td>str</td><td>str</td><td>str</td></tr></thead><tbody><tr><td>&quot;count&quot;</td><td>&quot;59561&quot;</td><td>&quot;59561&quot;</td><td>59561.0</td><td>&quot;59561&quot;</td><td>&quot;59561&quot;</td><td>&quot;59561&quot;</td></tr><tr><td>&quot;null_count&quot;</td><td>&quot;0&quot;</td><td>&quot;0&quot;</td><td>0.0</td><td>&quot;0&quot;</td><td>&quot;0&quot;</td><td>&quot;0&quot;</td></tr><tr><td>&quot;mean&quot;</td><td>null</td><td>null</td><td>4.251255</td><td>null</td><td>null</td><td>null</td></tr><tr><td>&quot;std&quot;</td><td>null</td><td>null</td><td>1.195757</td><td>null</td><td>null</td><td>null</td></tr><tr><td>&quot;min&quot;</td><td>&quot;A0203183BAH3TR08FZGB&quot;</td><td>&quot;B00001W0DG&quot;</td><td>1.0</td><td>&quot;  \n",
       "\n",
       "These are fantastic for the price!\n",
       "\n",
       "I bought these as a gift for someone. When I tried them out...</td><td>&quot; 1 GB/s crypto. Great for pfSense!&quot;</td><td>&quot;2000-09-18 00:00:00.000000000&quot;</td></tr><tr><td>&quot;max&quot;</td><td>&quot;AZZZF5PSCPILV&quot;</td><td>&quot;B01HH8H2WQ&quot;</td><td>5.0</td><td>&quot;~~~Update 12/15/2009~~~\n",
       "Just came back from USPS after spending $10 on shipping it back insured. Ke...</td><td>&quot;you&#x27;re just used to that crap monitor you&#x27;ve been using since college&quot;</td><td>&quot;2018-09-28 00:00:00.000000000&quot;</td></tr><tr><td>&quot;median&quot;</td><td>null</td><td>null</td><td>5.0</td><td>null</td><td>null</td><td>null</td></tr></tbody></table></div>"
      ],
      "text/plain": [
       "shape: (7, 7)\n",
       "┌────────────┬───────────────┬────────────┬──────────┬───────────────┬──────────────┬──────────────┐\n",
       "│ describe   ┆ user_id       ┆ product_id ┆ ratings  ┆ review_text   ┆ summary      ┆ created_at   │\n",
       "│ ---        ┆ ---           ┆ ---        ┆ ---      ┆ ---           ┆ ---          ┆ ---          │\n",
       "│ str        ┆ str           ┆ str        ┆ f64      ┆ str           ┆ str          ┆ str          │\n",
       "╞════════════╪═══════════════╪════════════╪══════════╪═══════════════╪══════════════╪══════════════╡\n",
       "│ count      ┆ 59561         ┆ 59561      ┆ 59561.0  ┆ 59561         ┆ 59561        ┆ 59561        │\n",
       "│ null_count ┆ 0             ┆ 0          ┆ 0.0      ┆ 0             ┆ 0            ┆ 0            │\n",
       "│ mean       ┆ null          ┆ null       ┆ 4.251255 ┆ null          ┆ null         ┆ null         │\n",
       "│ std        ┆ null          ┆ null       ┆ 1.195757 ┆ null          ┆ null         ┆ null         │\n",
       "│ min        ┆ A0203183BAH3T ┆ B00001W0DG ┆ 1.0      ┆               ┆ 1 GB/s       ┆ 2000-09-18   │\n",
       "│            ┆ R08FZGB       ┆            ┆          ┆               ┆ crypto.      ┆ 00:00:00.000 │\n",
       "│            ┆               ┆            ┆          ┆ These are     ┆ Great for    ┆ 000000       │\n",
       "│            ┆               ┆            ┆          ┆ fantastic for ┆ pfSense!     ┆              │\n",
       "│            ┆               ┆            ┆          ┆ the price!    ┆              ┆              │\n",
       "│            ┆               ┆            ┆          ┆               ┆              ┆              │\n",
       "│            ┆               ┆            ┆          ┆ I bought      ┆              ┆              │\n",
       "│            ┆               ┆            ┆          ┆ these as a    ┆              ┆              │\n",
       "│            ┆               ┆            ┆          ┆ gift for      ┆              ┆              │\n",
       "│            ┆               ┆            ┆          ┆ someone. When ┆              ┆              │\n",
       "│            ┆               ┆            ┆          ┆ I tried them  ┆              ┆              │\n",
       "│            ┆               ┆            ┆          ┆ out ...       ┆              ┆              │\n",
       "│ max        ┆ AZZZF5PSCPILV ┆ B01HH8H2WQ ┆ 5.0      ┆ ~~~Update     ┆ you're just  ┆ 2018-09-28   │\n",
       "│            ┆               ┆            ┆          ┆ 12/15/2009~~~ ┆ used to that ┆ 00:00:00.000 │\n",
       "│            ┆               ┆            ┆          ┆ Just came     ┆ crap monitor ┆ 000000       │\n",
       "│            ┆               ┆            ┆          ┆ back from     ┆ you've been  ┆              │\n",
       "│            ┆               ┆            ┆          ┆ USPS after    ┆ using since  ┆              │\n",
       "│            ┆               ┆            ┆          ┆ spending $10  ┆ college      ┆              │\n",
       "│            ┆               ┆            ┆          ┆ on shipping   ┆              ┆              │\n",
       "│            ┆               ┆            ┆          ┆ it back       ┆              ┆              │\n",
       "│            ┆               ┆            ┆          ┆ insured.      ┆              ┆              │\n",
       "│            ┆               ┆            ┆          ┆ Kee...        ┆              ┆              │\n",
       "│ median     ┆ null          ┆ null       ┆ 5.0      ┆ null          ┆ null         ┆ null         │\n",
       "└────────────┴───────────────┴────────────┴──────────┴───────────────┴──────────────┴──────────────┘"
      ]
     },
     "execution_count": 65,
     "metadata": {},
     "output_type": "execute_result"
    }
   ],
   "source": [
    "df_reviews.describe()"
   ]
  },
  {
   "cell_type": "code",
   "execution_count": 66,
   "metadata": {},
   "outputs": [
    {
     "data": {
      "text/html": [
       "<div><style>\n",
       ".dataframe > thead > tr > th,\n",
       ".dataframe > tbody > tr > td {\n",
       "  text-align: right;\n",
       "}\n",
       "</style>\n",
       "<small>shape: (5, 6)</small><table border=\"1\" class=\"dataframe\"><thead><tr><th>user_id</th><th>product_id</th><th>ratings</th><th>review_text</th><th>summary</th><th>created_at</th></tr><tr><td>str</td><td>str</td><td>i64</td><td>str</td><td>str</td><td>datetime[ns]</td></tr></thead><tbody><tr><td>&quot;A0203183BAH3TR08FZGB&quot;</td><td>&quot;B0043T7FHK&quot;</td><td>5</td><td>&quot;I got this to run as a dual monitor.  This is my second time purchasing this monitor so now I have ...</td><td>&quot;This is my second time purchasing this monitor so now I have two and they are great. I used to use ...</td><td>2015-06-30 00:00:00</td></tr><tr><td>&quot;A0261431Y0V4MHWY4B7W&quot;</td><td>&quot;B00AFH2E8E&quot;</td><td>4</td><td>&quot;Not as good as I had hoped, music is very low, phone volume is pretty good.&quot;</td><td>&quot;Bluetooth headset&quot;</td><td>2014-08-03 00:00:00</td></tr><tr><td>&quot;A034116598G557EYZ9BC&quot;</td><td>&quot;B0013FRNKG&quot;</td><td>5</td><td>&quot;Appreciate if product\n",
       "Need to buy one more if any promotion is on to it\n",
       "Need to buy at more competi...</td><td>&quot;great value&quot;</td><td>2012-11-28 00:00:00</td></tr><tr><td>&quot;A0404374X0HL5T332XSN&quot;</td><td>&quot;B00MNOPS1C&quot;</td><td>3</td><td>&quot;You get what you pay for&quot;</td><td>&quot;Three Stars&quot;</td><td>2016-02-02 00:00:00</td></tr><tr><td>&quot;A0431622H67YR5IPJRN&quot;</td><td>&quot;B0058UUR6E&quot;</td><td>5</td><td>&quot;Arrived in 2 days. working great. Recommend to others.&quot;</td><td>&quot;working great. Recommend to others&quot;</td><td>2015-03-11 00:00:00</td></tr></tbody></table></div>"
      ],
      "text/plain": [
       "shape: (5, 6)\n",
       "┌────────────────────┬────────────┬─────────┬───────────────────┬───────────────────┬──────────────┐\n",
       "│ user_id            ┆ product_id ┆ ratings ┆ review_text       ┆ summary           ┆ created_at   │\n",
       "│ ---                ┆ ---        ┆ ---     ┆ ---               ┆ ---               ┆ ---          │\n",
       "│ str                ┆ str        ┆ i64     ┆ str               ┆ str               ┆ datetime[ns] │\n",
       "╞════════════════════╪════════════╪═════════╪═══════════════════╪═══════════════════╪══════════════╡\n",
       "│ A0203183BAH3TR08FZ ┆ B0043T7FHK ┆ 5       ┆ I got this to run ┆ This is my second ┆ 2015-06-30   │\n",
       "│ GB                 ┆            ┆         ┆ as a dual         ┆ time purchasing   ┆ 00:00:00     │\n",
       "│                    ┆            ┆         ┆ monitor.  This is ┆ this monitor so   ┆              │\n",
       "│                    ┆            ┆         ┆ my second time    ┆ now I have two    ┆              │\n",
       "│                    ┆            ┆         ┆ purchasing this   ┆ and they are      ┆              │\n",
       "│                    ┆            ┆         ┆ monitor so now I  ┆ great. I used to  ┆              │\n",
       "│                    ┆            ┆         ┆ have t...         ┆ use t...          ┆              │\n",
       "│ A0261431Y0V4MHWY4B ┆ B00AFH2E8E ┆ 4       ┆ Not as good as I  ┆ Bluetooth headset ┆ 2014-08-03   │\n",
       "│ 7W                 ┆            ┆         ┆ had hoped, music  ┆                   ┆ 00:00:00     │\n",
       "│                    ┆            ┆         ┆ is very low,      ┆                   ┆              │\n",
       "│                    ┆            ┆         ┆ phone volume is   ┆                   ┆              │\n",
       "│                    ┆            ┆         ┆ pretty good.      ┆                   ┆              │\n",
       "│ A034116598G557EYZ9 ┆ B0013FRNKG ┆ 5       ┆ Appreciate if     ┆ great value       ┆ 2012-11-28   │\n",
       "│ BC                 ┆            ┆         ┆ product           ┆                   ┆ 00:00:00     │\n",
       "│                    ┆            ┆         ┆ Need to buy one   ┆                   ┆              │\n",
       "│                    ┆            ┆         ┆ more if any       ┆                   ┆              │\n",
       "│                    ┆            ┆         ┆ promotion is on   ┆                   ┆              │\n",
       "│                    ┆            ┆         ┆ to it             ┆                   ┆              │\n",
       "│                    ┆            ┆         ┆ Need to buy at    ┆                   ┆              │\n",
       "│                    ┆            ┆         ┆ more competit...  ┆                   ┆              │\n",
       "│ A0404374X0HL5T332X ┆ B00MNOPS1C ┆ 3       ┆ You get what you  ┆ Three Stars       ┆ 2016-02-02   │\n",
       "│ SN                 ┆            ┆         ┆ pay for           ┆                   ┆ 00:00:00     │\n",
       "│ A0431622H67YR5IPJR ┆ B0058UUR6E ┆ 5       ┆ Arrived in 2      ┆ working great.    ┆ 2015-03-11   │\n",
       "│ N                  ┆            ┆         ┆ days. working     ┆ Recommend to      ┆ 00:00:00     │\n",
       "│                    ┆            ┆         ┆ great. Recommend  ┆ others            ┆              │\n",
       "│                    ┆            ┆         ┆ to others.        ┆                   ┆              │\n",
       "└────────────────────┴────────────┴─────────┴───────────────────┴───────────────────┴──────────────┘"
      ]
     },
     "execution_count": 66,
     "metadata": {},
     "output_type": "execute_result"
    }
   ],
   "source": [
    "df_reviews.head()"
   ]
  },
  {
   "cell_type": "code",
   "execution_count": 67,
   "metadata": {},
   "outputs": [],
   "source": [
    "df_reviews.to_pandas().to_json(f\"{path_data_final}/{file_name_reviews}\", compression=\"gzip\", orient=\"records\", indent=2)"
   ]
  },
  {
   "attachments": {},
   "cell_type": "markdown",
   "metadata": {},
   "source": [
    "##### Users"
   ]
  },
  {
   "cell_type": "code",
   "execution_count": 68,
   "metadata": {},
   "outputs": [],
   "source": [
    "df_users = pl.DataFrame(schema=[\n",
    "    (\"user_id\", pl.Utf8), \n",
    "    (\"username\", pl.Utf8)\n",
    "])"
   ]
  },
  {
   "cell_type": "code",
   "execution_count": 69,
   "metadata": {},
   "outputs": [],
   "source": [
    "for i in range(len(categories)):\n",
    "    df_users.extend(read_json(f'{path_data_selected}/{categories[i]}/{file_name_users}'))\n",
    "\n",
    "df_users = df_users.unique(subset=['user_id']).sort(by=['user_id'])"
   ]
  },
  {
   "cell_type": "code",
   "execution_count": 70,
   "metadata": {},
   "outputs": [
    {
     "data": {
      "text/html": [
       "<div><style>\n",
       ".dataframe > thead > tr > th,\n",
       ".dataframe > tbody > tr > td {\n",
       "  text-align: right;\n",
       "}\n",
       "</style>\n",
       "<small>shape: (7, 3)</small><table border=\"1\" class=\"dataframe\"><thead><tr><th>describe</th><th>user_id</th><th>username</th></tr><tr><td>str</td><td>str</td><td>str</td></tr></thead><tbody><tr><td>&quot;count&quot;</td><td>&quot;55019&quot;</td><td>&quot;55019&quot;</td></tr><tr><td>&quot;null_count&quot;</td><td>&quot;0&quot;</td><td>&quot;0&quot;</td></tr><tr><td>&quot;mean&quot;</td><td>null</td><td>null</td></tr><tr><td>&quot;std&quot;</td><td>null</td><td>null</td></tr><tr><td>&quot;min&quot;</td><td>&quot;A0203183BAH3TR08FZGB&quot;</td><td>&quot; &quot;</td></tr><tr><td>&quot;max&quot;</td><td>&quot;AZZZF5PSCPILV&quot;</td><td>&quot;~Miss~&quot;</td></tr><tr><td>&quot;median&quot;</td><td>null</td><td>null</td></tr></tbody></table></div>"
      ],
      "text/plain": [
       "shape: (7, 3)\n",
       "┌────────────┬──────────────────────┬──────────┐\n",
       "│ describe   ┆ user_id              ┆ username │\n",
       "│ ---        ┆ ---                  ┆ ---      │\n",
       "│ str        ┆ str                  ┆ str      │\n",
       "╞════════════╪══════════════════════╪══════════╡\n",
       "│ count      ┆ 55019                ┆ 55019    │\n",
       "│ null_count ┆ 0                    ┆ 0        │\n",
       "│ mean       ┆ null                 ┆ null     │\n",
       "│ std        ┆ null                 ┆ null     │\n",
       "│ min        ┆ A0203183BAH3TR08FZGB ┆          │\n",
       "│ max        ┆ AZZZF5PSCPILV        ┆ ~Miss~   │\n",
       "│ median     ┆ null                 ┆ null     │\n",
       "└────────────┴──────────────────────┴──────────┘"
      ]
     },
     "execution_count": 70,
     "metadata": {},
     "output_type": "execute_result"
    }
   ],
   "source": [
    "df_users.describe()"
   ]
  },
  {
   "cell_type": "code",
   "execution_count": 71,
   "metadata": {},
   "outputs": [
    {
     "data": {
      "text/html": [
       "<div><style>\n",
       ".dataframe > thead > tr > th,\n",
       ".dataframe > tbody > tr > td {\n",
       "  text-align: right;\n",
       "}\n",
       "</style>\n",
       "<small>shape: (10, 2)</small><table border=\"1\" class=\"dataframe\"><thead><tr><th>user_id</th><th>username</th></tr><tr><td>str</td><td>str</td></tr></thead><tbody><tr><td>&quot;A0203183BAH3TR08FZGB&quot;</td><td>&quot;Cynthea M.&quot;</td></tr><tr><td>&quot;A0261431Y0V4MHWY4B7W&quot;</td><td>&quot;BoJess&quot;</td></tr><tr><td>&quot;A034116598G557EYZ9BC&quot;</td><td>&quot;Shams&quot;</td></tr><tr><td>&quot;A0404374X0HL5T332XSN&quot;</td><td>&quot;Anthony&quot;</td></tr><tr><td>&quot;A0431622H67YR5IPJRN&quot;</td><td>&quot;Jerry Greeley&quot;</td></tr><tr><td>&quot;A0435554Z2P98AIGLNCS&quot;</td><td>&quot;Belisario Manuel Azuero Sar&quot;</td></tr><tr><td>&quot;A0436342QLT4257JODYJ&quot;</td><td>&quot;James J&quot;</td></tr><tr><td>&quot;A0508779FEO1DUNOSQNX&quot;</td><td>&quot;Hazel&quot;</td></tr><tr><td>&quot;A0526222H977CBZM4DK7&quot;</td><td>&quot;JAIME SCARPITTA&quot;</td></tr><tr><td>&quot;A0579276Y8S37XMMI539&quot;</td><td>&quot;ITgreybeard&quot;</td></tr></tbody></table></div>"
      ],
      "text/plain": [
       "shape: (10, 2)\n",
       "┌──────────────────────┬─────────────────┐\n",
       "│ user_id              ┆ username        │\n",
       "│ ---                  ┆ ---             │\n",
       "│ str                  ┆ str             │\n",
       "╞══════════════════════╪═════════════════╡\n",
       "│ A0203183BAH3TR08FZGB ┆ Cynthea M.      │\n",
       "│ A0261431Y0V4MHWY4B7W ┆ BoJess          │\n",
       "│ A034116598G557EYZ9BC ┆ Shams           │\n",
       "│ A0404374X0HL5T332XSN ┆ Anthony         │\n",
       "│ ...                  ┆ ...             │\n",
       "│ A0436342QLT4257JODYJ ┆ James J         │\n",
       "│ A0508779FEO1DUNOSQNX ┆ Hazel           │\n",
       "│ A0526222H977CBZM4DK7 ┆ JAIME SCARPITTA │\n",
       "│ A0579276Y8S37XMMI539 ┆ ITgreybeard     │\n",
       "└──────────────────────┴─────────────────┘"
      ]
     },
     "execution_count": 71,
     "metadata": {},
     "output_type": "execute_result"
    }
   ],
   "source": [
    "df_users.head(10)"
   ]
  },
  {
   "cell_type": "code",
   "execution_count": 72,
   "metadata": {},
   "outputs": [],
   "source": [
    "df_users.to_pandas().to_json(f\"{path_data_final}/{file_name_users}\", compression=\"gzip\", orient=\"records\", indent=2)"
   ]
  },
  {
   "attachments": {},
   "cell_type": "markdown",
   "metadata": {},
   "source": [
    "##### Products Categories"
   ]
  },
  {
   "cell_type": "code",
   "execution_count": 73,
   "metadata": {},
   "outputs": [],
   "source": [
    "df_products_categories = pl.DataFrame(schema=[\n",
    "    (\"product_id\", pl.Utf8), \n",
    "    (\"category_id\", pl.Int64)\n",
    "])"
   ]
  },
  {
   "cell_type": "code",
   "execution_count": 74,
   "metadata": {},
   "outputs": [],
   "source": [
    "for i in range(len(categories)):\n",
    "    df_products_categories.extend(read_json(f'{path_data_selected}/{categories[i]}/{file_name_products_categories}'))\n",
    "\n",
    "df_products_categories = df_products_categories.sort(by=['category_id', 'product_id'])"
   ]
  },
  {
   "cell_type": "code",
   "execution_count": 75,
   "metadata": {},
   "outputs": [
    {
     "data": {
      "text/html": [
       "<div><style>\n",
       ".dataframe > thead > tr > th,\n",
       ".dataframe > tbody > tr > td {\n",
       "  text-align: right;\n",
       "}\n",
       "</style>\n",
       "<small>shape: (7, 3)</small><table border=\"1\" class=\"dataframe\"><thead><tr><th>describe</th><th>product_id</th><th>category_id</th></tr><tr><td>str</td><td>str</td><td>f64</td></tr></thead><tbody><tr><td>&quot;count&quot;</td><td>&quot;1798&quot;</td><td>1798.0</td></tr><tr><td>&quot;null_count&quot;</td><td>&quot;0&quot;</td><td>0.0</td></tr><tr><td>&quot;mean&quot;</td><td>null</td><td>4.636263</td></tr><tr><td>&quot;std&quot;</td><td>null</td><td>2.070558</td></tr><tr><td>&quot;min&quot;</td><td>&quot;B00001W0DG&quot;</td><td>2.0</td></tr><tr><td>&quot;max&quot;</td><td>&quot;B01HIHHRHQ&quot;</td><td>8.0</td></tr><tr><td>&quot;median&quot;</td><td>null</td><td>4.0</td></tr></tbody></table></div>"
      ],
      "text/plain": [
       "shape: (7, 3)\n",
       "┌────────────┬────────────┬─────────────┐\n",
       "│ describe   ┆ product_id ┆ category_id │\n",
       "│ ---        ┆ ---        ┆ ---         │\n",
       "│ str        ┆ str        ┆ f64         │\n",
       "╞════════════╪════════════╪═════════════╡\n",
       "│ count      ┆ 1798       ┆ 1798.0      │\n",
       "│ null_count ┆ 0          ┆ 0.0         │\n",
       "│ mean       ┆ null       ┆ 4.636263    │\n",
       "│ std        ┆ null       ┆ 2.070558    │\n",
       "│ min        ┆ B00001W0DG ┆ 2.0         │\n",
       "│ max        ┆ B01HIHHRHQ ┆ 8.0         │\n",
       "│ median     ┆ null       ┆ 4.0         │\n",
       "└────────────┴────────────┴─────────────┘"
      ]
     },
     "execution_count": 75,
     "metadata": {},
     "output_type": "execute_result"
    }
   ],
   "source": [
    "df_products_categories.describe()"
   ]
  },
  {
   "cell_type": "code",
   "execution_count": 76,
   "metadata": {},
   "outputs": [
    {
     "data": {
      "text/html": [
       "<div><style>\n",
       ".dataframe > thead > tr > th,\n",
       ".dataframe > tbody > tr > td {\n",
       "  text-align: right;\n",
       "}\n",
       "</style>\n",
       "<small>shape: (10, 2)</small><table border=\"1\" class=\"dataframe\"><thead><tr><th>product_id</th><th>category_id</th></tr><tr><td>str</td><td>i64</td></tr></thead><tbody><tr><td>&quot;B00004TLW2&quot;</td><td>2</td></tr><tr><td>&quot;B00004VUM1&quot;</td><td>2</td></tr><tr><td>&quot;B00004XSHN&quot;</td><td>2</td></tr><tr><td>&quot;B000051TOG&quot;</td><td>2</td></tr><tr><td>&quot;B0000520I5&quot;</td><td>2</td></tr><tr><td>&quot;B00005MEN6&quot;</td><td>2</td></tr><tr><td>&quot;B00005UKBD&quot;</td><td>2</td></tr><tr><td>&quot;B000063BGY&quot;</td><td>2</td></tr><tr><td>&quot;B000069092&quot;</td><td>2</td></tr><tr><td>&quot;B00006I53Z&quot;</td><td>2</td></tr></tbody></table></div>"
      ],
      "text/plain": [
       "shape: (10, 2)\n",
       "┌────────────┬─────────────┐\n",
       "│ product_id ┆ category_id │\n",
       "│ ---        ┆ ---         │\n",
       "│ str        ┆ i64         │\n",
       "╞════════════╪═════════════╡\n",
       "│ B00004TLW2 ┆ 2           │\n",
       "│ B00004VUM1 ┆ 2           │\n",
       "│ B00004XSHN ┆ 2           │\n",
       "│ B000051TOG ┆ 2           │\n",
       "│ ...        ┆ ...         │\n",
       "│ B00005UKBD ┆ 2           │\n",
       "│ B000063BGY ┆ 2           │\n",
       "│ B000069092 ┆ 2           │\n",
       "│ B00006I53Z ┆ 2           │\n",
       "└────────────┴─────────────┘"
      ]
     },
     "execution_count": 76,
     "metadata": {},
     "output_type": "execute_result"
    }
   ],
   "source": [
    "df_products_categories.head(10)"
   ]
  },
  {
   "cell_type": "code",
   "execution_count": 77,
   "metadata": {},
   "outputs": [],
   "source": [
    "df_products_categories.to_pandas().to_json(f\"{path_data_final}/{file_name_products_categories}\", compression=\"gzip\", orient=\"records\", indent=2)"
   ]
  },
  {
   "attachments": {},
   "cell_type": "markdown",
   "metadata": {},
   "source": [
    "##### Categories"
   ]
  },
  {
   "cell_type": "code",
   "execution_count": 78,
   "metadata": {},
   "outputs": [],
   "source": [
    "data_categories = [\n",
    "    [1, 'Electronics', None],\n",
    "    [2, 'Cameras', 1],\n",
    "    [3, 'Headphones', 1],\n",
    "    [4, 'Laptops', 1],\n",
    "    [5, 'Monitors', 1],\n",
    "    [6, 'Smartwatches', 1],\n",
    "    [7, 'Tablets', 1],\n",
    "    [8, 'Desktops', 1]\n",
    "]\n",
    "\n",
    "df_categories = pl.DataFrame(\n",
    "    data_categories, \n",
    "    schema=[\n",
    "        (\"category_id\", pl.Int64), \n",
    "        ('name', pl.Utf8), \n",
    "        ('parent_id', pl.Int64)\n",
    "    ]\n",
    ")"
   ]
  },
  {
   "cell_type": "code",
   "execution_count": 79,
   "metadata": {},
   "outputs": [
    {
     "data": {
      "text/html": [
       "<div><style>\n",
       ".dataframe > thead > tr > th,\n",
       ".dataframe > tbody > tr > td {\n",
       "  text-align: right;\n",
       "}\n",
       "</style>\n",
       "<small>shape: (7, 4)</small><table border=\"1\" class=\"dataframe\"><thead><tr><th>describe</th><th>category_id</th><th>name</th><th>parent_id</th></tr><tr><td>str</td><td>f64</td><td>str</td><td>f64</td></tr></thead><tbody><tr><td>&quot;count&quot;</td><td>8.0</td><td>&quot;8&quot;</td><td>8.0</td></tr><tr><td>&quot;null_count&quot;</td><td>0.0</td><td>&quot;0&quot;</td><td>1.0</td></tr><tr><td>&quot;mean&quot;</td><td>4.5</td><td>null</td><td>1.0</td></tr><tr><td>&quot;std&quot;</td><td>2.44949</td><td>null</td><td>0.0</td></tr><tr><td>&quot;min&quot;</td><td>1.0</td><td>&quot;Cameras&quot;</td><td>1.0</td></tr><tr><td>&quot;max&quot;</td><td>8.0</td><td>&quot;Tablets&quot;</td><td>1.0</td></tr><tr><td>&quot;median&quot;</td><td>4.5</td><td>null</td><td>1.0</td></tr></tbody></table></div>"
      ],
      "text/plain": [
       "shape: (7, 4)\n",
       "┌────────────┬─────────────┬─────────┬───────────┐\n",
       "│ describe   ┆ category_id ┆ name    ┆ parent_id │\n",
       "│ ---        ┆ ---         ┆ ---     ┆ ---       │\n",
       "│ str        ┆ f64         ┆ str     ┆ f64       │\n",
       "╞════════════╪═════════════╪═════════╪═══════════╡\n",
       "│ count      ┆ 8.0         ┆ 8       ┆ 8.0       │\n",
       "│ null_count ┆ 0.0         ┆ 0       ┆ 1.0       │\n",
       "│ mean       ┆ 4.5         ┆ null    ┆ 1.0       │\n",
       "│ std        ┆ 2.44949     ┆ null    ┆ 0.0       │\n",
       "│ min        ┆ 1.0         ┆ Cameras ┆ 1.0       │\n",
       "│ max        ┆ 8.0         ┆ Tablets ┆ 1.0       │\n",
       "│ median     ┆ 4.5         ┆ null    ┆ 1.0       │\n",
       "└────────────┴─────────────┴─────────┴───────────┘"
      ]
     },
     "execution_count": 79,
     "metadata": {},
     "output_type": "execute_result"
    }
   ],
   "source": [
    "df_categories.describe()"
   ]
  },
  {
   "cell_type": "code",
   "execution_count": 80,
   "metadata": {},
   "outputs": [
    {
     "data": {
      "text/html": [
       "<div><style>\n",
       ".dataframe > thead > tr > th,\n",
       ".dataframe > tbody > tr > td {\n",
       "  text-align: right;\n",
       "}\n",
       "</style>\n",
       "<small>shape: (8, 3)</small><table border=\"1\" class=\"dataframe\"><thead><tr><th>category_id</th><th>name</th><th>parent_id</th></tr><tr><td>i64</td><td>str</td><td>i64</td></tr></thead><tbody><tr><td>1</td><td>&quot;Electronics&quot;</td><td>null</td></tr><tr><td>2</td><td>&quot;Cameras&quot;</td><td>1</td></tr><tr><td>3</td><td>&quot;Headphones&quot;</td><td>1</td></tr><tr><td>4</td><td>&quot;Laptops&quot;</td><td>1</td></tr><tr><td>5</td><td>&quot;Monitors&quot;</td><td>1</td></tr><tr><td>6</td><td>&quot;Smartwatches&quot;</td><td>1</td></tr><tr><td>7</td><td>&quot;Tablets&quot;</td><td>1</td></tr><tr><td>8</td><td>&quot;Desktops&quot;</td><td>1</td></tr></tbody></table></div>"
      ],
      "text/plain": [
       "shape: (8, 3)\n",
       "┌─────────────┬──────────────┬───────────┐\n",
       "│ category_id ┆ name         ┆ parent_id │\n",
       "│ ---         ┆ ---          ┆ ---       │\n",
       "│ i64         ┆ str          ┆ i64       │\n",
       "╞═════════════╪══════════════╪═══════════╡\n",
       "│ 1           ┆ Electronics  ┆ null      │\n",
       "│ 2           ┆ Cameras      ┆ 1         │\n",
       "│ 3           ┆ Headphones   ┆ 1         │\n",
       "│ 4           ┆ Laptops      ┆ 1         │\n",
       "│ 5           ┆ Monitors     ┆ 1         │\n",
       "│ 6           ┆ Smartwatches ┆ 1         │\n",
       "│ 7           ┆ Tablets      ┆ 1         │\n",
       "│ 8           ┆ Desktops     ┆ 1         │\n",
       "└─────────────┴──────────────┴───────────┘"
      ]
     },
     "execution_count": 80,
     "metadata": {},
     "output_type": "execute_result"
    }
   ],
   "source": [
    "df_categories.head(10)"
   ]
  },
  {
   "cell_type": "code",
   "execution_count": 81,
   "metadata": {},
   "outputs": [],
   "source": [
    "df_categories.to_pandas().to_json(f\"{path_data_final}/{file_name_categories}\", compression=\"gzip\", orient=\"records\", indent=2)"
   ]
  }
 ],
 "metadata": {
  "kernelspec": {
   "display_name": "base",
   "language": "python",
   "name": "python3"
  },
  "language_info": {
   "codemirror_mode": {
    "name": "ipython",
    "version": 3
   },
   "file_extension": ".py",
   "mimetype": "text/x-python",
   "name": "python",
   "nbconvert_exporter": "python",
   "pygments_lexer": "ipython3",
   "version": "3.9.13"
  },
  "orig_nbformat": 4
 },
 "nbformat": 4,
 "nbformat_minor": 2
}
