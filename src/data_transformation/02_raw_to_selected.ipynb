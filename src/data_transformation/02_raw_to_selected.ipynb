{
 "cells": [
  {
   "attachments": {},
   "cell_type": "markdown",
   "metadata": {},
   "source": [
    "##### Library"
   ]
  },
  {
   "cell_type": "code",
   "execution_count": 85,
   "metadata": {},
   "outputs": [
    {
     "data": {
      "text/plain": [
       "polars.config.Config"
      ]
     },
     "execution_count": 85,
     "metadata": {},
     "output_type": "execute_result"
    }
   ],
   "source": [
    "import pandas as pd\n",
    "import polars as pl\n",
    "\n",
    "pl.Config.set_fmt_str_lengths(100)"
   ]
  },
  {
   "attachments": {},
   "cell_type": "markdown",
   "metadata": {},
   "source": [
    "##### Function"
   ]
  },
  {
   "cell_type": "code",
   "execution_count": 86,
   "metadata": {},
   "outputs": [],
   "source": [
    "def read_json(path):\n",
    "    return pl.from_pandas(pd.read_json(path, orient=\"records\", compression=\"gzip\"))"
   ]
  },
  {
   "attachments": {},
   "cell_type": "markdown",
   "metadata": {},
   "source": [
    "##### Configuration"
   ]
  },
  {
   "cell_type": "code",
   "execution_count": 87,
   "metadata": {},
   "outputs": [],
   "source": [
    "path_data_raw = '../../data/raw'\n",
    "path_data_selected = '../../data/interim/selected'\n",
    "\n",
    "file_name_products = 'products.json.gz'\n",
    "file_name_reviews = 'reviews.json.gz'\n",
    "file_name_users = 'users.json.gz'\n",
    "file_name_products_categories = 'products_categories.json.gz'"
   ]
  },
  {
   "cell_type": "code",
   "execution_count": 371,
   "metadata": {},
   "outputs": [],
   "source": [
    "category = \"desktops\"\n",
    "category_id = 8"
   ]
  },
  {
   "attachments": {},
   "cell_type": "markdown",
   "metadata": {},
   "source": [
    "##### Products"
   ]
  },
  {
   "cell_type": "code",
   "execution_count": 89,
   "metadata": {},
   "outputs": [],
   "source": [
    "df_products_raw = read_json(f'{path_data_raw}/{file_name_products}')"
   ]
  },
  {
   "cell_type": "code",
   "execution_count": 90,
   "metadata": {},
   "outputs": [
    {
     "data": {
      "text/html": [
       "<div><style>\n",
       ".dataframe > thead > tr > th,\n",
       ".dataframe > tbody > tr > td {\n",
       "  text-align: right;\n",
       "}\n",
       "</style>\n",
       "<small>shape: (7, 7)</small><table border=\"1\" class=\"dataframe\"><thead><tr><th>describe</th><th>product_id</th><th>category</th><th>name</th><th>description</th><th>price</th><th>image_url</th></tr><tr><td>str</td><td>str</td><td>str</td><td>str</td><td>str</td><td>f64</td><td>str</td></tr></thead><tbody><tr><td>&quot;count&quot;</td><td>&quot;159763&quot;</td><td>&quot;159763&quot;</td><td>&quot;159763&quot;</td><td>&quot;159763&quot;</td><td>159763.0</td><td>&quot;159763&quot;</td></tr><tr><td>&quot;null_count&quot;</td><td>&quot;0&quot;</td><td>&quot;0&quot;</td><td>&quot;0&quot;</td><td>&quot;0&quot;</td><td>0.0</td><td>&quot;0&quot;</td></tr><tr><td>&quot;mean&quot;</td><td>null</td><td>null</td><td>null</td><td>null</td><td>27.512466</td><td>null</td></tr><tr><td>&quot;std&quot;</td><td>null</td><td>null</td><td>null</td><td>null</td><td>73.891346</td><td>null</td></tr><tr><td>&quot;min&quot;</td><td>&quot;0011300000&quot;</td><td>&quot;Electronics,Accessories &amp; Supplies&quot;</td><td>&quot;  PTC Premium Gold Series HDMI hembra/hembra Coupler&quot;</td><td>&quot;!! Please Read !! Replacement receiver only, no other items included. Used, works good. Does not sh...</td><td>0.0</td><td>null</td></tr><tr><td>&quot;max&quot;</td><td>&quot;B01HJF4DUG&quot;</td><td>&quot;Electronics,eBook Readers &amp;amp; Accessories,eBook Readers&quot;</td><td>&quot;{ GRADUATED FILTER SET FOR DJI } Phantom 4, Phantom 3 Advanced, Professional Quadcopter 4K UHD Vide...</td><td>&quot;||Software Publisher: Encore ||Computer Platform Compatibility: PC ||Min Drive Space Required: 1.0G...</td><td>999.99</td><td>null</td></tr><tr><td>&quot;median&quot;</td><td>null</td><td>null</td><td>null</td><td>null</td><td>9.99</td><td>null</td></tr></tbody></table></div>"
      ],
      "text/plain": [
       "shape: (7, 7)\n",
       "┌────────────┬────────────┬────────────────┬───────────────┬───────────────┬───────────┬───────────┐\n",
       "│ describe   ┆ product_id ┆ category       ┆ name          ┆ description   ┆ price     ┆ image_url │\n",
       "│ ---        ┆ ---        ┆ ---            ┆ ---           ┆ ---           ┆ ---       ┆ ---       │\n",
       "│ str        ┆ str        ┆ str            ┆ str           ┆ str           ┆ f64       ┆ str       │\n",
       "╞════════════╪════════════╪════════════════╪═══════════════╪═══════════════╪═══════════╪═══════════╡\n",
       "│ count      ┆ 159763     ┆ 159763         ┆ 159763        ┆ 159763        ┆ 159763.0  ┆ 159763    │\n",
       "│ null_count ┆ 0          ┆ 0              ┆ 0             ┆ 0             ┆ 0.0       ┆ 0         │\n",
       "│ mean       ┆ null       ┆ null           ┆ null          ┆ null          ┆ 27.512466 ┆ null      │\n",
       "│ std        ┆ null       ┆ null           ┆ null          ┆ null          ┆ 73.891346 ┆ null      │\n",
       "│ min        ┆ 0011300000 ┆ Electronics,Ac ┆ PTC Premium   ┆ !! Please     ┆ 0.0       ┆ null      │\n",
       "│            ┆            ┆ cessories &    ┆ Gold Series   ┆ Read !!       ┆           ┆           │\n",
       "│            ┆            ┆ Supplies       ┆ HDMI          ┆ Replacement   ┆           ┆           │\n",
       "│            ┆            ┆                ┆ hembra/hembra ┆ receiver      ┆           ┆           │\n",
       "│            ┆            ┆                ┆ Coupler       ┆ only, no      ┆           ┆           │\n",
       "│            ┆            ┆                ┆               ┆ other items   ┆           ┆           │\n",
       "│            ┆            ┆                ┆               ┆ included.     ┆           ┆           │\n",
       "│            ┆            ┆                ┆               ┆ Used, works   ┆           ┆           │\n",
       "│            ┆            ┆                ┆               ┆ good. Does    ┆           ┆           │\n",
       "│            ┆            ┆                ┆               ┆ not sho...    ┆           ┆           │\n",
       "│ max        ┆ B01HJF4DUG ┆ Electronics,eB ┆ { GRADUATED   ┆ ||Software    ┆ 999.99    ┆ null      │\n",
       "│            ┆            ┆ ook Readers    ┆ FILTER SET    ┆ Publisher:    ┆           ┆           │\n",
       "│            ┆            ┆ &amp; Accessor ┆ FOR DJI }     ┆ Encore        ┆           ┆           │\n",
       "│            ┆            ┆ ies,eBook      ┆ Phantom 4,    ┆ ||Computer    ┆           ┆           │\n",
       "│            ┆            ┆ Readers        ┆ Phantom 3     ┆ Platform Comp ┆           ┆           │\n",
       "│            ┆            ┆                ┆ Advanced,     ┆ atibility: PC ┆           ┆           │\n",
       "│            ┆            ┆                ┆ Professional  ┆ ||Min Drive   ┆           ┆           │\n",
       "│            ┆            ┆                ┆ Quadcopter 4K ┆ Space         ┆           ┆           │\n",
       "│            ┆            ┆                ┆ UHD Video...  ┆ Required:     ┆           ┆           │\n",
       "│            ┆            ┆                ┆               ┆ 1.0GB...      ┆           ┆           │\n",
       "│ median     ┆ null       ┆ null           ┆ null          ┆ null          ┆ 9.99      ┆ null      │\n",
       "└────────────┴────────────┴────────────────┴───────────────┴───────────────┴───────────┴───────────┘"
      ]
     },
     "execution_count": 90,
     "metadata": {},
     "output_type": "execute_result"
    }
   ],
   "source": [
    "df_products_raw.describe()"
   ]
  },
  {
   "cell_type": "code",
   "execution_count": 372,
   "metadata": {},
   "outputs": [
    {
     "data": {
      "text/html": [
       "<div><style>\n",
       ".dataframe > thead > tr > th,\n",
       ".dataframe > tbody > tr > td {\n",
       "  text-align: right;\n",
       "}\n",
       "</style>\n",
       "<small>shape: (7, 7)</small><table border=\"1\" class=\"dataframe\"><thead><tr><th>describe</th><th>product_id</th><th>category</th><th>name</th><th>description</th><th>price</th><th>image_url</th></tr><tr><td>str</td><td>str</td><td>str</td><td>str</td><td>str</td><td>f64</td><td>str</td></tr></thead><tbody><tr><td>&quot;count&quot;</td><td>&quot;300&quot;</td><td>&quot;300&quot;</td><td>&quot;300&quot;</td><td>&quot;300&quot;</td><td>300.0</td><td>&quot;300&quot;</td></tr><tr><td>&quot;null_count&quot;</td><td>&quot;0&quot;</td><td>&quot;0&quot;</td><td>&quot;0&quot;</td><td>&quot;0&quot;</td><td>0.0</td><td>&quot;0&quot;</td></tr><tr><td>&quot;mean&quot;</td><td>null</td><td>null</td><td>null</td><td>null</td><td>205.307033</td><td>null</td></tr><tr><td>&quot;std&quot;</td><td>null</td><td>null</td><td>null</td><td>null</td><td>231.637729</td><td>null</td></tr><tr><td>&quot;min&quot;</td><td>&quot;B0002A6XCW&quot;</td><td>&quot;Electronics,Computers &amp; Accessories,Computers &amp; Tablets,Desktops,All-in-Ones&quot;</td><td>&quot;12V micro PC Q180P 4G ram 128G SSD 300M WIFI with Bay Trail J1800 dual core Four serial ports dual ...</td><td>&quot;&quot;Hardware: Intel Atom X5-Z8350 + Microsoft Windows 10 Dual Band Wi-Fi with 2.4/5G 802.11 ac/b/g/n 1...</td><td>0.0</td><td>null</td></tr><tr><td>&quot;max&quot;</td><td>&quot;B01HHSM62C&quot;</td><td>&quot;Electronics,Computers &amp; Accessories,Computers &amp; Tablets,Desktops,Towers&quot;</td><td>&quot;iMac G5 PowerPC 1.6GHz 17&amp;quot; CCFL  80 GB HD (A1058)&quot;</td><td>&quot;ready And Able, Every Day.get Secure, Manageable And Reliable Performance For Medium-to-large-busin...</td><td>999.99</td><td>null</td></tr><tr><td>&quot;median&quot;</td><td>null</td><td>null</td><td>null</td><td>null</td><td>100.91</td><td>null</td></tr></tbody></table></div>"
      ],
      "text/plain": [
       "shape: (7, 7)\n",
       "┌────────────┬────────────┬───────────────┬───────────────┬───────────────┬────────────┬───────────┐\n",
       "│ describe   ┆ product_id ┆ category      ┆ name          ┆ description   ┆ price      ┆ image_url │\n",
       "│ ---        ┆ ---        ┆ ---           ┆ ---           ┆ ---           ┆ ---        ┆ ---       │\n",
       "│ str        ┆ str        ┆ str           ┆ str           ┆ str           ┆ f64        ┆ str       │\n",
       "╞════════════╪════════════╪═══════════════╪═══════════════╪═══════════════╪════════════╪═══════════╡\n",
       "│ count      ┆ 300        ┆ 300           ┆ 300           ┆ 300           ┆ 300.0      ┆ 300       │\n",
       "│ null_count ┆ 0          ┆ 0             ┆ 0             ┆ 0             ┆ 0.0        ┆ 0         │\n",
       "│ mean       ┆ null       ┆ null          ┆ null          ┆ null          ┆ 205.307033 ┆ null      │\n",
       "│ std        ┆ null       ┆ null          ┆ null          ┆ null          ┆ 231.637729 ┆ null      │\n",
       "│ min        ┆ B0002A6XCW ┆ Electronics,C ┆ 12V micro PC  ┆ \"Hardware:    ┆ 0.0        ┆ null      │\n",
       "│            ┆            ┆ omputers &    ┆ Q180P 4G ram  ┆ Intel Atom    ┆            ┆           │\n",
       "│            ┆            ┆ Accessories,C ┆ 128G SSD 300M ┆ X5-Z8350 +    ┆            ┆           │\n",
       "│            ┆            ┆ omputers &    ┆ WIFI with Bay ┆ Microsoft     ┆            ┆           │\n",
       "│            ┆            ┆ Tablets,Deskt ┆ Trail J1800   ┆ Windows 10    ┆            ┆           │\n",
       "│            ┆            ┆ ops,All-in-On ┆ dual core     ┆ Dual Band     ┆            ┆           │\n",
       "│            ┆            ┆ es            ┆ Four serial   ┆ Wi-Fi with    ┆            ┆           │\n",
       "│            ┆            ┆               ┆ ports dual    ┆ 2.4/5G 802.11 ┆            ┆           │\n",
       "│            ┆            ┆               ┆ l...          ┆ ac/b/g/n      ┆            ┆           │\n",
       "│            ┆            ┆               ┆               ┆ 1X...         ┆            ┆           │\n",
       "│ max        ┆ B01HHSM62C ┆ Electronics,C ┆ iMac G5       ┆ ready And     ┆ 999.99     ┆ null      │\n",
       "│            ┆            ┆ omputers &    ┆ PowerPC       ┆ Able, Every   ┆            ┆           │\n",
       "│            ┆            ┆ Accessories,C ┆ 1.6GHz        ┆ Day.get       ┆            ┆           │\n",
       "│            ┆            ┆ omputers &    ┆ 17&quot; CCFL ┆ Secure,       ┆            ┆           │\n",
       "│            ┆            ┆ Tablets,Deskt ┆ 80 GB HD      ┆ Manageable    ┆            ┆           │\n",
       "│            ┆            ┆ ops,Towers    ┆ (A1058)       ┆ And Reliable  ┆            ┆           │\n",
       "│            ┆            ┆               ┆               ┆ Performance   ┆            ┆           │\n",
       "│            ┆            ┆               ┆               ┆ For Medium-to ┆            ┆           │\n",
       "│            ┆            ┆               ┆               ┆ -large-busine ┆            ┆           │\n",
       "│            ┆            ┆               ┆               ┆ ...           ┆            ┆           │\n",
       "│ median     ┆ null       ┆ null          ┆ null          ┆ null          ┆ 100.91     ┆ null      │\n",
       "└────────────┴────────────┴───────────────┴───────────────┴───────────────┴────────────┴───────────┘"
      ]
     },
     "execution_count": 372,
     "metadata": {},
     "output_type": "execute_result"
    }
   ],
   "source": [
    "df_products = df_products_raw.filter(\n",
    "    #(~pl.col(\"category\").str.contains(\"Accessories\")) &\n",
    "    pl.col(\"category\").str.contains(\"Computers & Tablets\") &\n",
    "    pl.col(\"category\").str.contains(\"Desktops\") &\n",
    "    pl.col(\"category\").str.contains(\"Towers|Minis|All-in-Ones\") & \n",
    "    pl.col(\"name\").str.contains(\"Computer|Desktop|PC\")\n",
    ")\n",
    "\n",
    "df_products = df_products.sample(n=300, with_replacement=False, seed=1)\n",
    "\n",
    "df_products.describe()"
   ]
  },
  {
   "cell_type": "code",
   "execution_count": 373,
   "metadata": {},
   "outputs": [
    {
     "data": {
      "text/html": [
       "<div><style>\n",
       ".dataframe > thead > tr > th,\n",
       ".dataframe > tbody > tr > td {\n",
       "  text-align: right;\n",
       "}\n",
       "</style>\n",
       "<small>shape: (200, 4)</small><table border=\"1\" class=\"dataframe\"><thead><tr><th>product_id</th><th>category</th><th>name</th><th>image_url</th></tr><tr><td>str</td><td>str</td><td>str</td><td>list[str]</td></tr></thead><tbody><tr><td>&quot;B0002A6XCW&quot;</td><td>&quot;Electronics,Computers &amp; Accessories,Computers &amp; Tablets,Desktops,Towers&quot;</td><td>&quot;Apple Power Mac G5 Desktop M9454LL/A (Dual 1.8-GHz Power PC G5, 256 MB RAM, 80 GB Hard Drive, Super...</td><td>[&quot;https://images-na.ssl-images-amazon.com/images/I/51PP1G8552L.jpg&quot;]</td></tr><tr><td>&quot;B01HHSM62C&quot;</td><td>&quot;Electronics,Computers &amp; Accessories,Computers &amp; Tablets,Desktops,Towers&quot;</td><td>&quot;Acer Aspire XC Compact Desktop (Intel Dual-Core Processor up to 2.16GHz, 4GB RAM, 500GB Hard Drive,...</td><td>[&quot;https://images-na.ssl-images-amazon.com/images/I/414h%2BT82KHL.jpg&quot;, &quot;https://images-na.ssl-images-amazon.com/images/I/31t-Ym4vLZL.jpg&quot;, ... &quot;https://images-na.ssl-images-amazon.com/images/I/410rJx7-jyL.jpg&quot;]</td></tr><tr><td>&quot;B000R805L4&quot;</td><td>&quot;Electronics,Computers &amp; Accessories,Computers &amp; Tablets,Desktops,All-in-Ones&quot;</td><td>&quot;Apple iMac Desktop with 24&amp;quot; Display  MA878LL/A (2.4 GHz Intel Core 2 Duo, 1 GB RAM, 320 GB Har...</td><td>[&quot;https://images-na.ssl-images-amazon.com/images/I/416SgJFrt9L.jpg&quot;, &quot;https://images-na.ssl-images-amazon.com/images/I/31wvMvxa5gL.jpg&quot;, ... &quot;https://images-na.ssl-images-amazon.com/images/I/41EXCIgDijL.jpg&quot;]</td></tr><tr><td>&quot;B000R81W7U&quot;</td><td>&quot;Electronics,Computers &amp; Accessories,Computers &amp; Tablets,Desktops,All-in-Ones&quot;</td><td>&quot;Apple iMac Desktop with 20&amp;quot; Display MA877LL/A (2.4 GHz Intel Core 2 Duo, 1 GB RAM, 320 GB Hard...</td><td>[&quot;https://images-na.ssl-images-amazon.com/images/I/41DFhk-ZucL.jpg&quot;, &quot;https://images-na.ssl-images-amazon.com/images/I/411aN0d3prL.jpg&quot;, ... &quot;https://images-na.ssl-images-amazon.com/images/I/21O6e7-BFzL.jpg&quot;]</td></tr><tr><td>&quot;B000R84LIW&quot;</td><td>&quot;Electronics,Computers &amp; Accessories,Computers &amp; Tablets,Desktops,All-in-Ones&quot;</td><td>&quot;Apple iMac Desktop with 20&amp;quot; Display MA876LL/A (2.0 GHz Intel Core 2 Duo, 1 GB RAM, 250 GB Hard...</td><td>[&quot;https://images-na.ssl-images-amazon.com/images/I/31ydBOGx02L.jpg&quot;, &quot;https://images-na.ssl-images-amazon.com/images/I/41sP8zMzowL.jpg&quot;, ... &quot;https://images-na.ssl-images-amazon.com/images/I/21O6e7-BFzL.jpg&quot;]</td></tr><tr><td>&quot;B01B5YK4NC&quot;</td><td>&quot;Electronics,Computers &amp; Accessories,Computers &amp; Tablets,Desktops,Minis&quot;</td><td>&quot;Kingdel Intel i5-4200U CPU NUC, Windows 10 Mini Computer with 16GB RAM, 128GB SSD, HDMI, VGA, 4USB ...</td><td>[&quot;https://images-na.ssl-images-amazon.com/images/I/51i7xV-MnwL.jpg&quot;, &quot;https://images-na.ssl-images-amazon.com/images/I/41fvBX7brTL.jpg&quot;, ... &quot;https://images-na.ssl-images-amazon.com/images/I/51UlGi9JIZL.jpg&quot;]</td></tr><tr><td>&quot;B000WHZKGA&quot;</td><td>&quot;Electronics,Computers &amp; Accessories,Computers &amp; Tablets,Desktops,All-in-Ones&quot;</td><td>&quot;Apple iMac MB325LL/A 24-inch Desktop PC (Discontinued by Manufacturer)&quot;</td><td>[&quot;https://images-na.ssl-images-amazon.com/images/I/21K6LSSWQGL.jpg&quot;, &quot;https://images-na.ssl-images-amazon.com/images/I/41GuyIRH2dL.jpg&quot;, ... &quot;https://images-na.ssl-images-amazon.com/images/I/31ldk32CpXL.jpg&quot;]</td></tr><tr><td>&quot;B000X3GTMM&quot;</td><td>&quot;Electronics,Computers &amp; Accessories,Computers &amp; Tablets,Desktops,All-in-Ones&quot;</td><td>&quot;Apple iMac MB323LL/A 20-inch Desktop PC (2.4 GHz Intel Core 2 Duo, 1 GB RAM, 250 GB Hard Drive, DVD...</td><td>[&quot;https://images-na.ssl-images-amazon.com/images/I/21zZi-fXocL.jpg&quot;, &quot;https://images-na.ssl-images-amazon.com/images/I/41vJNIWHxSL.jpg&quot;, ... &quot;https://images-na.ssl-images-amazon.com/images/I/31T25ijU4FL.jpg&quot;]</td></tr><tr><td>&quot;B01CUACZ8C&quot;</td><td>&quot;Electronics,Computers &amp; Accessories,Computers &amp; Tablets,Desktops,Minis&quot;</td><td>&quot;Kingdel Fanless Mini PC, Strong 4K NUC with Intel 4th Generation i7 CPU, 8GB RAM, 128GB SSD+1TB HDD...</td><td>[&quot;https://images-na.ssl-images-amazon.com/images/I/41FSf2H9WWL.jpg&quot;, &quot;https://images-na.ssl-images-amazon.com/images/I/41YmYHqJNgL.jpg&quot;, ... &quot;https://images-na.ssl-images-amazon.com/images/I/31yCLT1NqaL.jpg&quot;]</td></tr><tr><td>&quot;B0013FK9U2&quot;</td><td>&quot;Electronics,Computers &amp; Accessories,Computers &amp; Tablets,Desktops,Minis&quot;</td><td>&quot;Apple Mac Mini A1347 MC270LL/A Desktop, 2.4 GHz Intel Core 2 Duo, 320GB Hard Drive (Mid 2010)&quot;</td><td>[&quot;https://images-na.ssl-images-amazon.com/images/I/41SSUBxrRpL.jpg&quot;, &quot;https://images-na.ssl-images-amazon.com/images/I/31g9n8DvKmL.jpg&quot;, ... &quot;https://images-na.ssl-images-amazon.com/images/I/41R9Mbkaa%2BL.jpg&quot;]</td></tr><tr><td>&quot;B001AMA9T4&quot;</td><td>&quot;Electronics,Computers &amp; Accessories,Computers &amp; Tablets,Desktops,Towers&quot;</td><td>&quot;HP Pavilion A6530F Desktop PC (2.10 GHz AMD Phenom X3 8450 Triple Core Processor, 4 GB RAM, 640 GB ...</td><td>[&quot;https://images-na.ssl-images-amazon.com/images/I/41FBheP%2BVDL.jpg&quot;, &quot;https://images-na.ssl-images-amazon.com/images/I/41TPeEPkqDL.jpg&quot;, &quot;https://images-na.ssl-images-amazon.com/images/I/41Q4gDf4x%2BL.jpg&quot;]</td></tr><tr><td>&quot;B01G3JXYUY&quot;</td><td>&quot;Electronics,Computers &amp; Accessories,Computers &amp; Tablets,Desktops,Towers&quot;</td><td>&quot;Acer Extensa EX2610G-Cj306 Desktop, Intel J3060, 1.6GHz, 2GB RAM, 500GB HDD, Win 7 Pro&quot;</td><td>[&quot;https://images-na.ssl-images-amazon.com/images/I/418CwYmMb3L.jpg&quot;, &quot;https://images-na.ssl-images-amazon.com/images/I/41TGoZMDiCL.jpg&quot;, &quot;https://images-na.ssl-images-amazon.com/images/I/41nenQvy04L.jpg&quot;]</td></tr><tr><td>...</td><td>...</td><td>...</td><td>...</td></tr><tr><td>&quot;B00VYEH4K0&quot;</td><td>&quot;Electronics,Computers &amp; Accessories,Computers &amp; Tablets,Desktops,Towers&quot;</td><td>&quot;Asus Desktop Mid Tower (D415MT-A46300005F) A4-Series APU A4-6300 (3.70 GHz) 4 GB DDR3 500 GB HDD AM...</td><td>[&quot;https://images-na.ssl-images-amazon.com/images/I/41Me5fv66eL.jpg&quot;, &quot;https://images-na.ssl-images-amazon.com/images/I/41xCu774eKL.jpg&quot;]</td></tr><tr><td>&quot;B00W4AFM16&quot;</td><td>&quot;Electronics,Computers &amp; Accessories,Computers &amp; Tablets,Desktops,All-in-Ones&quot;</td><td>&quot;Lenovo 10BC002DUS ThinkCentre M73z All-in-One Desktop 20&amp;quot;, 4 GB RAM, 500 GB HDD, Business Blac...</td><td>[&quot;https://images-na.ssl-images-amazon.com/images/I/41UD2tiDTIL.jpg&quot;, &quot;https://images-na.ssl-images-amazon.com/images/I/41i9q1rSdxL.jpg&quot;, ... &quot;https://images-na.ssl-images-amazon.com/images/I/41WS65nRWbL.jpg&quot;]</td></tr><tr><td>&quot;B01G26TOUC&quot;</td><td>&quot;Electronics,Computers &amp; Accessories,Computers &amp; Tablets,Desktops,Towers&quot;</td><td>&quot;CybertronPC Titanium-1080X VR Ready Gaming Desktop - Intel Core i7-7700K 4.2GHz Quad-Core Processor...</td><td>[&quot;https://images-na.ssl-images-amazon.com/images/I/51NrmBtrAZL.jpg&quot;, &quot;https://images-na.ssl-images-amazon.com/images/I/51%2B5nGZix2L.jpg&quot;, ... &quot;https://images-na.ssl-images-amazon.com/images/I/51IkMgoGtoL.jpg&quot;]</td></tr><tr><td>&quot;B01GEPWSKO&quot;</td><td>&quot;Electronics,Computers &amp; Accessories,Computers &amp; Tablets,Desktops,Minis&quot;</td><td>&quot;Intel Desktop/HTPC 6th Generation Intel Dual-Core i5 Upto 2.8GHz, 16GB DDR4, 512GB SSD M.2 SATA, Wi...</td><td>[&quot;https://images-na.ssl-images-amazon.com/images/I/310Qv8ygt3L.jpg&quot;, &quot;https://images-na.ssl-images-amazon.com/images/I/41R7lf3ecmL.jpg&quot;, ... &quot;https://images-na.ssl-images-amazon.com/images/I/31pSthmCYfL.jpg&quot;]</td></tr><tr><td>&quot;B00WR28E0C&quot;</td><td>&quot;Electronics,Computers &amp; Accessories,Computers &amp; Tablets,Desktops,Towers&quot;</td><td>&quot;Lenovo H30 Desktop (90BJ0047US)&quot;</td><td>[&quot;https://images-na.ssl-images-amazon.com/images/I/31OPMP2rpmL.jpg&quot;, &quot;https://images-na.ssl-images-amazon.com/images/I/41Z7oW0SeNL.jpg&quot;, ... &quot;https://images-na.ssl-images-amazon.com/images/I/51ZkQ-%2BsxyL.jpg&quot;]</td></tr><tr><td>&quot;B00WR28GBO&quot;</td><td>&quot;Electronics,Computers &amp; Accessories,Computers &amp; Tablets,Desktops,Towers&quot;</td><td>&quot;Lenovo H50 Desktop (90BG0022US)&quot;</td><td>[&quot;https://images-na.ssl-images-amazon.com/images/I/31Wpdd%2BToOL.jpg&quot;, &quot;https://images-na.ssl-images-amazon.com/images/I/41RuRXydnWL.jpg&quot;, ... &quot;https://images-na.ssl-images-amazon.com/images/I/31s6Yf6WiUL.jpg&quot;]</td></tr><tr><td>&quot;B00X13ZUUI&quot;</td><td>&quot;Electronics,Computers &amp; Accessories,Computers &amp; Tablets,Desktops,All-in-Ones&quot;</td><td>&quot;ASUS ET2324IUT-C2 All-in-One Desktop 23-inch 10-point touch Windows 8.1 Intel 4th Gen i5 8GB DDR3 2...</td><td>[&quot;https://images-na.ssl-images-amazon.com/images/I/51LGT7QB-EL.jpg&quot;, &quot;https://images-na.ssl-images-amazon.com/images/I/51mTkKTNSWL.jpg&quot;]</td></tr><tr><td>&quot;B00X4O6GRK&quot;</td><td>&quot;Electronics,Computers &amp; Accessories,Computers &amp; Tablets,Desktops,Minis&quot;</td><td>&quot;Quantum Access Windows 10 Mini PC Stick, Intel Baytrail-T (Quad-core) Z3735F 1.33GHz, 2GB/32GB&quot;</td><td>[&quot;https://images-na.ssl-images-amazon.com/images/I/410ZcXfR7ML.jpg&quot;, &quot;https://images-na.ssl-images-amazon.com/images/I/41X9jNqeDzL.jpg&quot;, ... &quot;https://images-na.ssl-images-amazon.com/images/I/51C9ZTNkC0L.jpg&quot;]</td></tr><tr><td>&quot;B00X5X3B78&quot;</td><td>&quot;Electronics,Computers &amp; Accessories,Computers &amp; Tablets,Desktops,Towers&quot;</td><td>&quot;HP Pavilion 550-040 Desktop (Silver)&quot;</td><td>[&quot;https://images-na.ssl-images-amazon.com/images/I/51hewpL95UL.jpg&quot;, &quot;https://images-na.ssl-images-amazon.com/images/I/41h5LG1nJRL.jpg&quot;, ... &quot;https://images-na.ssl-images-amazon.com/images/I/41m0E2LC9DL.jpg&quot;]</td></tr><tr><td>&quot;B00XCGP7RA&quot;</td><td>&quot;Electronics,Computers &amp; Accessories,Computers &amp; Tablets,Desktops,Towers&quot;</td><td>&quot;Dell Desktop HK120 HDD Hard Drive Fan DFB551305MC0T Optiplex GX620 745 755 760&quot;</td><td>[&quot;https://images-na.ssl-images-amazon.com/images/I/41V4%2BYi783L.jpg&quot;, &quot;https://images-na.ssl-images-amazon.com/images/I/413vfvqW2rL.jpg&quot;]</td></tr><tr><td>&quot;B00XOK93BU&quot;</td><td>&quot;Electronics,Computers &amp; Accessories,Computers &amp; Tablets,Desktops,Towers&quot;</td><td>&quot;Barebone 4 Lan Micro Industrial Computer Qotom-310G4 Celeron Processor 3215U 2M Cache, 1.70 GHz, Br...</td><td>[&quot;https://images-na.ssl-images-amazon.com/images/I/51Ljkh9%2BR5L.jpg&quot;, &quot;https://images-na.ssl-images-amazon.com/images/I/51j823UQkwL.jpg&quot;, ... &quot;https://images-na.ssl-images-amazon.com/images/I/41E%2BaaD7gmL.jpg&quot;]</td></tr><tr><td>&quot;B00YAE9JKO&quot;</td><td>&quot;Electronics,Computers &amp; Accessories,Computers &amp; Tablets,Desktops,Towers&quot;</td><td>&quot;Dell Inspiron 3847 i3847-6162BK Desktop [DISCONTINUED BY MANUFACTURER]&quot;</td><td>[&quot;https://images-na.ssl-images-amazon.com/images/I/31-85t6JaML.jpg&quot;, &quot;https://images-na.ssl-images-amazon.com/images/I/41O552txigL.jpg&quot;, ... &quot;https://images-na.ssl-images-amazon.com/images/I/313xS-E-zOL.jpg&quot;]</td></tr></tbody></table></div>"
      ],
      "text/plain": [
       "shape: (200, 4)\n",
       "┌────────────┬────────────────────────────┬────────────────────────────┬───────────────────────────┐\n",
       "│ product_id ┆ category                   ┆ name                       ┆ image_url                 │\n",
       "│ ---        ┆ ---                        ┆ ---                        ┆ ---                       │\n",
       "│ str        ┆ str                        ┆ str                        ┆ list[str]                 │\n",
       "╞════════════╪════════════════════════════╪════════════════════════════╪═══════════════════════════╡\n",
       "│ B0002A6XCW ┆ Electronics,Computers &    ┆ Apple Power Mac G5 Desktop ┆ [\"https://images-na.ssl-i │\n",
       "│            ┆ Accessories,Computers &    ┆ M9454LL/A (Dual 1.8-GHz    ┆ mages-amazon.com/images/I │\n",
       "│            ┆ Tablets,Desktops,Towers    ┆ Power PC G5, 256 MB RAM,   ┆ /51PP1G8552L.jpg\"]        │\n",
       "│            ┆                            ┆ 80 GB Hard Drive,          ┆                           │\n",
       "│            ┆                            ┆ SuperD...                  ┆                           │\n",
       "│ B01HHSM62C ┆ Electronics,Computers &    ┆ Acer Aspire XC Compact     ┆ [\"https://images-na.ssl-i │\n",
       "│            ┆ Accessories,Computers &    ┆ Desktop (Intel Dual-Core   ┆ mages-amazon.com/images/I │\n",
       "│            ┆ Tablets,Desktops,Towers    ┆ Processor up to 2.16GHz,   ┆ /414h%2BT82KHL.jpg\", \"htt │\n",
       "│            ┆                            ┆ 4GB RAM, 500GB Hard Drive, ┆ ps://images-na.ssl-images │\n",
       "│            ┆                            ┆ ...                        ┆ ...                       │\n",
       "│ B000R805L4 ┆ Electronics,Computers &    ┆ Apple iMac Desktop with    ┆ [\"https://images-na.ssl-i │\n",
       "│            ┆ Accessories,Computers &    ┆ 24&quot; Display           ┆ mages-amazon.com/images/I │\n",
       "│            ┆ Tablets,Desktops,All-in-On ┆ MA878LL/A (2.4 GHz Intel   ┆ /416SgJFrt9L.jpg\", \"https │\n",
       "│            ┆ es                         ┆ Core 2 Duo, 1 GB RAM, 320  ┆ ://images-na.ssl-images-a │\n",
       "│            ┆                            ┆ GB Hard...                 ┆ ...                       │\n",
       "│ B000R81W7U ┆ Electronics,Computers &    ┆ Apple iMac Desktop with    ┆ [\"https://images-na.ssl-i │\n",
       "│            ┆ Accessories,Computers &    ┆ 20&quot; Display MA877LL/A ┆ mages-amazon.com/images/I │\n",
       "│            ┆ Tablets,Desktops,All-in-On ┆ (2.4 GHz Intel Core 2 Duo, ┆ /41DFhk-ZucL.jpg\", \"https │\n",
       "│            ┆ es                         ┆ 1 GB RAM, 320 GB Hard ...  ┆ ://images-na.ssl-images-a │\n",
       "│            ┆                            ┆                            ┆ ...                       │\n",
       "│ ...        ┆ ...                        ┆ ...                        ┆ ...                       │\n",
       "│ B00X5X3B78 ┆ Electronics,Computers &    ┆ HP Pavilion 550-040        ┆ [\"https://images-na.ssl-i │\n",
       "│            ┆ Accessories,Computers &    ┆ Desktop (Silver)           ┆ mages-amazon.com/images/I │\n",
       "│            ┆ Tablets,Desktops,Towers    ┆                            ┆ /51hewpL95UL.jpg\", \"https │\n",
       "│            ┆                            ┆                            ┆ ://images-na.ssl-images-a │\n",
       "│            ┆                            ┆                            ┆ ...                       │\n",
       "│ B00XCGP7RA ┆ Electronics,Computers &    ┆ Dell Desktop HK120 HDD     ┆ [\"https://images-na.ssl-i │\n",
       "│            ┆ Accessories,Computers &    ┆ Hard Drive Fan             ┆ mages-amazon.com/images/I │\n",
       "│            ┆ Tablets,Desktops,Towers    ┆ DFB551305MC0T Optiplex     ┆ /41V4%2BYi783L.jpg\", \"htt │\n",
       "│            ┆                            ┆ GX620 745 755 760          ┆ ps://images-na.ssl-images │\n",
       "│            ┆                            ┆                            ┆ ...                       │\n",
       "│ B00XOK93BU ┆ Electronics,Computers &    ┆ Barebone 4 Lan Micro       ┆ [\"https://images-na.ssl-i │\n",
       "│            ┆ Accessories,Computers &    ┆ Industrial Computer        ┆ mages-amazon.com/images/I │\n",
       "│            ┆ Tablets,Desktops,Towers    ┆ Qotom-310G4 Celeron        ┆ /51Ljkh9%2BR5L.jpg\", \"htt │\n",
       "│            ┆                            ┆ Processor 3215U 2M Cache,  ┆ ps://images-na.ssl-images │\n",
       "│            ┆                            ┆ 1.70 GHz, Bro...           ┆ ...                       │\n",
       "│ B00YAE9JKO ┆ Electronics,Computers &    ┆ Dell Inspiron 3847         ┆ [\"https://images-na.ssl-i │\n",
       "│            ┆ Accessories,Computers &    ┆ i3847-6162BK Desktop       ┆ mages-amazon.com/images/I │\n",
       "│            ┆ Tablets,Desktops,Towers    ┆ [DISCONTINUED BY           ┆ /31-85t6JaML.jpg\", \"https │\n",
       "│            ┆                            ┆ MANUFACTURER]              ┆ ://images-na.ssl-images-a │\n",
       "│            ┆                            ┆                            ┆ ...                       │\n",
       "└────────────┴────────────────────────────┴────────────────────────────┴───────────────────────────┘"
      ]
     },
     "execution_count": 373,
     "metadata": {},
     "output_type": "execute_result"
    }
   ],
   "source": [
    "df_products.select([\n",
    "    pl.col(\"product_id\"),\n",
    "    pl.col(\"category\"),\n",
    "    pl.col(\"name\"),\n",
    "    pl.col(\"image_url\")\n",
    "]).head(200)"
   ]
  },
  {
   "cell_type": "code",
   "execution_count": 374,
   "metadata": {},
   "outputs": [],
   "source": [
    "df_products.to_pandas().to_json(f\"{path_data_selected}/{category}/{file_name_products}\", compression=\"gzip\", orient=\"records\", indent=2)"
   ]
  },
  {
   "attachments": {},
   "cell_type": "markdown",
   "metadata": {},
   "source": [
    "##### Reviews"
   ]
  },
  {
   "cell_type": "code",
   "execution_count": 144,
   "metadata": {},
   "outputs": [],
   "source": [
    "df_reviews_raw = read_json(f'{path_data_raw}/{file_name_reviews}')"
   ]
  },
  {
   "cell_type": "code",
   "execution_count": 145,
   "metadata": {},
   "outputs": [
    {
     "data": {
      "text/html": [
       "<div><style>\n",
       ".dataframe > thead > tr > th,\n",
       ".dataframe > tbody > tr > td {\n",
       "  text-align: right;\n",
       "}\n",
       "</style>\n",
       "<small>shape: (7, 8)</small><table border=\"1\" class=\"dataframe\"><thead><tr><th>describe</th><th>user_id</th><th>username</th><th>product_id</th><th>ratings</th><th>review_text</th><th>summary</th><th>created_at</th></tr><tr><td>str</td><td>str</td><td>str</td><td>str</td><td>f64</td><td>str</td><td>str</td><td>str</td></tr></thead><tbody><tr><td>&quot;count&quot;</td><td>&quot;2729955&quot;</td><td>&quot;2729955&quot;</td><td>&quot;2729955&quot;</td><td>2.729955e6</td><td>&quot;2729955&quot;</td><td>&quot;2729955&quot;</td><td>&quot;2729955&quot;</td></tr><tr><td>&quot;null_count&quot;</td><td>&quot;0&quot;</td><td>&quot;0&quot;</td><td>&quot;0&quot;</td><td>0.0</td><td>&quot;0&quot;</td><td>&quot;0&quot;</td><td>&quot;0&quot;</td></tr><tr><td>&quot;mean&quot;</td><td>null</td><td>null</td><td>null</td><td>4.325461</td><td>null</td><td>null</td><td>null</td></tr><tr><td>&quot;std&quot;</td><td>null</td><td>null</td><td>null</td><td>1.170246</td><td>null</td><td>null</td><td>null</td></tr><tr><td>&quot;min&quot;</td><td>&quot;A0001528BGUBOEVR6T5U&quot;</td><td>&quot; &quot;</td><td>&quot;0594451647&quot;</td><td>1.0</td><td>&quot;\n",
       "\n",
       "\n",
       "\n",
       "\n",
       "\n",
       "I&quot;</td><td>&quot; &quot;</td><td>&quot;1999-07-16 00:00:00.000000000&quot;</td></tr><tr><td>&quot;max&quot;</td><td>&quot;AZZZU3P1UQZ0C&quot;</td><td>&quot;~~~IndianSummer~~~&quot;</td><td>&quot;B01HIZEW1C&quot;</td><td>5.0</td><td>&quot;I used this to pull the keys off my newly acquired IBM Model F - AT buckling spring keyboard I got...</td><td>&quot;Quiet Fan&quot;</td><td>&quot;2018-10-03 00:00:00.000000000&quot;</td></tr><tr><td>&quot;median&quot;</td><td>null</td><td>null</td><td>null</td><td>5.0</td><td>null</td><td>null</td><td>null</td></tr></tbody></table></div>"
      ],
      "text/plain": [
       "shape: (7, 8)\n",
       "┌─────────────┬────────────┬────────────┬──────────┬────────────┬───────────┬───────────┬──────────┐\n",
       "│ describe    ┆ user_id    ┆ username   ┆ product_ ┆ ratings    ┆ review_te ┆ summary   ┆ created_ │\n",
       "│ ---         ┆ ---        ┆ ---        ┆ id       ┆ ---        ┆ xt        ┆ ---       ┆ at       │\n",
       "│ str         ┆ str        ┆ str        ┆ ---      ┆ f64        ┆ ---       ┆ str       ┆ ---      │\n",
       "│             ┆            ┆            ┆ str      ┆            ┆ str       ┆           ┆ str      │\n",
       "╞═════════════╪════════════╪════════════╪══════════╪════════════╪═══════════╪═══════════╪══════════╡\n",
       "│ count       ┆ 2729955    ┆ 2729955    ┆ 2729955  ┆ 2.729955e6 ┆ 2729955   ┆ 2729955   ┆ 2729955  │\n",
       "│ null_count  ┆ 0          ┆ 0          ┆ 0        ┆ 0.0        ┆ 0         ┆ 0         ┆ 0        │\n",
       "│ mean        ┆ null       ┆ null       ┆ null     ┆ 4.325461   ┆ null      ┆ null      ┆ null     │\n",
       "│ std         ┆ null       ┆ null       ┆ null     ┆ 1.170246   ┆ null      ┆ null      ┆ null     │\n",
       "│ min         ┆ A0001528BG ┆            ┆ 05944516 ┆ 1.0        ┆           ┆           ┆ 1999-07- │\n",
       "│             ┆ UBOEVR6T5U ┆            ┆ 47       ┆            ┆           ┆           ┆ 16 00:00 │\n",
       "│             ┆            ┆            ┆          ┆            ┆           ┆           ┆ :00.0000 │\n",
       "│             ┆            ┆            ┆          ┆            ┆           ┆           ┆ 00000    │\n",
       "│             ┆            ┆            ┆          ┆            ┆           ┆           ┆          │\n",
       "│             ┆            ┆            ┆          ┆            ┆           ┆           ┆          │\n",
       "│             ┆            ┆            ┆          ┆            ┆ I         ┆           ┆          │\n",
       "│ max         ┆ AZZZU3P1UQ ┆ ~~~IndianS ┆ B01HIZEW ┆ 5.0        ┆ I used    ┆ Quiet Fan ┆ 2018-10- │\n",
       "│             ┆ Z0C        ┆ ummer~~~   ┆ 1C       ┆            ┆ this to   ┆           ┆ 03 00:00 │\n",
       "│             ┆            ┆            ┆          ┆            ┆ pull the  ┆           ┆ :00.0000 │\n",
       "│             ┆            ┆            ┆          ┆            ┆ keys off  ┆           ┆ 00000    │\n",
       "│             ┆            ┆            ┆          ┆            ┆ my newly  ┆           ┆          │\n",
       "│             ┆            ┆            ┆          ┆            ┆ acquired  ┆           ┆          │\n",
       "│             ┆            ┆            ┆          ┆            ┆ IBM Model ┆           ┆          │\n",
       "│             ┆            ┆            ┆          ┆            ┆ F - AT    ┆           ┆          │\n",
       "│             ┆            ┆            ┆          ┆            ┆ buckling  ┆           ┆          │\n",
       "│             ┆            ┆            ┆          ┆            ┆ spring    ┆           ┆          │\n",
       "│             ┆            ┆            ┆          ┆            ┆ keyboard  ┆           ┆          │\n",
       "│             ┆            ┆            ┆          ┆            ┆ I got ... ┆           ┆          │\n",
       "│ median      ┆ null       ┆ null       ┆ null     ┆ 5.0        ┆ null      ┆ null      ┆ null     │\n",
       "└─────────────┴────────────┴────────────┴──────────┴────────────┴───────────┴───────────┴──────────┘"
      ]
     },
     "execution_count": 145,
     "metadata": {},
     "output_type": "execute_result"
    }
   ],
   "source": [
    "df_reviews_raw.describe()"
   ]
  },
  {
   "cell_type": "code",
   "execution_count": 375,
   "metadata": {},
   "outputs": [],
   "source": [
    "df_reviews = df_reviews_raw.join(df_products, on='product_id', how='inner')\n",
    "\n",
    "df_reviews = df_reviews.select(\n",
    "    [\"user_id\", \"username\", \"product_id\", \"ratings\", \"review_text\", \"summary\", \"created_at\"]\n",
    ")"
   ]
  },
  {
   "cell_type": "code",
   "execution_count": 376,
   "metadata": {},
   "outputs": [
    {
     "data": {
      "text/html": [
       "<div><style>\n",
       ".dataframe > thead > tr > th,\n",
       ".dataframe > tbody > tr > td {\n",
       "  text-align: right;\n",
       "}\n",
       "</style>\n",
       "<small>shape: (7, 8)</small><table border=\"1\" class=\"dataframe\"><thead><tr><th>describe</th><th>user_id</th><th>username</th><th>product_id</th><th>ratings</th><th>review_text</th><th>summary</th><th>created_at</th></tr><tr><td>str</td><td>str</td><td>str</td><td>str</td><td>f64</td><td>str</td><td>str</td><td>str</td></tr></thead><tbody><tr><td>&quot;count&quot;</td><td>&quot;2540&quot;</td><td>&quot;2540&quot;</td><td>&quot;2540&quot;</td><td>2540.0</td><td>&quot;2540&quot;</td><td>&quot;2540&quot;</td><td>&quot;2540&quot;</td></tr><tr><td>&quot;null_count&quot;</td><td>&quot;0&quot;</td><td>&quot;0&quot;</td><td>&quot;0&quot;</td><td>0.0</td><td>&quot;0&quot;</td><td>&quot;0&quot;</td><td>&quot;0&quot;</td></tr><tr><td>&quot;mean&quot;</td><td>null</td><td>null</td><td>null</td><td>4.12874</td><td>null</td><td>null</td><td>null</td></tr><tr><td>&quot;std&quot;</td><td>null</td><td>null</td><td>null</td><td>1.325204</td><td>null</td><td>null</td><td>null</td></tr><tr><td>&quot;min&quot;</td><td>&quot;A0436342QLT4257JODYJ&quot;</td><td>&quot;()&quot;</td><td>&quot;B0002A6XCW&quot;</td><td>1.0</td><td>&quot;&quot;Avoid this machine. Error messages, blue screen of death... can&#x27;t rely on it to work long enough t...</td><td>&quot; 1 GB/s crypto. Great for pfSense!&quot;</td><td>&quot;2004-07-04 00:00:00.000000000&quot;</td></tr><tr><td>&quot;max&quot;</td><td>&quot;AZYB76B87Y8V8&quot;</td><td>&quot;zirho6&quot;</td><td>&quot;B01GR89FRC&quot;</td><td>5.0</td><td>&quot;writing review from the pc I purchased looks great, runs great. I was at first concerned about acti...</td><td>&quot;you should find the new version&quot;</td><td>&quot;2018-09-26 00:00:00.000000000&quot;</td></tr><tr><td>&quot;median&quot;</td><td>null</td><td>null</td><td>null</td><td>5.0</td><td>null</td><td>null</td><td>null</td></tr></tbody></table></div>"
      ],
      "text/plain": [
       "shape: (7, 8)\n",
       "┌─────────────┬─────────────┬──────────┬──────────┬──────────┬───────────┬────────────┬────────────┐\n",
       "│ describe    ┆ user_id     ┆ username ┆ product_ ┆ ratings  ┆ review_te ┆ summary    ┆ created_at │\n",
       "│ ---         ┆ ---         ┆ ---      ┆ id       ┆ ---      ┆ xt        ┆ ---        ┆ ---        │\n",
       "│ str         ┆ str         ┆ str      ┆ ---      ┆ f64      ┆ ---       ┆ str        ┆ str        │\n",
       "│             ┆             ┆          ┆ str      ┆          ┆ str       ┆            ┆            │\n",
       "╞═════════════╪═════════════╪══════════╪══════════╪══════════╪═══════════╪════════════╪════════════╡\n",
       "│ count       ┆ 2540        ┆ 2540     ┆ 2540     ┆ 2540.0   ┆ 2540      ┆ 2540       ┆ 2540       │\n",
       "│ null_count  ┆ 0           ┆ 0        ┆ 0        ┆ 0.0      ┆ 0         ┆ 0          ┆ 0          │\n",
       "│ mean        ┆ null        ┆ null     ┆ null     ┆ 4.12874  ┆ null      ┆ null       ┆ null       │\n",
       "│ std         ┆ null        ┆ null     ┆ null     ┆ 1.325204 ┆ null      ┆ null       ┆ null       │\n",
       "│ min         ┆ A0436342QLT ┆ ()       ┆ B0002A6X ┆ 1.0      ┆ \"Avoid    ┆ 1 GB/s     ┆ 2004-07-04 │\n",
       "│             ┆ 4257JODYJ   ┆          ┆ CW       ┆          ┆ this      ┆ crypto.    ┆ 00:00:00.0 │\n",
       "│             ┆             ┆          ┆          ┆          ┆ machine.  ┆ Great for  ┆ 00000000   │\n",
       "│             ┆             ┆          ┆          ┆          ┆ Error     ┆ pfSense!   ┆            │\n",
       "│             ┆             ┆          ┆          ┆          ┆ messages, ┆            ┆            │\n",
       "│             ┆             ┆          ┆          ┆          ┆ blue      ┆            ┆            │\n",
       "│             ┆             ┆          ┆          ┆          ┆ screen of ┆            ┆            │\n",
       "│             ┆             ┆          ┆          ┆          ┆ death...  ┆            ┆            │\n",
       "│             ┆             ┆          ┆          ┆          ┆ can't     ┆            ┆            │\n",
       "│             ┆             ┆          ┆          ┆          ┆ rely on   ┆            ┆            │\n",
       "│             ┆             ┆          ┆          ┆          ┆ it to     ┆            ┆            │\n",
       "│             ┆             ┆          ┆          ┆          ┆ work long ┆            ┆            │\n",
       "│             ┆             ┆          ┆          ┆          ┆ enough    ┆            ┆            │\n",
       "│             ┆             ┆          ┆          ┆          ┆ to...     ┆            ┆            │\n",
       "│ max         ┆ AZYB76B87Y8 ┆ zirho6   ┆ B01GR89F ┆ 5.0      ┆ writing   ┆ you should ┆ 2018-09-26 │\n",
       "│             ┆ V8          ┆          ┆ RC       ┆          ┆ review    ┆ find the   ┆ 00:00:00.0 │\n",
       "│             ┆             ┆          ┆          ┆          ┆ from the  ┆ new        ┆ 00000000   │\n",
       "│             ┆             ┆          ┆          ┆          ┆ pc I      ┆ version    ┆            │\n",
       "│             ┆             ┆          ┆          ┆          ┆ purchased ┆            ┆            │\n",
       "│             ┆             ┆          ┆          ┆          ┆ looks     ┆            ┆            │\n",
       "│             ┆             ┆          ┆          ┆          ┆ great,    ┆            ┆            │\n",
       "│             ┆             ┆          ┆          ┆          ┆ runs      ┆            ┆            │\n",
       "│             ┆             ┆          ┆          ┆          ┆ great. I  ┆            ┆            │\n",
       "│             ┆             ┆          ┆          ┆          ┆ was at    ┆            ┆            │\n",
       "│             ┆             ┆          ┆          ┆          ┆ first     ┆            ┆            │\n",
       "│             ┆             ┆          ┆          ┆          ┆ concerned ┆            ┆            │\n",
       "│             ┆             ┆          ┆          ┆          ┆ about     ┆            ┆            │\n",
       "│             ┆             ┆          ┆          ┆          ┆ activ...  ┆            ┆            │\n",
       "│ median      ┆ null        ┆ null     ┆ null     ┆ 5.0      ┆ null      ┆ null       ┆ null       │\n",
       "└─────────────┴─────────────┴──────────┴──────────┴──────────┴───────────┴────────────┴────────────┘"
      ]
     },
     "execution_count": 376,
     "metadata": {},
     "output_type": "execute_result"
    }
   ],
   "source": [
    "df_reviews.describe()"
   ]
  },
  {
   "attachments": {},
   "cell_type": "markdown",
   "metadata": {},
   "source": [
    "##### Users"
   ]
  },
  {
   "cell_type": "code",
   "execution_count": 377,
   "metadata": {},
   "outputs": [
    {
     "data": {
      "text/html": [
       "<div><style>\n",
       ".dataframe > thead > tr > th,\n",
       ".dataframe > tbody > tr > td {\n",
       "  text-align: right;\n",
       "}\n",
       "</style>\n",
       "<small>shape: (7, 3)</small><table border=\"1\" class=\"dataframe\"><thead><tr><th>describe</th><th>user_id</th><th>username</th></tr><tr><td>str</td><td>str</td><td>str</td></tr></thead><tbody><tr><td>&quot;count&quot;</td><td>&quot;2512&quot;</td><td>&quot;2512&quot;</td></tr><tr><td>&quot;null_count&quot;</td><td>&quot;0&quot;</td><td>&quot;0&quot;</td></tr><tr><td>&quot;mean&quot;</td><td>null</td><td>null</td></tr><tr><td>&quot;std&quot;</td><td>null</td><td>null</td></tr><tr><td>&quot;min&quot;</td><td>&quot;A0436342QLT4257JODYJ&quot;</td><td>&quot;()&quot;</td></tr><tr><td>&quot;max&quot;</td><td>&quot;AZYB76B87Y8V8&quot;</td><td>&quot;zirho6&quot;</td></tr><tr><td>&quot;median&quot;</td><td>null</td><td>null</td></tr></tbody></table></div>"
      ],
      "text/plain": [
       "shape: (7, 3)\n",
       "┌────────────┬──────────────────────┬──────────┐\n",
       "│ describe   ┆ user_id              ┆ username │\n",
       "│ ---        ┆ ---                  ┆ ---      │\n",
       "│ str        ┆ str                  ┆ str      │\n",
       "╞════════════╪══════════════════════╪══════════╡\n",
       "│ count      ┆ 2512                 ┆ 2512     │\n",
       "│ null_count ┆ 0                    ┆ 0        │\n",
       "│ mean       ┆ null                 ┆ null     │\n",
       "│ std        ┆ null                 ┆ null     │\n",
       "│ min        ┆ A0436342QLT4257JODYJ ┆ ()       │\n",
       "│ max        ┆ AZYB76B87Y8V8        ┆ zirho6   │\n",
       "│ median     ┆ null                 ┆ null     │\n",
       "└────────────┴──────────────────────┴──────────┘"
      ]
     },
     "execution_count": 377,
     "metadata": {},
     "output_type": "execute_result"
    }
   ],
   "source": [
    "# Select only useful fields\n",
    "df_users = df_reviews.unique(subset=[\"user_id\"]).select([\"user_id\", \"username\"])\n",
    "\n",
    "df_users.describe()"
   ]
  },
  {
   "cell_type": "code",
   "execution_count": 378,
   "metadata": {},
   "outputs": [],
   "source": [
    "df_users.to_pandas().to_json(f\"{path_data_selected}/{category}/{file_name_users}\", compression=\"gzip\", orient=\"records\")\n",
    "\n",
    "df_reviews.drop(columns=['username']).to_pandas().to_json(f\"../{path_data_selected}/{category}/{file_name_reviews}\", compression=\"gzip\", orient=\"records\")"
   ]
  },
  {
   "attachments": {},
   "cell_type": "markdown",
   "metadata": {},
   "source": [
    "##### Products Categories"
   ]
  },
  {
   "cell_type": "code",
   "execution_count": 379,
   "metadata": {},
   "outputs": [
    {
     "data": {
      "text/html": [
       "<div><style>\n",
       ".dataframe > thead > tr > th,\n",
       ".dataframe > tbody > tr > td {\n",
       "  text-align: right;\n",
       "}\n",
       "</style>\n",
       "<small>shape: (7, 3)</small><table border=\"1\" class=\"dataframe\"><thead><tr><th>describe</th><th>product_id</th><th>category_id</th></tr><tr><td>str</td><td>str</td><td>f64</td></tr></thead><tbody><tr><td>&quot;count&quot;</td><td>&quot;300&quot;</td><td>300.0</td></tr><tr><td>&quot;null_count&quot;</td><td>&quot;0&quot;</td><td>0.0</td></tr><tr><td>&quot;mean&quot;</td><td>null</td><td>8.0</td></tr><tr><td>&quot;std&quot;</td><td>null</td><td>0.0</td></tr><tr><td>&quot;min&quot;</td><td>&quot;B0002A6XCW&quot;</td><td>8.0</td></tr><tr><td>&quot;max&quot;</td><td>&quot;B01HHSM62C&quot;</td><td>8.0</td></tr><tr><td>&quot;median&quot;</td><td>null</td><td>8.0</td></tr></tbody></table></div>"
      ],
      "text/plain": [
       "shape: (7, 3)\n",
       "┌────────────┬────────────┬─────────────┐\n",
       "│ describe   ┆ product_id ┆ category_id │\n",
       "│ ---        ┆ ---        ┆ ---         │\n",
       "│ str        ┆ str        ┆ f64         │\n",
       "╞════════════╪════════════╪═════════════╡\n",
       "│ count      ┆ 300        ┆ 300.0       │\n",
       "│ null_count ┆ 0          ┆ 0.0         │\n",
       "│ mean       ┆ null       ┆ 8.0         │\n",
       "│ std        ┆ null       ┆ 0.0         │\n",
       "│ min        ┆ B0002A6XCW ┆ 8.0         │\n",
       "│ max        ┆ B01HHSM62C ┆ 8.0         │\n",
       "│ median     ┆ null       ┆ 8.0         │\n",
       "└────────────┴────────────┴─────────────┘"
      ]
     },
     "execution_count": 379,
     "metadata": {},
     "output_type": "execute_result"
    }
   ],
   "source": [
    "df_products_categories = df_products.select([\"product_id\"]).unique()\n",
    "df_products_categories = df_products_categories.with_columns(pl.lit(category_id).alias('category_id'))\n",
    "df_products_categories.describe()"
   ]
  },
  {
   "cell_type": "code",
   "execution_count": 380,
   "metadata": {},
   "outputs": [],
   "source": [
    "df_products_categories.to_pandas().to_json(f\"{path_data_selected}/{category}/{file_name_products_categories}\", compression=\"gzip\", orient=\"records\")"
   ]
  }
 ],
 "metadata": {
  "kernelspec": {
   "display_name": "base",
   "language": "python",
   "name": "python3"
  },
  "language_info": {
   "codemirror_mode": {
    "name": "ipython",
    "version": 3
   },
   "file_extension": ".py",
   "mimetype": "text/x-python",
   "name": "python",
   "nbconvert_exporter": "python",
   "pygments_lexer": "ipython3",
   "version": "3.9.13"
  },
  "orig_nbformat": 4
 },
 "nbformat": 4,
 "nbformat_minor": 2
}
