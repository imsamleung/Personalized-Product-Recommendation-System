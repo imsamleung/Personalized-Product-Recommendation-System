{
 "cells": [
  {
   "attachments": {},
   "cell_type": "markdown",
   "metadata": {},
   "source": [
    "##### Library"
   ]
  },
  {
   "cell_type": "code",
   "execution_count": null,
   "metadata": {},
   "outputs": [],
   "source": [
    "import pandas as pd\n",
    "import numpy as np\n",
    "import gzip\n",
    "import json"
   ]
  },
  {
   "attachments": {},
   "cell_type": "markdown",
   "metadata": {},
   "source": [
    "##### Function"
   ]
  },
  {
   "cell_type": "code",
   "execution_count": null,
   "metadata": {},
   "outputs": [],
   "source": [
    "def parse(path):\n",
    "    g = gzip.open(path, 'rb')\n",
    "    for l in g:\n",
    "        yield json.loads(l)\n",
    "\n",
    "def getDF(path):\n",
    "    i = 0\n",
    "    df = {}\n",
    "    for d in parse(path):\n",
    "        df[i] = d\n",
    "        i += 1\n",
    "    return pd.DataFrame.from_dict(df, orient='index')"
   ]
  },
  {
   "attachments": {},
   "cell_type": "markdown",
   "metadata": {},
   "source": [
    "##### Configuration"
   ]
  },
  {
   "cell_type": "code",
   "execution_count": null,
   "metadata": {},
   "outputs": [],
   "source": [
    "path_data_external = '../../data/external'\n",
    "path_data_raw = '../../data/raw'\n",
    "\n",
    "file_name_products = 'products.json.gz'\n",
    "file_name_reviews = 'reviews.json.gz'"
   ]
  },
  {
   "attachments": {},
   "cell_type": "markdown",
   "metadata": {},
   "source": [
    "##### Products"
   ]
  },
  {
   "cell_type": "code",
   "execution_count": null,
   "metadata": {},
   "outputs": [],
   "source": [
    "df_products_external = getDF(f'{path_data_external}/{file_name_products}')"
   ]
  },
  {
   "cell_type": "code",
   "execution_count": null,
   "metadata": {},
   "outputs": [],
   "source": [
    "df_products_external.info()"
   ]
  },
  {
   "cell_type": "code",
   "execution_count": null,
   "metadata": {},
   "outputs": [],
   "source": [
    "df_products = df_products_external[\n",
    "    [\"asin\", \"category\", \"title\", \"description\", \"price\", \"imageURLHighRes\"]\n",
    "].replace(\"\", np.NAN)\n",
    "\n",
    "df_products = df_products.rename(columns = {\n",
    "    \"asin\" : \"product_id\",\n",
    "    \"title\" : \"name\",\n",
    "    \"imageURLHighRes\" : \"image_url\"\n",
    "})\n",
    "\n",
    "df_products[\"category\"] = [','.join(map(str, l)) for l in df_products['category']]\n",
    "df_products = df_products[~df_products[\"category\"].str.contains(\"Parts|Accessories\", regex=True)]\n",
    "\n",
    "# Data transformation (Correct data format)\n",
    "df_products[\"description\"] = df_products[\"description\"].str.get(0).replace(\"\", np.NAN)\n",
    "df_products[\"price\"] = df_products[\"price\"].str.extract(r\"(\\d+\\.\\d+)\")\n",
    "\n",
    "# Data cleaning (Drop Nan value columns)\n",
    "df_products = df_products.dropna(subset=[\"product_id\", \"name\", \"description\", \"price\"])\n",
    "df_products = df_products[df_products[\"image_url\"].str.len() != 0]\n",
    "\n",
    "# Data cleaning (Drop duplicate rows)\n",
    "df_products = df_products.drop_duplicates(subset=[\"product_id\"])\n",
    "df_products = df_products.drop_duplicates(subset=[\"name\"])\n",
    "\n",
    "# Data cleaning (Remove Html)\n",
    "df_products = df_products[~df_products[\"name\"].str.contains(\"span|class=\", regex=True)]\n",
    "\n",
    "# Data cleaning (limit string length)\n",
    "df_products = df_products[(df_products[\"name\"].str.len() >= 5) & (df_products[\"name\"].str.len() <= 200)]\n",
    "df_products = df_products[(df_products[\"description\"].str.len() >= 5) & (df_products[\"description\"].str.len() <= 2000)]\n",
    "\n",
    "# Ordering\n",
    "df_products = df_products.sort_values(by=[\"product_id\"])"
   ]
  },
  {
   "cell_type": "code",
   "execution_count": null,
   "metadata": {},
   "outputs": [],
   "source": [
    "df_products.info()"
   ]
  },
  {
   "cell_type": "code",
   "execution_count": null,
   "metadata": {},
   "outputs": [],
   "source": [
    "df_products.to_json(f\"{path_data_raw}/{file_name_products}\", compression=\"gzip\", orient=\"records\")"
   ]
  },
  {
   "attachments": {},
   "cell_type": "markdown",
   "metadata": {},
   "source": [
    "##### Reviews"
   ]
  },
  {
   "cell_type": "code",
   "execution_count": null,
   "metadata": {},
   "outputs": [],
   "source": [
    "df_products = pd.read_json(f'{path_data_raw}/{file_name_products}', orient=\"records\", compression=\"gzip\")"
   ]
  },
  {
   "cell_type": "code",
   "execution_count": null,
   "metadata": {},
   "outputs": [],
   "source": [
    "df_reviews_external = getDF(f'{path_data_raw}/{file_name_reviews}')"
   ]
  },
  {
   "cell_type": "code",
   "execution_count": null,
   "metadata": {},
   "outputs": [],
   "source": [
    "df_reviews_external.info()"
   ]
  },
  {
   "cell_type": "code",
   "execution_count": null,
   "metadata": {},
   "outputs": [],
   "source": [
    "# Select only useful fields\n",
    "df_reviews = df_reviews_external[\n",
    "    [\"reviewerID\", \"reviewerName\", \"asin\", \"overall\", \"reviewText\", \"summary\", \"unixReviewTime\"]\n",
    "]\n",
    "\n",
    "# Rename columns\n",
    "df_reviews = df_reviews.rename(columns = {\n",
    "    \"reviewerID\" : \"user_id\",\n",
    "    \"reviewerName\" : \"username\",\n",
    "    \"asin\" : \"product_id\",\n",
    "    \"overall\" : \"ratings\",\n",
    "    \"reviewText\" : \"review_text\",\n",
    "    \"unixReviewTime\": \"created_at\"\n",
    "})\n",
    "\n",
    "# Drop null value columns\n",
    "df_reviews = df_reviews.dropna(subset=[\"user_id\", \"username\", \"product_id\", \"ratings\"])\n",
    "\n",
    "# Drop duplicate rows\n",
    "df_reviews = df_reviews.drop_duplicates(subset=[\"user_id\", \"product_id\"])\n",
    "\n",
    "# Data cleaning (limit string length)\n",
    "df_reviews = df_reviews[(df_reviews[\"review_text\"].str.len() >= 5) & (df_reviews[\"review_text\"].str.len() <= 2000)]\n",
    "\n",
    "# Convert created_at object to datetime\n",
    "df_reviews[\"created_at\"] = pd.to_datetime(df_reviews[\"created_at\"], unit = \"s\")"
   ]
  },
  {
   "cell_type": "code",
   "execution_count": null,
   "metadata": {},
   "outputs": [],
   "source": [
    "df_reviews.info()"
   ]
  },
  {
   "cell_type": "code",
   "execution_count": null,
   "metadata": {},
   "outputs": [],
   "source": [
    "# Join the products table to remove unused reviews\n",
    "df_reviews = pd.merge(df_products, df_reviews, how=\"inner\", on=\"product_id\", validate=\"one_to_many\").sort_values(by=[\"product_id\"])\n",
    "df_reviews = df_reviews.dropna()\n",
    "\n",
    "# Remove products table's attributes\n",
    "df_reviews = df_reviews[\n",
    "    [\"user_id\", \"username\", \"product_id\", \"ratings\", \"review_text\", \"summary\", \"created_at\"]\n",
    "]"
   ]
  },
  {
   "cell_type": "code",
   "execution_count": null,
   "metadata": {},
   "outputs": [],
   "source": [
    "df_reviews.info()"
   ]
  },
  {
   "cell_type": "code",
   "execution_count": null,
   "metadata": {},
   "outputs": [],
   "source": [
    "df_reviews.to_json(f\"{path_data_raw}/{file_name_reviews}\", compression=\"gzip\", orient=\"records\")"
   ]
  }
 ],
 "metadata": {
  "kernelspec": {
   "display_name": "base",
   "language": "python",
   "name": "python3"
  },
  "language_info": {
   "codemirror_mode": {
    "name": "ipython",
    "version": 3
   },
   "file_extension": ".py",
   "mimetype": "text/x-python",
   "name": "python",
   "nbconvert_exporter": "python",
   "pygments_lexer": "ipython3",
   "version": "3.9.13"
  },
  "orig_nbformat": 4
 },
 "nbformat": 4,
 "nbformat_minor": 2
}
