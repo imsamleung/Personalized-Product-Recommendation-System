{
 "cells": [
  {
   "attachments": {},
   "cell_type": "markdown",
   "metadata": {},
   "source": [
    "##### Library"
   ]
  },
  {
   "cell_type": "code",
   "execution_count": 1,
   "metadata": {},
   "outputs": [
    {
     "name": "stderr",
     "output_type": "stream",
     "text": [
      "[nltk_data] Downloading package vader_lexicon to\n",
      "[nltk_data]     C:\\Users\\samle\\AppData\\Roaming\\nltk_data...\n",
      "[nltk_data]   Package vader_lexicon is already up-to-date!\n"
     ]
    }
   ],
   "source": [
    "import nltk\n",
    "nltk.download('vader_lexicon')\n",
    "\n",
    "from nltk.sentiment.vader import SentimentIntensityAnalyzer\n",
    "from nltk.tokenize import sent_tokenize\n",
    "\n",
    "import pandas as pd\n",
    "import re\n",
    "from statistics import mean"
   ]
  },
  {
   "attachments": {},
   "cell_type": "markdown",
   "metadata": {},
   "source": [
    "##### Load Data"
   ]
  },
  {
   "cell_type": "code",
   "execution_count": 2,
   "metadata": {},
   "outputs": [],
   "source": [
    "df_reviews = pd.read_json('../../data/interim/final/reviews.json.gz', orient=\"records\", compression=\"gzip\")"
   ]
  },
  {
   "cell_type": "code",
   "execution_count": 3,
   "metadata": {},
   "outputs": [
    {
     "data": {
      "text/html": [
       "<div>\n",
       "<style scoped>\n",
       "    .dataframe tbody tr th:only-of-type {\n",
       "        vertical-align: middle;\n",
       "    }\n",
       "\n",
       "    .dataframe tbody tr th {\n",
       "        vertical-align: top;\n",
       "    }\n",
       "\n",
       "    .dataframe thead th {\n",
       "        text-align: right;\n",
       "    }\n",
       "</style>\n",
       "<table border=\"1\" class=\"dataframe\">\n",
       "  <thead>\n",
       "    <tr style=\"text-align: right;\">\n",
       "      <th></th>\n",
       "      <th>user_id</th>\n",
       "      <th>product_id</th>\n",
       "      <th>ratings</th>\n",
       "      <th>review_text</th>\n",
       "      <th>summary</th>\n",
       "      <th>created_at</th>\n",
       "    </tr>\n",
       "  </thead>\n",
       "  <tbody>\n",
       "    <tr>\n",
       "      <th>0</th>\n",
       "      <td>A0203183BAH3TR08FZGB</td>\n",
       "      <td>B0043T7FHK</td>\n",
       "      <td>5</td>\n",
       "      <td>I got this to run as a dual monitor.  This is ...</td>\n",
       "      <td>This is my second time purchasing this monitor...</td>\n",
       "      <td>2015-06-30</td>\n",
       "    </tr>\n",
       "    <tr>\n",
       "      <th>1</th>\n",
       "      <td>A0261431Y0V4MHWY4B7W</td>\n",
       "      <td>B00AFH2E8E</td>\n",
       "      <td>4</td>\n",
       "      <td>Not as good as I had hoped, music is very low,...</td>\n",
       "      <td>Bluetooth headset</td>\n",
       "      <td>2014-08-03</td>\n",
       "    </tr>\n",
       "    <tr>\n",
       "      <th>2</th>\n",
       "      <td>A034116598G557EYZ9BC</td>\n",
       "      <td>B0013FRNKG</td>\n",
       "      <td>5</td>\n",
       "      <td>Appreciate if product\\nNeed to buy one more if...</td>\n",
       "      <td>great value</td>\n",
       "      <td>2012-11-28</td>\n",
       "    </tr>\n",
       "    <tr>\n",
       "      <th>3</th>\n",
       "      <td>A0404374X0HL5T332XSN</td>\n",
       "      <td>B00MNOPS1C</td>\n",
       "      <td>3</td>\n",
       "      <td>You get what you pay for</td>\n",
       "      <td>Three Stars</td>\n",
       "      <td>2016-02-02</td>\n",
       "    </tr>\n",
       "    <tr>\n",
       "      <th>4</th>\n",
       "      <td>A0431622H67YR5IPJRN</td>\n",
       "      <td>B0058UUR6E</td>\n",
       "      <td>5</td>\n",
       "      <td>Arrived in 2 days. working great. Recommend to...</td>\n",
       "      <td>working great. Recommend to others</td>\n",
       "      <td>2015-03-11</td>\n",
       "    </tr>\n",
       "  </tbody>\n",
       "</table>\n",
       "</div>"
      ],
      "text/plain": [
       "                user_id  product_id  ratings  \\\n",
       "0  A0203183BAH3TR08FZGB  B0043T7FHK        5   \n",
       "1  A0261431Y0V4MHWY4B7W  B00AFH2E8E        4   \n",
       "2  A034116598G557EYZ9BC  B0013FRNKG        5   \n",
       "3  A0404374X0HL5T332XSN  B00MNOPS1C        3   \n",
       "4   A0431622H67YR5IPJRN  B0058UUR6E        5   \n",
       "\n",
       "                                         review_text  \\\n",
       "0  I got this to run as a dual monitor.  This is ...   \n",
       "1  Not as good as I had hoped, music is very low,...   \n",
       "2  Appreciate if product\\nNeed to buy one more if...   \n",
       "3                           You get what you pay for   \n",
       "4  Arrived in 2 days. working great. Recommend to...   \n",
       "\n",
       "                                             summary created_at  \n",
       "0  This is my second time purchasing this monitor... 2015-06-30  \n",
       "1                                  Bluetooth headset 2014-08-03  \n",
       "2                                        great value 2012-11-28  \n",
       "3                                        Three Stars 2016-02-02  \n",
       "4                 working great. Recommend to others 2015-03-11  "
      ]
     },
     "execution_count": 3,
     "metadata": {},
     "output_type": "execute_result"
    }
   ],
   "source": [
    "df_reviews.head()"
   ]
  },
  {
   "attachments": {},
   "cell_type": "markdown",
   "metadata": {},
   "source": [
    "##### Data Preprocessing"
   ]
  },
  {
   "cell_type": "code",
   "execution_count": 4,
   "metadata": {},
   "outputs": [],
   "source": [
    "def remove_html_tags(text: str):\n",
    "    return re.sub(re.compile('<.*?>|&([a-z0-9]+|#[0-9]{1,6}|#x[0-9a-f]{1,6});'), '', text)\n",
    "\n",
    "def remove_url(text: str):\n",
    "    return re.sub(r'https?://\\S+|www\\.\\S+', '', text)\n",
    "\n",
    "def clean_data(text: str):\n",
    "    text = remove_html_tags(text)\n",
    "    text = remove_url(text)\n",
    "    return text"
   ]
  },
  {
   "cell_type": "code",
   "execution_count": 5,
   "metadata": {},
   "outputs": [],
   "source": [
    "df_preprocessing_data = df_reviews[['user_id', 'product_id', 'review_text', 'summary']].copy()"
   ]
  },
  {
   "cell_type": "code",
   "execution_count": 6,
   "metadata": {},
   "outputs": [],
   "source": [
    "df_preprocessing_data['concatenated_review'] = df_preprocessing_data['review_text'] + ' ' + df_preprocessing_data['summary']\n",
    "\n",
    "df_preprocessing_data = df_preprocessing_data[['user_id', 'product_id', 'concatenated_review']]"
   ]
  },
  {
   "cell_type": "code",
   "execution_count": 7,
   "metadata": {},
   "outputs": [],
   "source": [
    "df_preprocessing_data['cleaned_review'] = df_preprocessing_data['concatenated_review'].apply(clean_data)\n",
    "\n",
    "df_preprocessing_data = df_preprocessing_data[['user_id', 'product_id', 'cleaned_review']]"
   ]
  },
  {
   "cell_type": "code",
   "execution_count": 8,
   "metadata": {},
   "outputs": [
    {
     "data": {
      "text/html": [
       "<div>\n",
       "<style scoped>\n",
       "    .dataframe tbody tr th:only-of-type {\n",
       "        vertical-align: middle;\n",
       "    }\n",
       "\n",
       "    .dataframe tbody tr th {\n",
       "        vertical-align: top;\n",
       "    }\n",
       "\n",
       "    .dataframe thead th {\n",
       "        text-align: right;\n",
       "    }\n",
       "</style>\n",
       "<table border=\"1\" class=\"dataframe\">\n",
       "  <thead>\n",
       "    <tr style=\"text-align: right;\">\n",
       "      <th></th>\n",
       "      <th>user_id</th>\n",
       "      <th>product_id</th>\n",
       "      <th>cleaned_review</th>\n",
       "    </tr>\n",
       "  </thead>\n",
       "  <tbody>\n",
       "    <tr>\n",
       "      <th>0</th>\n",
       "      <td>A0203183BAH3TR08FZGB</td>\n",
       "      <td>B0043T7FHK</td>\n",
       "      <td>I got this to run as a dual monitor.  This is ...</td>\n",
       "    </tr>\n",
       "    <tr>\n",
       "      <th>1</th>\n",
       "      <td>A0261431Y0V4MHWY4B7W</td>\n",
       "      <td>B00AFH2E8E</td>\n",
       "      <td>Not as good as I had hoped, music is very low,...</td>\n",
       "    </tr>\n",
       "    <tr>\n",
       "      <th>2</th>\n",
       "      <td>A034116598G557EYZ9BC</td>\n",
       "      <td>B0013FRNKG</td>\n",
       "      <td>Appreciate if product\\nNeed to buy one more if...</td>\n",
       "    </tr>\n",
       "    <tr>\n",
       "      <th>3</th>\n",
       "      <td>A0404374X0HL5T332XSN</td>\n",
       "      <td>B00MNOPS1C</td>\n",
       "      <td>You get what you pay for Three Stars</td>\n",
       "    </tr>\n",
       "    <tr>\n",
       "      <th>4</th>\n",
       "      <td>A0431622H67YR5IPJRN</td>\n",
       "      <td>B0058UUR6E</td>\n",
       "      <td>Arrived in 2 days. working great. Recommend to...</td>\n",
       "    </tr>\n",
       "  </tbody>\n",
       "</table>\n",
       "</div>"
      ],
      "text/plain": [
       "                user_id  product_id  \\\n",
       "0  A0203183BAH3TR08FZGB  B0043T7FHK   \n",
       "1  A0261431Y0V4MHWY4B7W  B00AFH2E8E   \n",
       "2  A034116598G557EYZ9BC  B0013FRNKG   \n",
       "3  A0404374X0HL5T332XSN  B00MNOPS1C   \n",
       "4   A0431622H67YR5IPJRN  B0058UUR6E   \n",
       "\n",
       "                                      cleaned_review  \n",
       "0  I got this to run as a dual monitor.  This is ...  \n",
       "1  Not as good as I had hoped, music is very low,...  \n",
       "2  Appreciate if product\\nNeed to buy one more if...  \n",
       "3               You get what you pay for Three Stars  \n",
       "4  Arrived in 2 days. working great. Recommend to...  "
      ]
     },
     "execution_count": 8,
     "metadata": {},
     "output_type": "execute_result"
    }
   ],
   "source": [
    "df_preprocessing_data.head()"
   ]
  },
  {
   "attachments": {},
   "cell_type": "markdown",
   "metadata": {},
   "source": [
    "##### Label Data"
   ]
  },
  {
   "cell_type": "code",
   "execution_count": 9,
   "metadata": {},
   "outputs": [],
   "source": [
    "sia = SentimentIntensityAnalyzer()\n",
    "\n",
    "def get_sentiment_matrix(text: str):\n",
    "    #scores = [sia.polarity_scores(sentence)[\"compound\"] for sentence in sent_tokenize(text)]\n",
    "\n",
    "    #compound_score = mean(scores)\n",
    "    compound_score = sia.polarity_scores(text)[\"compound\"]\n",
    "    \n",
    "    sentiment = 0\n",
    "\n",
    "    if compound_score >= 0.05:\n",
    "        sentiment = 1\n",
    "    elif compound_score <= -0.05:\n",
    "        sentiment = -1\n",
    "    \n",
    "    return pd.Series([compound_score, sentiment])"
   ]
  },
  {
   "cell_type": "code",
   "execution_count": 10,
   "metadata": {},
   "outputs": [],
   "source": [
    "df_preprocessing_data[[\n",
    "    'compound_score',\n",
    "    'sentiment'\n",
    "]] = df_preprocessing_data[\"cleaned_review\"].apply(lambda x: get_sentiment_matrix(x))\n",
    "\n",
    "df_preprocessing_data[['sentiment']] = df_preprocessing_data[['sentiment']].astype('Int64')"
   ]
  },
  {
   "cell_type": "code",
   "execution_count": 11,
   "metadata": {},
   "outputs": [
    {
     "data": {
      "text/html": [
       "<div>\n",
       "<style scoped>\n",
       "    .dataframe tbody tr th:only-of-type {\n",
       "        vertical-align: middle;\n",
       "    }\n",
       "\n",
       "    .dataframe tbody tr th {\n",
       "        vertical-align: top;\n",
       "    }\n",
       "\n",
       "    .dataframe thead th {\n",
       "        text-align: right;\n",
       "    }\n",
       "</style>\n",
       "<table border=\"1\" class=\"dataframe\">\n",
       "  <thead>\n",
       "    <tr style=\"text-align: right;\">\n",
       "      <th></th>\n",
       "      <th>user_id</th>\n",
       "      <th>product_id</th>\n",
       "      <th>cleaned_review</th>\n",
       "      <th>compound_score</th>\n",
       "      <th>sentiment</th>\n",
       "    </tr>\n",
       "  </thead>\n",
       "  <tbody>\n",
       "    <tr>\n",
       "      <th>0</th>\n",
       "      <td>A0203183BAH3TR08FZGB</td>\n",
       "      <td>B0043T7FHK</td>\n",
       "      <td>I got this to run as a dual monitor.  This is ...</td>\n",
       "      <td>0.9370</td>\n",
       "      <td>1</td>\n",
       "    </tr>\n",
       "    <tr>\n",
       "      <th>1</th>\n",
       "      <td>A0261431Y0V4MHWY4B7W</td>\n",
       "      <td>B00AFH2E8E</td>\n",
       "      <td>Not as good as I had hoped, music is very low,...</td>\n",
       "      <td>-0.1040</td>\n",
       "      <td>-1</td>\n",
       "    </tr>\n",
       "    <tr>\n",
       "      <th>2</th>\n",
       "      <td>A034116598G557EYZ9BC</td>\n",
       "      <td>B0013FRNKG</td>\n",
       "      <td>Appreciate if product\\nNeed to buy one more if...</td>\n",
       "      <td>0.8874</td>\n",
       "      <td>1</td>\n",
       "    </tr>\n",
       "    <tr>\n",
       "      <th>3</th>\n",
       "      <td>A0404374X0HL5T332XSN</td>\n",
       "      <td>B00MNOPS1C</td>\n",
       "      <td>You get what you pay for Three Stars</td>\n",
       "      <td>-0.1027</td>\n",
       "      <td>-1</td>\n",
       "    </tr>\n",
       "    <tr>\n",
       "      <th>4</th>\n",
       "      <td>A0431622H67YR5IPJRN</td>\n",
       "      <td>B0058UUR6E</td>\n",
       "      <td>Arrived in 2 days. working great. Recommend to...</td>\n",
       "      <td>0.9217</td>\n",
       "      <td>1</td>\n",
       "    </tr>\n",
       "  </tbody>\n",
       "</table>\n",
       "</div>"
      ],
      "text/plain": [
       "                user_id  product_id  \\\n",
       "0  A0203183BAH3TR08FZGB  B0043T7FHK   \n",
       "1  A0261431Y0V4MHWY4B7W  B00AFH2E8E   \n",
       "2  A034116598G557EYZ9BC  B0013FRNKG   \n",
       "3  A0404374X0HL5T332XSN  B00MNOPS1C   \n",
       "4   A0431622H67YR5IPJRN  B0058UUR6E   \n",
       "\n",
       "                                      cleaned_review  compound_score  \\\n",
       "0  I got this to run as a dual monitor.  This is ...          0.9370   \n",
       "1  Not as good as I had hoped, music is very low,...         -0.1040   \n",
       "2  Appreciate if product\\nNeed to buy one more if...          0.8874   \n",
       "3               You get what you pay for Three Stars         -0.1027   \n",
       "4  Arrived in 2 days. working great. Recommend to...          0.9217   \n",
       "\n",
       "   sentiment  \n",
       "0          1  \n",
       "1         -1  \n",
       "2          1  \n",
       "3         -1  \n",
       "4          1  "
      ]
     },
     "execution_count": 11,
     "metadata": {},
     "output_type": "execute_result"
    }
   ],
   "source": [
    "df_preprocessing_data.head()"
   ]
  },
  {
   "cell_type": "code",
   "execution_count": 12,
   "metadata": {},
   "outputs": [
    {
     "name": "stdout",
     "output_type": "stream",
     "text": [
      "1     50394\n",
      "-1     6850\n",
      "0      2317\n",
      "Name: sentiment, dtype: Int64\n"
     ]
    }
   ],
   "source": [
    "print(df_preprocessing_data[\"sentiment\"].value_counts())"
   ]
  },
  {
   "cell_type": "code",
   "execution_count": 13,
   "metadata": {},
   "outputs": [],
   "source": [
    "df_export = df_reviews.merge(\n",
    "    df_preprocessing_data.drop(columns=['cleaned_review', 'compound_score']), \n",
    "    how='inner', \n",
    "    on=['user_id', 'product_id'], \n",
    "    validate=\"one_to_one\"\n",
    ")"
   ]
  },
  {
   "cell_type": "code",
   "execution_count": 14,
   "metadata": {},
   "outputs": [
    {
     "data": {
      "text/html": [
       "<div>\n",
       "<style scoped>\n",
       "    .dataframe tbody tr th:only-of-type {\n",
       "        vertical-align: middle;\n",
       "    }\n",
       "\n",
       "    .dataframe tbody tr th {\n",
       "        vertical-align: top;\n",
       "    }\n",
       "\n",
       "    .dataframe thead th {\n",
       "        text-align: right;\n",
       "    }\n",
       "</style>\n",
       "<table border=\"1\" class=\"dataframe\">\n",
       "  <thead>\n",
       "    <tr style=\"text-align: right;\">\n",
       "      <th></th>\n",
       "      <th>user_id</th>\n",
       "      <th>product_id</th>\n",
       "      <th>ratings</th>\n",
       "      <th>review_text</th>\n",
       "      <th>summary</th>\n",
       "      <th>created_at</th>\n",
       "      <th>sentiment</th>\n",
       "    </tr>\n",
       "  </thead>\n",
       "  <tbody>\n",
       "    <tr>\n",
       "      <th>0</th>\n",
       "      <td>A0203183BAH3TR08FZGB</td>\n",
       "      <td>B0043T7FHK</td>\n",
       "      <td>5</td>\n",
       "      <td>I got this to run as a dual monitor.  This is ...</td>\n",
       "      <td>This is my second time purchasing this monitor...</td>\n",
       "      <td>2015-06-30</td>\n",
       "      <td>1</td>\n",
       "    </tr>\n",
       "    <tr>\n",
       "      <th>1</th>\n",
       "      <td>A0261431Y0V4MHWY4B7W</td>\n",
       "      <td>B00AFH2E8E</td>\n",
       "      <td>4</td>\n",
       "      <td>Not as good as I had hoped, music is very low,...</td>\n",
       "      <td>Bluetooth headset</td>\n",
       "      <td>2014-08-03</td>\n",
       "      <td>-1</td>\n",
       "    </tr>\n",
       "    <tr>\n",
       "      <th>2</th>\n",
       "      <td>A034116598G557EYZ9BC</td>\n",
       "      <td>B0013FRNKG</td>\n",
       "      <td>5</td>\n",
       "      <td>Appreciate if product\\nNeed to buy one more if...</td>\n",
       "      <td>great value</td>\n",
       "      <td>2012-11-28</td>\n",
       "      <td>1</td>\n",
       "    </tr>\n",
       "    <tr>\n",
       "      <th>3</th>\n",
       "      <td>A0404374X0HL5T332XSN</td>\n",
       "      <td>B00MNOPS1C</td>\n",
       "      <td>3</td>\n",
       "      <td>You get what you pay for</td>\n",
       "      <td>Three Stars</td>\n",
       "      <td>2016-02-02</td>\n",
       "      <td>-1</td>\n",
       "    </tr>\n",
       "    <tr>\n",
       "      <th>4</th>\n",
       "      <td>A0431622H67YR5IPJRN</td>\n",
       "      <td>B0058UUR6E</td>\n",
       "      <td>5</td>\n",
       "      <td>Arrived in 2 days. working great. Recommend to...</td>\n",
       "      <td>working great. Recommend to others</td>\n",
       "      <td>2015-03-11</td>\n",
       "      <td>1</td>\n",
       "    </tr>\n",
       "  </tbody>\n",
       "</table>\n",
       "</div>"
      ],
      "text/plain": [
       "                user_id  product_id  ratings  \\\n",
       "0  A0203183BAH3TR08FZGB  B0043T7FHK        5   \n",
       "1  A0261431Y0V4MHWY4B7W  B00AFH2E8E        4   \n",
       "2  A034116598G557EYZ9BC  B0013FRNKG        5   \n",
       "3  A0404374X0HL5T332XSN  B00MNOPS1C        3   \n",
       "4   A0431622H67YR5IPJRN  B0058UUR6E        5   \n",
       "\n",
       "                                         review_text  \\\n",
       "0  I got this to run as a dual monitor.  This is ...   \n",
       "1  Not as good as I had hoped, music is very low,...   \n",
       "2  Appreciate if product\\nNeed to buy one more if...   \n",
       "3                           You get what you pay for   \n",
       "4  Arrived in 2 days. working great. Recommend to...   \n",
       "\n",
       "                                             summary created_at  sentiment  \n",
       "0  This is my second time purchasing this monitor... 2015-06-30          1  \n",
       "1                                  Bluetooth headset 2014-08-03         -1  \n",
       "2                                        great value 2012-11-28          1  \n",
       "3                                        Three Stars 2016-02-02         -1  \n",
       "4                 working great. Recommend to others 2015-03-11          1  "
      ]
     },
     "execution_count": 14,
     "metadata": {},
     "output_type": "execute_result"
    }
   ],
   "source": [
    "df_export.head()"
   ]
  },
  {
   "attachments": {},
   "cell_type": "markdown",
   "metadata": {},
   "source": [
    "Export as Json"
   ]
  },
  {
   "cell_type": "code",
   "execution_count": 15,
   "metadata": {},
   "outputs": [],
   "source": [
    "df_export.to_json('../../data/interim/final/labelled_reviews_by_models.json.gz', compression=\"gzip\", orient=\"records\", indent=2)"
   ]
  }
 ],
 "metadata": {
  "kernelspec": {
   "display_name": "base",
   "language": "python",
   "name": "python3"
  },
  "language_info": {
   "codemirror_mode": {
    "name": "ipython",
    "version": 3
   },
   "file_extension": ".py",
   "mimetype": "text/x-python",
   "name": "python",
   "nbconvert_exporter": "python",
   "pygments_lexer": "ipython3",
   "version": "3.9.13"
  },
  "orig_nbformat": 4
 },
 "nbformat": 4,
 "nbformat_minor": 2
}
