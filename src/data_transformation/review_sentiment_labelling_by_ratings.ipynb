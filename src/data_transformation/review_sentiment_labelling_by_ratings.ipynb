{
 "cells": [
  {
   "cell_type": "code",
   "execution_count": 1,
   "metadata": {},
   "outputs": [],
   "source": [
    "import pandas as pd"
   ]
  },
  {
   "cell_type": "code",
   "execution_count": 2,
   "metadata": {},
   "outputs": [],
   "source": [
    "df_reviews = pd.read_json('../../data/interim/final/reviews.json.gz', orient=\"records\", compression=\"gzip\")"
   ]
  },
  {
   "cell_type": "code",
   "execution_count": 3,
   "metadata": {},
   "outputs": [
    {
     "data": {
      "text/html": [
       "<div>\n",
       "<style scoped>\n",
       "    .dataframe tbody tr th:only-of-type {\n",
       "        vertical-align: middle;\n",
       "    }\n",
       "\n",
       "    .dataframe tbody tr th {\n",
       "        vertical-align: top;\n",
       "    }\n",
       "\n",
       "    .dataframe thead th {\n",
       "        text-align: right;\n",
       "    }\n",
       "</style>\n",
       "<table border=\"1\" class=\"dataframe\">\n",
       "  <thead>\n",
       "    <tr style=\"text-align: right;\">\n",
       "      <th></th>\n",
       "      <th>user_id</th>\n",
       "      <th>product_id</th>\n",
       "      <th>ratings</th>\n",
       "      <th>review_text</th>\n",
       "      <th>summary</th>\n",
       "      <th>created_at</th>\n",
       "    </tr>\n",
       "  </thead>\n",
       "  <tbody>\n",
       "    <tr>\n",
       "      <th>0</th>\n",
       "      <td>A0203183BAH3TR08FZGB</td>\n",
       "      <td>B0043T7FHK</td>\n",
       "      <td>5</td>\n",
       "      <td>I got this to run as a dual monitor.  This is ...</td>\n",
       "      <td>This is my second time purchasing this monitor...</td>\n",
       "      <td>2015-06-30</td>\n",
       "    </tr>\n",
       "    <tr>\n",
       "      <th>1</th>\n",
       "      <td>A0261431Y0V4MHWY4B7W</td>\n",
       "      <td>B00AFH2E8E</td>\n",
       "      <td>4</td>\n",
       "      <td>Not as good as I had hoped, music is very low,...</td>\n",
       "      <td>Bluetooth headset</td>\n",
       "      <td>2014-08-03</td>\n",
       "    </tr>\n",
       "    <tr>\n",
       "      <th>2</th>\n",
       "      <td>A034116598G557EYZ9BC</td>\n",
       "      <td>B0013FRNKG</td>\n",
       "      <td>5</td>\n",
       "      <td>Appreciate if product\\nNeed to buy one more if...</td>\n",
       "      <td>great value</td>\n",
       "      <td>2012-11-28</td>\n",
       "    </tr>\n",
       "    <tr>\n",
       "      <th>3</th>\n",
       "      <td>A0404374X0HL5T332XSN</td>\n",
       "      <td>B00MNOPS1C</td>\n",
       "      <td>3</td>\n",
       "      <td>You get what you pay for</td>\n",
       "      <td>Three Stars</td>\n",
       "      <td>2016-02-02</td>\n",
       "    </tr>\n",
       "    <tr>\n",
       "      <th>4</th>\n",
       "      <td>A0431622H67YR5IPJRN</td>\n",
       "      <td>B0058UUR6E</td>\n",
       "      <td>5</td>\n",
       "      <td>Arrived in 2 days. working great. Recommend to...</td>\n",
       "      <td>working great. Recommend to others</td>\n",
       "      <td>2015-03-11</td>\n",
       "    </tr>\n",
       "  </tbody>\n",
       "</table>\n",
       "</div>"
      ],
      "text/plain": [
       "                user_id  product_id  ratings  \\\n",
       "0  A0203183BAH3TR08FZGB  B0043T7FHK        5   \n",
       "1  A0261431Y0V4MHWY4B7W  B00AFH2E8E        4   \n",
       "2  A034116598G557EYZ9BC  B0013FRNKG        5   \n",
       "3  A0404374X0HL5T332XSN  B00MNOPS1C        3   \n",
       "4   A0431622H67YR5IPJRN  B0058UUR6E        5   \n",
       "\n",
       "                                         review_text  \\\n",
       "0  I got this to run as a dual monitor.  This is ...   \n",
       "1  Not as good as I had hoped, music is very low,...   \n",
       "2  Appreciate if product\\nNeed to buy one more if...   \n",
       "3                           You get what you pay for   \n",
       "4  Arrived in 2 days. working great. Recommend to...   \n",
       "\n",
       "                                             summary created_at  \n",
       "0  This is my second time purchasing this monitor... 2015-06-30  \n",
       "1                                  Bluetooth headset 2014-08-03  \n",
       "2                                        great value 2012-11-28  \n",
       "3                                        Three Stars 2016-02-02  \n",
       "4                 working great. Recommend to others 2015-03-11  "
      ]
     },
     "execution_count": 3,
     "metadata": {},
     "output_type": "execute_result"
    }
   ],
   "source": [
    "df_reviews.head()"
   ]
  },
  {
   "cell_type": "code",
   "execution_count": 4,
   "metadata": {},
   "outputs": [],
   "source": [
    "df_reviews['sentiment'] = df_reviews['ratings'].apply(lambda x: 0 if x < 3 else 1)"
   ]
  },
  {
   "cell_type": "code",
   "execution_count": 5,
   "metadata": {},
   "outputs": [
    {
     "data": {
      "text/html": [
       "<div>\n",
       "<style scoped>\n",
       "    .dataframe tbody tr th:only-of-type {\n",
       "        vertical-align: middle;\n",
       "    }\n",
       "\n",
       "    .dataframe tbody tr th {\n",
       "        vertical-align: top;\n",
       "    }\n",
       "\n",
       "    .dataframe thead th {\n",
       "        text-align: right;\n",
       "    }\n",
       "</style>\n",
       "<table border=\"1\" class=\"dataframe\">\n",
       "  <thead>\n",
       "    <tr style=\"text-align: right;\">\n",
       "      <th></th>\n",
       "      <th>user_id</th>\n",
       "      <th>product_id</th>\n",
       "      <th>ratings</th>\n",
       "      <th>review_text</th>\n",
       "      <th>summary</th>\n",
       "      <th>created_at</th>\n",
       "      <th>sentiment</th>\n",
       "    </tr>\n",
       "  </thead>\n",
       "  <tbody>\n",
       "    <tr>\n",
       "      <th>0</th>\n",
       "      <td>A0203183BAH3TR08FZGB</td>\n",
       "      <td>B0043T7FHK</td>\n",
       "      <td>5</td>\n",
       "      <td>I got this to run as a dual monitor.  This is ...</td>\n",
       "      <td>This is my second time purchasing this monitor...</td>\n",
       "      <td>2015-06-30</td>\n",
       "      <td>1</td>\n",
       "    </tr>\n",
       "    <tr>\n",
       "      <th>1</th>\n",
       "      <td>A0261431Y0V4MHWY4B7W</td>\n",
       "      <td>B00AFH2E8E</td>\n",
       "      <td>4</td>\n",
       "      <td>Not as good as I had hoped, music is very low,...</td>\n",
       "      <td>Bluetooth headset</td>\n",
       "      <td>2014-08-03</td>\n",
       "      <td>1</td>\n",
       "    </tr>\n",
       "    <tr>\n",
       "      <th>2</th>\n",
       "      <td>A034116598G557EYZ9BC</td>\n",
       "      <td>B0013FRNKG</td>\n",
       "      <td>5</td>\n",
       "      <td>Appreciate if product\\nNeed to buy one more if...</td>\n",
       "      <td>great value</td>\n",
       "      <td>2012-11-28</td>\n",
       "      <td>1</td>\n",
       "    </tr>\n",
       "    <tr>\n",
       "      <th>3</th>\n",
       "      <td>A0404374X0HL5T332XSN</td>\n",
       "      <td>B00MNOPS1C</td>\n",
       "      <td>3</td>\n",
       "      <td>You get what you pay for</td>\n",
       "      <td>Three Stars</td>\n",
       "      <td>2016-02-02</td>\n",
       "      <td>1</td>\n",
       "    </tr>\n",
       "    <tr>\n",
       "      <th>4</th>\n",
       "      <td>A0431622H67YR5IPJRN</td>\n",
       "      <td>B0058UUR6E</td>\n",
       "      <td>5</td>\n",
       "      <td>Arrived in 2 days. working great. Recommend to...</td>\n",
       "      <td>working great. Recommend to others</td>\n",
       "      <td>2015-03-11</td>\n",
       "      <td>1</td>\n",
       "    </tr>\n",
       "  </tbody>\n",
       "</table>\n",
       "</div>"
      ],
      "text/plain": [
       "                user_id  product_id  ratings  \\\n",
       "0  A0203183BAH3TR08FZGB  B0043T7FHK        5   \n",
       "1  A0261431Y0V4MHWY4B7W  B00AFH2E8E        4   \n",
       "2  A034116598G557EYZ9BC  B0013FRNKG        5   \n",
       "3  A0404374X0HL5T332XSN  B00MNOPS1C        3   \n",
       "4   A0431622H67YR5IPJRN  B0058UUR6E        5   \n",
       "\n",
       "                                         review_text  \\\n",
       "0  I got this to run as a dual monitor.  This is ...   \n",
       "1  Not as good as I had hoped, music is very low,...   \n",
       "2  Appreciate if product\\nNeed to buy one more if...   \n",
       "3                           You get what you pay for   \n",
       "4  Arrived in 2 days. working great. Recommend to...   \n",
       "\n",
       "                                             summary created_at  sentiment  \n",
       "0  This is my second time purchasing this monitor... 2015-06-30          1  \n",
       "1                                  Bluetooth headset 2014-08-03          1  \n",
       "2                                        great value 2012-11-28          1  \n",
       "3                                        Three Stars 2016-02-02          1  \n",
       "4                 working great. Recommend to others 2015-03-11          1  "
      ]
     },
     "execution_count": 5,
     "metadata": {},
     "output_type": "execute_result"
    }
   ],
   "source": [
    "df_reviews.head()"
   ]
  },
  {
   "cell_type": "code",
   "execution_count": 6,
   "metadata": {},
   "outputs": [
    {
     "name": "stdout",
     "output_type": "stream",
     "text": [
      "1    52667\n",
      "0     6894\n",
      "Name: sentiment, dtype: int64\n"
     ]
    }
   ],
   "source": [
    "print(df_reviews[\"sentiment\"].value_counts())"
   ]
  },
  {
   "cell_type": "code",
   "execution_count": null,
   "metadata": {},
   "outputs": [],
   "source": [
    "df_reviews.to_json('../../data/interim/final/labelled_reviews_by_ratings.json.gz', compression=\"gzip\", orient=\"records\", indent=2)"
   ]
  }
 ],
 "metadata": {
  "kernelspec": {
   "display_name": "base",
   "language": "python",
   "name": "python3"
  },
  "language_info": {
   "codemirror_mode": {
    "name": "ipython",
    "version": 3
   },
   "file_extension": ".py",
   "mimetype": "text/x-python",
   "name": "python",
   "nbconvert_exporter": "python",
   "pygments_lexer": "ipython3",
   "version": "3.9.13"
  },
  "orig_nbformat": 4
 },
 "nbformat": 4,
 "nbformat_minor": 2
}
