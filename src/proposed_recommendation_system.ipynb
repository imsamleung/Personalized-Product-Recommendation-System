{
 "cells": [
  {
   "cell_type": "code",
   "execution_count": 251,
   "metadata": {},
   "outputs": [],
   "source": [
    "import pandas as pd\n",
    "import pickle\n",
    "\n",
    "from sklearn.preprocessing import MinMaxScaler\n",
    "\n",
    "pd.set_option('display.max_colwidth', 60)"
   ]
  },
  {
   "attachments": {},
   "cell_type": "markdown",
   "metadata": {},
   "source": [
    "Common Function"
   ]
  },
  {
   "cell_type": "code",
   "execution_count": 252,
   "metadata": {},
   "outputs": [],
   "source": [
    "def read_json(path):\n",
    "    return pd.read_json(path, orient=\"records\", compression=\"gzip\")"
   ]
  },
  {
   "cell_type": "code",
   "execution_count": 253,
   "metadata": {},
   "outputs": [],
   "source": [
    "df_products = read_json(f'../data/interim/final/products.json.gz')\n",
    "df_reviews = read_json('../data/interim/final/reviews.json.gz')\n",
    "df_users = read_json('../data/interim/final/reviews.json.gz')\n",
    "df_categories = read_json('../data/interim/final/categories.json.gz')\n",
    "df_products_categories = read_json('../data/interim/final/products_categories.json.gz')"
   ]
  },
  {
   "cell_type": "code",
   "execution_count": 254,
   "metadata": {},
   "outputs": [],
   "source": [
    "df_processed_products = pd.read_json('../data/processed/products.json.gz', orient=\"records\", compression=\"gzip\")\n",
    "df_processed_reviews = pd.read_json('../data/processed/reviews.json.gz', orient=\"records\", compression=\"gzip\")"
   ]
  },
  {
   "cell_type": "code",
   "execution_count": 255,
   "metadata": {},
   "outputs": [],
   "source": [
    "df_reviews['cleaned_review'] = df_processed_reviews['cleaned_review']\n",
    "\n",
    "df_products_reviews = df_products.merge(df_reviews, how='inner', on='product_id', validate='one_to_many'\n",
    ")[['product_id','cleaned_review']]"
   ]
  },
  {
   "attachments": {},
   "cell_type": "markdown",
   "metadata": {},
   "source": [
    "Content-based Filtering"
   ]
  },
  {
   "cell_type": "code",
   "execution_count": 256,
   "metadata": {},
   "outputs": [],
   "source": [
    "indices = pd.Series(df_products.index, index = df_products['product_id'])\n",
    "CB_item_similarity_matrix = pickle.load(open(f'../models/content_based_filtering/item_similarity_matrix.pkl', 'rb'))"
   ]
  },
  {
   "cell_type": "code",
   "execution_count": 257,
   "metadata": {},
   "outputs": [],
   "source": [
    "def content_based_filtering(product_id, n = 10):\n",
    "    idx = indices[product_id]\n",
    "\n",
    "    scores = pd.Series(CB_item_similarity_matrix[idx]).sort_values(ascending = False)\n",
    "    \n",
    "    top_n_idx = list(scores.iloc[1:n].index)\n",
    "\n",
    "    return df_products.iloc[top_n_idx]"
   ]
  },
  {
   "attachments": {},
   "cell_type": "markdown",
   "metadata": {},
   "source": [
    "Item-based collaborative Filtering "
   ]
  },
  {
   "cell_type": "code",
   "execution_count": 258,
   "metadata": {},
   "outputs": [],
   "source": [
    "item_based_rating_prediction_model = pickle.load(open('../models/item_based_collaborative_filtering/svd.pkl', 'rb'))\n",
    "item_similarity_model = pickle.load(open('../models/item_based_collaborative_filtering/svd.pkl', 'rb'))"
   ]
  },
  {
   "cell_type": "code",
   "execution_count": 259,
   "metadata": {},
   "outputs": [],
   "source": [
    "def predict_rating(user_id, item_id):\n",
    "    return item_based_rating_prediction_model.predict(user_id, item_id) \n",
    "\n",
    "def get_item_similarity(item_1, item_2):\n",
    "    return item_similarity_model.predict(item_1, item_2)\n",
    "\n",
    "def get_unrated_items(user_id):\n",
    "    df_1 = df_reviews[df_reviews['user_id'] == user_id]\n",
    "    return df_products[~df_products['product_id'].isin(df_1['product_id'])].copy()\n",
    "\n",
    "def item_based_collaborative_filtering(user_id, item_id):\n",
    "    df_unrated_items = get_unrated_items(user_id)\n",
    "    df_unrated_items['sim'] = df_unrated_items['product_id'].apply(lambda x : get_item_similarity(item_id, x).est)\n",
    "    df_unrated_items['pre'] = df_unrated_items['product_id'].apply(lambda x : predict_rating(user_id, x).est)\n",
    "    return df_unrated_items.sort_values(by=['pre'], ascending=False)"
   ]
  },
  {
   "attachments": {},
   "cell_type": "markdown",
   "metadata": {},
   "source": [
    "Sentiment Analysis"
   ]
  },
  {
   "cell_type": "code",
   "execution_count": 260,
   "metadata": {},
   "outputs": [],
   "source": [
    "sentiment_analysis_model = pickle.load(open('../models/sentiment_analysis/hyperparameter_tuning/logistic_regression_with_tfidf_vectorizer.pkl', 'rb'))"
   ]
  },
  {
   "cell_type": "code",
   "execution_count": 261,
   "metadata": {},
   "outputs": [],
   "source": [
    "# predict the average sentiment of all reviews for a product\n",
    "def predict_mean_sentiment(product_id:str):\n",
    "    review_list = df_products_reviews[df_products_reviews['product_id'] == product_id]['cleaned_review'].values.astype('U')\n",
    "    if (len(review_list) == 0): return 0\n",
    "    sentiment = predict_sentiment(review_list)\n",
    "    if(sentiment is None): return 0\n",
    "    return sentiment.mean()\n",
    "\n",
    "def predict_sentiment(features:list):\n",
    "    if (len(features) == 0): return\n",
    "    return sentiment_analysis_model.predict(features)"
   ]
  },
  {
   "attachments": {},
   "cell_type": "markdown",
   "metadata": {},
   "source": [
    "Proposed Recommendation Algorithm"
   ]
  },
  {
   "cell_type": "code",
   "execution_count": 262,
   "metadata": {},
   "outputs": [],
   "source": [
    "def recommend(user_id, item_id, n = 10):\n",
    "    df_unrated_items = item_based_collaborative_filtering(user_id, item_id)\n",
    "    df_unrated_items['sen'] = df_unrated_items['product_id'].apply(predict_mean_sentiment)\n",
    "    \n",
    "    scaler = MinMaxScaler(feature_range=(1, 5))\n",
    "    scaler.fit(df_unrated_items[['sen']])\n",
    "    \n",
    "    df_unrated_items['sen'] = scaler.transform(df_unrated_items[['sen']])\n",
    "    df_unrated_items['ranking_score'] = 1 * df_unrated_items['pre'] + 2 * df_unrated_items['sen']\n",
    "    \n",
    "    return df_unrated_items.sort_values(by=['ranking_score'], ascending = False).head(10)"
   ]
  },
  {
   "attachments": {},
   "cell_type": "markdown",
   "metadata": {},
   "source": [
    "Starting Point of the System"
   ]
  },
  {
   "cell_type": "code",
   "execution_count": 263,
   "metadata": {},
   "outputs": [],
   "source": [
    "user_id = 'A0203183BAH3TR08FZGB'\n",
    "product_id = 'B00004TLW2'"
   ]
  },
  {
   "cell_type": "code",
   "execution_count": 264,
   "metadata": {},
   "outputs": [],
   "source": [
    "item_list = recommend(user_id, product_id)"
   ]
  },
  {
   "cell_type": "code",
   "execution_count": 265,
   "metadata": {},
   "outputs": [
    {
     "data": {
      "text/html": [
       "<div>\n",
       "<style scoped>\n",
       "    .dataframe tbody tr th:only-of-type {\n",
       "        vertical-align: middle;\n",
       "    }\n",
       "\n",
       "    .dataframe tbody tr th {\n",
       "        vertical-align: top;\n",
       "    }\n",
       "\n",
       "    .dataframe thead th {\n",
       "        text-align: right;\n",
       "    }\n",
       "</style>\n",
       "<table border=\"1\" class=\"dataframe\">\n",
       "  <thead>\n",
       "    <tr style=\"text-align: right;\">\n",
       "      <th></th>\n",
       "      <th>product_id</th>\n",
       "      <th>name</th>\n",
       "      <th>description</th>\n",
       "    </tr>\n",
       "  </thead>\n",
       "  <tbody>\n",
       "    <tr>\n",
       "      <th>964</th>\n",
       "      <td>B00QD6H9TK</td>\n",
       "      <td>OfsPower OPS-1010B Bluetooth Earbuds, XS Earphones with ...</td>\n",
       "      <td>Excellent sounds quality Built with high-performance spe...</td>\n",
       "    </tr>\n",
       "    <tr>\n",
       "      <th>24</th>\n",
       "      <td>B0002A6YVC</td>\n",
       "      <td>Apple iBook Laptop 12&amp;quot; M9623LL/A (1.2 GHz PowerPC G...</td>\n",
       "      <td>iBook is the lightest all-in-one consumer notebook avail...</td>\n",
       "    </tr>\n",
       "    <tr>\n",
       "      <th>9</th>\n",
       "      <td>B00005UKBD</td>\n",
       "      <td>Sony DSCF707 Cyber-shot 5MP Digital Still Camera w/ 5x O...</td>\n",
       "      <td>Accurately realistic photos are captured using this digi...</td>\n",
       "    </tr>\n",
       "    <tr>\n",
       "      <th>638</th>\n",
       "      <td>B00H8J0JZW</td>\n",
       "      <td>Asus VN248H-P 24-Inch Full-HD LED Monitor</td>\n",
       "      <td>Full HD displays for amazing high-definition visual clar...</td>\n",
       "    </tr>\n",
       "    <tr>\n",
       "      <th>1102</th>\n",
       "      <td>B00W2I3Z3W</td>\n",
       "      <td>Canon EOS Rebel T6i 24.2MP Digital SLR Camera Bundle wit...</td>\n",
       "      <td>Packing a high resolution 24.2-megapixel CMOS sensor and...</td>\n",
       "    </tr>\n",
       "  </tbody>\n",
       "</table>\n",
       "</div>"
      ],
      "text/plain": [
       "      product_id                                                         name  \\\n",
       "964   B00QD6H9TK  OfsPower OPS-1010B Bluetooth Earbuds, XS Earphones with ...   \n",
       "24    B0002A6YVC  Apple iBook Laptop 12&quot; M9623LL/A (1.2 GHz PowerPC G...   \n",
       "9     B00005UKBD  Sony DSCF707 Cyber-shot 5MP Digital Still Camera w/ 5x O...   \n",
       "638   B00H8J0JZW                    Asus VN248H-P 24-Inch Full-HD LED Monitor   \n",
       "1102  B00W2I3Z3W  Canon EOS Rebel T6i 24.2MP Digital SLR Camera Bundle wit...   \n",
       "\n",
       "                                                      description  \n",
       "964   Excellent sounds quality Built with high-performance spe...  \n",
       "24    iBook is the lightest all-in-one consumer notebook avail...  \n",
       "9     Accurately realistic photos are captured using this digi...  \n",
       "638   Full HD displays for amazing high-definition visual clar...  \n",
       "1102  Packing a high resolution 24.2-megapixel CMOS sensor and...  "
      ]
     },
     "execution_count": 265,
     "metadata": {},
     "output_type": "execute_result"
    }
   ],
   "source": [
    "item_list[['product_id', 'name', 'description']].head(5)"
   ]
  },
  {
   "cell_type": "code",
   "execution_count": 266,
   "metadata": {},
   "outputs": [],
   "source": [
    "item_based_list = item_based_collaborative_filtering(user_id, product_id)"
   ]
  },
  {
   "cell_type": "code",
   "execution_count": 267,
   "metadata": {},
   "outputs": [
    {
     "data": {
      "text/html": [
       "<div>\n",
       "<style scoped>\n",
       "    .dataframe tbody tr th:only-of-type {\n",
       "        vertical-align: middle;\n",
       "    }\n",
       "\n",
       "    .dataframe tbody tr th {\n",
       "        vertical-align: top;\n",
       "    }\n",
       "\n",
       "    .dataframe thead th {\n",
       "        text-align: right;\n",
       "    }\n",
       "</style>\n",
       "<table border=\"1\" class=\"dataframe\">\n",
       "  <thead>\n",
       "    <tr style=\"text-align: right;\">\n",
       "      <th></th>\n",
       "      <th>product_id</th>\n",
       "      <th>name</th>\n",
       "      <th>description</th>\n",
       "      <th>price</th>\n",
       "      <th>image_url</th>\n",
       "      <th>sim</th>\n",
       "      <th>pre</th>\n",
       "    </tr>\n",
       "  </thead>\n",
       "  <tbody>\n",
       "    <tr>\n",
       "      <th>33</th>\n",
       "      <td>B0006HU56Q</td>\n",
       "      <td>Apple MacBook Pro MA611LL/A 17\" Notebook PC (2.33 GHz In...</td>\n",
       "      <td>17\" Macbook Pro 2.33GHz Intel Core 2 Duo (MA611LL/A) 2.3...</td>\n",
       "      <td>197.89</td>\n",
       "      <td>[https://images-na.ssl-images-amazon.com/images/I/41bHaA...</td>\n",
       "      <td>4.671126</td>\n",
       "      <td>4.751658</td>\n",
       "    </tr>\n",
       "    <tr>\n",
       "      <th>1124</th>\n",
       "      <td>B00X7QTTKG</td>\n",
       "      <td>Fujifilm X-T10 Body Black Mirrorless Digital Camera (Old...</td>\n",
       "      <td>Create your Lifegraphy with Fujifilm's new X-T10 camera.</td>\n",
       "      <td>1.60</td>\n",
       "      <td>[https://images-na.ssl-images-amazon.com/images/I/41ZdHL...</td>\n",
       "      <td>4.613868</td>\n",
       "      <td>4.676530</td>\n",
       "    </tr>\n",
       "    <tr>\n",
       "      <th>311</th>\n",
       "      <td>B006U49XM6</td>\n",
       "      <td>Nikon D4 16.2 MP CMOS FX Digital SLR with Full 1080p HD ...</td>\n",
       "      <td>Nikon D4 16.2 MP CMOS FX Digital SLR with Full 1080p HD ...</td>\n",
       "      <td>108.21</td>\n",
       "      <td>[https://images-na.ssl-images-amazon.com/images/I/31hZ6s...</td>\n",
       "      <td>4.586022</td>\n",
       "      <td>4.668424</td>\n",
       "    </tr>\n",
       "    <tr>\n",
       "      <th>234</th>\n",
       "      <td>B0049WJWJ0</td>\n",
       "      <td>Canon EOS 60D 18 MP CMOS Digital SLR Camera with EF-S 18...</td>\n",
       "      <td>With the new EOS 60D DSLR, Canon gives the photo enthusi...</td>\n",
       "      <td>699.99</td>\n",
       "      <td>[https://images-na.ssl-images-amazon.com/images/I/41HJMv...</td>\n",
       "      <td>4.621295</td>\n",
       "      <td>4.666409</td>\n",
       "    </tr>\n",
       "    <tr>\n",
       "      <th>1558</th>\n",
       "      <td>B01CO2JPYS</td>\n",
       "      <td>Canon EOS Rebel T6 Digital SLR Camera Kit with EF-S 18-5...</td>\n",
       "      <td>Canon T6 18MP CMOS DIGIC 4+ Image Processor Wi-Fi &amp; NFC ...</td>\n",
       "      <td>33.16</td>\n",
       "      <td>[https://images-na.ssl-images-amazon.com/images/I/41gk-i...</td>\n",
       "      <td>4.597404</td>\n",
       "      <td>4.663023</td>\n",
       "    </tr>\n",
       "  </tbody>\n",
       "</table>\n",
       "</div>"
      ],
      "text/plain": [
       "      product_id                                                         name  \\\n",
       "33    B0006HU56Q  Apple MacBook Pro MA611LL/A 17\" Notebook PC (2.33 GHz In...   \n",
       "1124  B00X7QTTKG  Fujifilm X-T10 Body Black Mirrorless Digital Camera (Old...   \n",
       "311   B006U49XM6  Nikon D4 16.2 MP CMOS FX Digital SLR with Full 1080p HD ...   \n",
       "234   B0049WJWJ0  Canon EOS 60D 18 MP CMOS Digital SLR Camera with EF-S 18...   \n",
       "1558  B01CO2JPYS  Canon EOS Rebel T6 Digital SLR Camera Kit with EF-S 18-5...   \n",
       "\n",
       "                                                      description   price  \\\n",
       "33    17\" Macbook Pro 2.33GHz Intel Core 2 Duo (MA611LL/A) 2.3...  197.89   \n",
       "1124     Create your Lifegraphy with Fujifilm's new X-T10 camera.    1.60   \n",
       "311   Nikon D4 16.2 MP CMOS FX Digital SLR with Full 1080p HD ...  108.21   \n",
       "234   With the new EOS 60D DSLR, Canon gives the photo enthusi...  699.99   \n",
       "1558  Canon T6 18MP CMOS DIGIC 4+ Image Processor Wi-Fi & NFC ...   33.16   \n",
       "\n",
       "                                                        image_url       sim  \\\n",
       "33    [https://images-na.ssl-images-amazon.com/images/I/41bHaA...  4.671126   \n",
       "1124  [https://images-na.ssl-images-amazon.com/images/I/41ZdHL...  4.613868   \n",
       "311   [https://images-na.ssl-images-amazon.com/images/I/31hZ6s...  4.586022   \n",
       "234   [https://images-na.ssl-images-amazon.com/images/I/41HJMv...  4.621295   \n",
       "1558  [https://images-na.ssl-images-amazon.com/images/I/41gk-i...  4.597404   \n",
       "\n",
       "           pre  \n",
       "33    4.751658  \n",
       "1124  4.676530  \n",
       "311   4.668424  \n",
       "234   4.666409  \n",
       "1558  4.663023  "
      ]
     },
     "execution_count": 267,
     "metadata": {},
     "output_type": "execute_result"
    }
   ],
   "source": [
    "item_based_list.head(5)"
   ]
  },
  {
   "cell_type": "code",
   "execution_count": 268,
   "metadata": {},
   "outputs": [],
   "source": [
    "content_based_list = content_based_filtering(product_id)"
   ]
  },
  {
   "cell_type": "code",
   "execution_count": 269,
   "metadata": {},
   "outputs": [
    {
     "data": {
      "text/html": [
       "<div>\n",
       "<style scoped>\n",
       "    .dataframe tbody tr th:only-of-type {\n",
       "        vertical-align: middle;\n",
       "    }\n",
       "\n",
       "    .dataframe tbody tr th {\n",
       "        vertical-align: top;\n",
       "    }\n",
       "\n",
       "    .dataframe thead th {\n",
       "        text-align: right;\n",
       "    }\n",
       "</style>\n",
       "<table border=\"1\" class=\"dataframe\">\n",
       "  <thead>\n",
       "    <tr style=\"text-align: right;\">\n",
       "      <th></th>\n",
       "      <th>product_id</th>\n",
       "      <th>name</th>\n",
       "      <th>description</th>\n",
       "      <th>price</th>\n",
       "      <th>image_url</th>\n",
       "    </tr>\n",
       "  </thead>\n",
       "  <tbody>\n",
       "    <tr>\n",
       "      <th>37</th>\n",
       "      <td>B0007GIXQK</td>\n",
       "      <td>Fujifilm Finepix A350 5.2MP Digital Camera with 3x Optic...</td>\n",
       "      <td>Fujifilm Finepix A350 5.2MP Digital Camera with 3x Optic...</td>\n",
       "      <td>35.00</td>\n",
       "      <td>[https://images-na.ssl-images-amazon.com/images/I/51A6X7...</td>\n",
       "    </tr>\n",
       "    <tr>\n",
       "      <th>38</th>\n",
       "      <td>B0007GIXQU</td>\n",
       "      <td>Fujifilm Finepix F10 6.3MP Digital Camera with 3x Optica...</td>\n",
       "      <td>Fujifilm Finepix F10 6.3MP Digital Camera with 3x Optica...</td>\n",
       "      <td>62.00</td>\n",
       "      <td>[https://images-na.ssl-images-amazon.com/images/I/41qjdI...</td>\n",
       "    </tr>\n",
       "    <tr>\n",
       "      <th>70</th>\n",
       "      <td>B000M4HLEC</td>\n",
       "      <td>Sony Cybershot DSC-T20 8MP Digital Camera with 3x Optica...</td>\n",
       "      <td>Sony Cybershot DSC-T20 8MP Digital Camera with 3x Optica...</td>\n",
       "      <td>49.95</td>\n",
       "      <td>[https://images-na.ssl-images-amazon.com/images/I/41uupA...</td>\n",
       "    </tr>\n",
       "    <tr>\n",
       "      <th>76</th>\n",
       "      <td>B000NBOA0M</td>\n",
       "      <td>Olympus Stylus FE-250 8.0MP Digital Camera with 3x Optic...</td>\n",
       "      <td>Olympus FE250 8.0MP Digital Camera 3x optical zoom 2.5\" ...</td>\n",
       "      <td>79.95</td>\n",
       "      <td>[https://images-na.ssl-images-amazon.com/images/I/51Bics...</td>\n",
       "    </tr>\n",
       "    <tr>\n",
       "      <th>71</th>\n",
       "      <td>B000M4KXEC</td>\n",
       "      <td>Sony Cybershot DSCW55 7.2MP Digital Camera with 3x Optic...</td>\n",
       "      <td>Sony Cybershot DSCW55 7.2MP Digital Camera with 3x Optic...</td>\n",
       "      <td>39.99</td>\n",
       "      <td>[https://images-na.ssl-images-amazon.com/images/I/51eu61...</td>\n",
       "    </tr>\n",
       "  </tbody>\n",
       "</table>\n",
       "</div>"
      ],
      "text/plain": [
       "    product_id                                                         name  \\\n",
       "37  B0007GIXQK  Fujifilm Finepix A350 5.2MP Digital Camera with 3x Optic...   \n",
       "38  B0007GIXQU  Fujifilm Finepix F10 6.3MP Digital Camera with 3x Optica...   \n",
       "70  B000M4HLEC  Sony Cybershot DSC-T20 8MP Digital Camera with 3x Optica...   \n",
       "76  B000NBOA0M  Olympus Stylus FE-250 8.0MP Digital Camera with 3x Optic...   \n",
       "71  B000M4KXEC  Sony Cybershot DSCW55 7.2MP Digital Camera with 3x Optic...   \n",
       "\n",
       "                                                    description  price  \\\n",
       "37  Fujifilm Finepix A350 5.2MP Digital Camera with 3x Optic...  35.00   \n",
       "38  Fujifilm Finepix F10 6.3MP Digital Camera with 3x Optica...  62.00   \n",
       "70  Sony Cybershot DSC-T20 8MP Digital Camera with 3x Optica...  49.95   \n",
       "76  Olympus FE250 8.0MP Digital Camera 3x optical zoom 2.5\" ...  79.95   \n",
       "71  Sony Cybershot DSCW55 7.2MP Digital Camera with 3x Optic...  39.99   \n",
       "\n",
       "                                                      image_url  \n",
       "37  [https://images-na.ssl-images-amazon.com/images/I/51A6X7...  \n",
       "38  [https://images-na.ssl-images-amazon.com/images/I/41qjdI...  \n",
       "70  [https://images-na.ssl-images-amazon.com/images/I/41uupA...  \n",
       "76  [https://images-na.ssl-images-amazon.com/images/I/51Bics...  \n",
       "71  [https://images-na.ssl-images-amazon.com/images/I/51eu61...  "
      ]
     },
     "execution_count": 269,
     "metadata": {},
     "output_type": "execute_result"
    }
   ],
   "source": [
    "content_based_list.head(5)"
   ]
  },
  {
   "cell_type": "code",
   "execution_count": 270,
   "metadata": {},
   "outputs": [
    {
     "data": {
      "text/html": [
       "<div>\n",
       "<style scoped>\n",
       "    .dataframe tbody tr th:only-of-type {\n",
       "        vertical-align: middle;\n",
       "    }\n",
       "\n",
       "    .dataframe tbody tr th {\n",
       "        vertical-align: top;\n",
       "    }\n",
       "\n",
       "    .dataframe thead th {\n",
       "        text-align: right;\n",
       "    }\n",
       "</style>\n",
       "<table border=\"1\" class=\"dataframe\">\n",
       "  <thead>\n",
       "    <tr style=\"text-align: right;\">\n",
       "      <th></th>\n",
       "      <th>product_id</th>\n",
       "      <th>name</th>\n",
       "      <th>description</th>\n",
       "    </tr>\n",
       "  </thead>\n",
       "  <tbody>\n",
       "    <tr>\n",
       "      <th>964</th>\n",
       "      <td>B00QD6H9TK</td>\n",
       "      <td>OfsPower OPS-1010B Bluetooth Earbuds, XS Earphones with ...</td>\n",
       "      <td>Excellent sounds quality Built with high-performance spe...</td>\n",
       "    </tr>\n",
       "    <tr>\n",
       "      <th>24</th>\n",
       "      <td>B0002A6YVC</td>\n",
       "      <td>Apple iBook Laptop 12&amp;quot; M9623LL/A (1.2 GHz PowerPC G...</td>\n",
       "      <td>iBook is the lightest all-in-one consumer notebook avail...</td>\n",
       "    </tr>\n",
       "    <tr>\n",
       "      <th>9</th>\n",
       "      <td>B00005UKBD</td>\n",
       "      <td>Sony DSCF707 Cyber-shot 5MP Digital Still Camera w/ 5x O...</td>\n",
       "      <td>Accurately realistic photos are captured using this digi...</td>\n",
       "    </tr>\n",
       "    <tr>\n",
       "      <th>638</th>\n",
       "      <td>B00H8J0JZW</td>\n",
       "      <td>Asus VN248H-P 24-Inch Full-HD LED Monitor</td>\n",
       "      <td>Full HD displays for amazing high-definition visual clar...</td>\n",
       "    </tr>\n",
       "    <tr>\n",
       "      <th>1102</th>\n",
       "      <td>B00W2I3Z3W</td>\n",
       "      <td>Canon EOS Rebel T6i 24.2MP Digital SLR Camera Bundle wit...</td>\n",
       "      <td>Packing a high resolution 24.2-megapixel CMOS sensor and...</td>\n",
       "    </tr>\n",
       "    <tr>\n",
       "      <th>36</th>\n",
       "      <td>B0007CZ2UO</td>\n",
       "      <td>Olympus Camedia C5500 5.1MP Digital Camera with 5x Optic...</td>\n",
       "      <td>This Olympus Sport Zoom digital camera is as durable as ...</td>\n",
       "    </tr>\n",
       "    <tr>\n",
       "      <th>443</th>\n",
       "      <td>B00BBGMD16</td>\n",
       "      <td>Chic Tangle Free Arts Earbud Headphones with Microphone,...</td>\n",
       "      <td>Say bye-bye to blase earbuds and hello to a new world of...</td>\n",
       "    </tr>\n",
       "    <tr>\n",
       "      <th>1233</th>\n",
       "      <td>B013KKFMOK</td>\n",
       "      <td>HP Pavilion 23-q120 23-Inch All-in-One Desktop (Intel Co...</td>\n",
       "      <td>HP Pavilion 23-q120 All-in-One</td>\n",
       "    </tr>\n",
       "    <tr>\n",
       "      <th>232</th>\n",
       "      <td>B0047DVW30</td>\n",
       "      <td>Apple MacBook Air MC504LL/A 13.3-Inch Laptop (OLD VERSION)</td>\n",
       "      <td>Introducing the new MacBook Air, the most mobile Mac in ...</td>\n",
       "    </tr>\n",
       "    <tr>\n",
       "      <th>194</th>\n",
       "      <td>B0035JD0C8</td>\n",
       "      <td>Fujifilm FinePix JZ300 12 MP Digital Camera with 10x Wid...</td>\n",
       "      <td>Fujifilm FinePix JZ300 - 12MP, Fujinon 10x Wide Optical ...</td>\n",
       "    </tr>\n",
       "  </tbody>\n",
       "</table>\n",
       "</div>"
      ],
      "text/plain": [
       "      product_id                                                         name  \\\n",
       "964   B00QD6H9TK  OfsPower OPS-1010B Bluetooth Earbuds, XS Earphones with ...   \n",
       "24    B0002A6YVC  Apple iBook Laptop 12&quot; M9623LL/A (1.2 GHz PowerPC G...   \n",
       "9     B00005UKBD  Sony DSCF707 Cyber-shot 5MP Digital Still Camera w/ 5x O...   \n",
       "638   B00H8J0JZW                    Asus VN248H-P 24-Inch Full-HD LED Monitor   \n",
       "1102  B00W2I3Z3W  Canon EOS Rebel T6i 24.2MP Digital SLR Camera Bundle wit...   \n",
       "36    B0007CZ2UO  Olympus Camedia C5500 5.1MP Digital Camera with 5x Optic...   \n",
       "443   B00BBGMD16  Chic Tangle Free Arts Earbud Headphones with Microphone,...   \n",
       "1233  B013KKFMOK  HP Pavilion 23-q120 23-Inch All-in-One Desktop (Intel Co...   \n",
       "232   B0047DVW30   Apple MacBook Air MC504LL/A 13.3-Inch Laptop (OLD VERSION)   \n",
       "194   B0035JD0C8  Fujifilm FinePix JZ300 12 MP Digital Camera with 10x Wid...   \n",
       "\n",
       "                                                      description  \n",
       "964   Excellent sounds quality Built with high-performance spe...  \n",
       "24    iBook is the lightest all-in-one consumer notebook avail...  \n",
       "9     Accurately realistic photos are captured using this digi...  \n",
       "638   Full HD displays for amazing high-definition visual clar...  \n",
       "1102  Packing a high resolution 24.2-megapixel CMOS sensor and...  \n",
       "36    This Olympus Sport Zoom digital camera is as durable as ...  \n",
       "443   Say bye-bye to blase earbuds and hello to a new world of...  \n",
       "1233                               HP Pavilion 23-q120 All-in-One  \n",
       "232   Introducing the new MacBook Air, the most mobile Mac in ...  \n",
       "194   Fujifilm FinePix JZ300 - 12MP, Fujinon 10x Wide Optical ...  "
      ]
     },
     "execution_count": 270,
     "metadata": {},
     "output_type": "execute_result"
    }
   ],
   "source": [
    "items[['product_id', 'name', 'description']].head(10)"
   ]
  }
 ],
 "metadata": {
  "kernelspec": {
   "display_name": "base",
   "language": "python",
   "name": "python3"
  },
  "language_info": {
   "codemirror_mode": {
    "name": "ipython",
    "version": 3
   },
   "file_extension": ".py",
   "mimetype": "text/x-python",
   "name": "python",
   "nbconvert_exporter": "python",
   "pygments_lexer": "ipython3",
   "version": "3.9.13"
  },
  "orig_nbformat": 4
 },
 "nbformat": 4,
 "nbformat_minor": 2
}
